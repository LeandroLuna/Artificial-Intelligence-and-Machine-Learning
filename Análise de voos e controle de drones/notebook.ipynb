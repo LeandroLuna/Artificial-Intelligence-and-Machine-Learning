{
 "cells": [
  {
   "cell_type": "markdown",
   "metadata": {
    "id": "iF6b9DpI3obg"
   },
   "source": [
    "## Objetivo:\n",
    "\n",
    "Aplicar técnicas de Aprendizado de Máquina e Inteligência Artificial na análise de voos e no controle de drones."
   ]
  },
  {
   "cell_type": "markdown",
   "metadata": {},
   "source": [
    "## Instruções: \n",
    "\n",
    "* Datasets: <code>parametros_gerais.csv</code> e <code>sensores_voo.csv</code>."
   ]
  },
  {
   "cell_type": "code",
   "execution_count": 1,
   "metadata": {
    "colab": {
     "base_uri": "https://localhost:8080/"
    },
    "executionInfo": {
     "elapsed": 33231,
     "status": "ok",
     "timestamp": 1667908405818,
     "user": {
      "displayName": "Leandro Luna",
      "userId": "00217320943669558162"
     },
     "user_tz": 180
    },
    "id": "IZm0SE_d3-Hn",
    "outputId": "0e331ad9-ba7d-4da4-8966-a905587811f8"
   },
   "outputs": [
    {
     "name": "stdout",
     "output_type": "stream",
     "text": [
      "Mounted at /content/drive\n"
     ]
    }
   ],
   "source": [
    "# Conecta ao Google Drive para carregar os dados CSV.\n",
    "from google.colab import drive\n",
    "drive.mount('/content/drive')"
   ]
  },
  {
   "cell_type": "code",
   "execution_count": 2,
   "metadata": {
    "colab": {
     "base_uri": "https://localhost:8080/"
    },
    "executionInfo": {
     "elapsed": 9259,
     "status": "ok",
     "timestamp": 1667908415071,
     "user": {
      "displayName": "Leandro Luna",
      "userId": "00217320943669558162"
     },
     "user_tz": 180
    },
    "id": "U5gb2QN1TrGj",
    "outputId": "21f88b0b-f331-4304-85ba-186cf72934a6"
   },
   "outputs": [
    {
     "name": "stdout",
     "output_type": "stream",
     "text": [
      "Looking in indexes: https://pypi.org/simple, https://us-python.pkg.dev/colab-wheels/public/simple/\n",
      "Collecting scikit-fuzzy\n",
      "  Downloading scikit-fuzzy-0.4.2.tar.gz (993 kB)\n",
      "\u001b[K     |████████████████████████████████| 993 kB 5.2 MB/s \n",
      "\u001b[?25hRequirement already satisfied: numpy>=1.6.0 in /usr/local/lib/python3.7/dist-packages (from scikit-fuzzy) (1.21.6)\n",
      "Requirement already satisfied: scipy>=0.9.0 in /usr/local/lib/python3.7/dist-packages (from scikit-fuzzy) (1.7.3)\n",
      "Requirement already satisfied: networkx>=1.9.0 in /usr/local/lib/python3.7/dist-packages (from scikit-fuzzy) (2.6.3)\n",
      "Building wheels for collected packages: scikit-fuzzy\n",
      "  Building wheel for scikit-fuzzy (setup.py) ... \u001b[?25l\u001b[?25hdone\n",
      "  Created wheel for scikit-fuzzy: filename=scikit_fuzzy-0.4.2-py3-none-any.whl size=894089 sha256=220b390bee304f29a9000b2e23ff3ef7ae071f5a4b75d7c91cc760e77ef4c9df\n",
      "  Stored in directory: /root/.cache/pip/wheels/d5/74/fc/38588a3d2e3f34f74588e6daa3aa5b0a322bd6f9420a707131\n",
      "Successfully built scikit-fuzzy\n",
      "Installing collected packages: scikit-fuzzy\n",
      "Successfully installed scikit-fuzzy-0.4.2\n"
     ]
    }
   ],
   "source": [
    "# Bibliotecas\n",
    "## Geral\n",
    "import pandas as pd  # Trabalhar com tabelas\n",
    "import numpy as np # Trabalhar com números\n",
    "from sklearn.model_selection import train_test_split # Separação de dados\n",
    "import statistics\n",
    "from sklearn.model_selection import GridSearchCV # Ajuste de hiperparâmetros\n",
    "\n",
    "## Gráficos\n",
    "import matplotlib\n",
    "import matplotlib.pyplot as plt \n",
    "import seaborn as sns\n",
    "from sklearn.tree import plot_tree \n",
    "from matplotlib import colors\n",
    "import scipy.cluster.hierarchy as sch   # Dendograma\n",
    "\n",
    "## Regressão\n",
    "from sklearn.linear_model import LinearRegression  \n",
    "from sklearn.svm import SVR                     \n",
    "from sklearn.tree import DecisionTreeRegressor\n",
    "\n",
    "## Classificação\n",
    "from sklearn.svm import LinearSVC\n",
    "from sklearn.discriminant_analysis import LinearDiscriminantAnalysis \n",
    "from sklearn.neighbors import KNeighborsClassifier\n",
    "from sklearn.ensemble import RandomForestClassifier\n",
    "\n",
    "## Clustering\n",
    "from sklearn.cluster import KMeans, AgglomerativeClustering, DBSCAN, AgglomerativeClustering\n",
    "from sklearn.mixture import GaussianMixture\n",
    "\n",
    "## Aprendizado de Máquina - Redução de dimensionalidade\n",
    "from sklearn.decomposition import PCA, KernelPCA   \n",
    "from sklearn.manifold import TSNE, Isomap \n",
    "\n",
    "from sklearn.feature_selection import RFE\n",
    "from sklearn.linear_model import LogisticRegression\n",
    "\n",
    "## Escalonador\n",
    "from sklearn.preprocessing import StandardScaler, MinMaxScaler\n",
    "\n",
    "# Lógica Fuzzy\n",
    "!pip install -U scikit-fuzzy # Para instalar biblioteca de Lógica Fuzzy\n",
    "import skfuzzy as fz\n",
    "from skfuzzy import control as ctrl\n",
    "\n",
    "## Análise de desempenho\n",
    "from sklearn.metrics import ConfusionMatrixDisplay, confusion_matrix, classification_report, plot_confusion_matrix, classification_report, mean_squared_error, mean_absolute_error, r2_score, silhouette_score, cohen_kappa_score, roc_auc_score, roc_curve, make_scorer, accuracy_score, adjusted_rand_score, recall_score # Métricas de desempenho\n",
    "from scipy import spatial # Calcular similaridade do cosseno\n",
    "from scipy.stats import pearsonr"
   ]
  },
  {
   "cell_type": "markdown",
   "metadata": {
    "id": "FGZEvtn73obl"
   },
   "source": [
    "--------------------------------------\n",
    "# Parte A -  Parâmetros Gerais de múltiplos voos\n",
    "\n",
    "Dataset (<code>parametros_gerais.csv</code>):\n",
    "\n",
    "- **flight:** número do voo;\n",
    "- **speed:** velocidade média durante o voo (m/s)\n",
    "- **payload:** peso da carga transportada (g)\n",
    "- **altitude:** altitude de cruzeiro predefinida (m)\n",
    "- **date:** data do voo\n",
    "- **local_time:** horário em que o voo ocorreu \n",
    "- **total_energy:** energia total consumida da bateria (J)\n",
    "- **mean_wind_speed:** velocidade média do vento (m/s)\n",
    "- **flight_duration:** tempo total de duração do voo (s)"
   ]
  },
  {
   "cell_type": "markdown",
   "metadata": {
    "id": "fZ9kfBz_3obl"
   },
   "source": [
    "## Análise Exploratória:"
   ]
  },
  {
   "cell_type": "markdown",
   "metadata": {
    "id": "NQcJS12T7rJC"
   },
   "source": [
    "### Análise inicial"
   ]
  },
  {
   "cell_type": "code",
   "execution_count": 3,
   "metadata": {
    "executionInfo": {
     "elapsed": 424,
     "status": "ok",
     "timestamp": 1667908415486,
     "user": {
      "displayName": "Leandro Luna",
      "userId": "00217320943669558162"
     },
     "user_tz": 180
    },
    "id": "cjxL8jhd3obm"
   },
   "outputs": [],
   "source": [
    "# Carregando dados do dataset 'parametros_gerais.csv'\n",
    "dados_parametros = pd.read_csv('/content/drive/MyDrive/Colab Notebooks/GS2/parametros_gerais.csv', sep=',') "
   ]
  },
  {
   "cell_type": "code",
   "execution_count": 4,
   "metadata": {
    "colab": {
     "base_uri": "https://localhost:8080/",
     "height": 204
    },
    "executionInfo": {
     "elapsed": 15,
     "status": "ok",
     "timestamp": 1667908415487,
     "user": {
      "displayName": "Leandro Luna",
      "userId": "00217320943669558162"
     },
     "user_tz": 180
    },
    "id": "ZxQOsCak3g3g",
    "outputId": "68e437b2-da61-41a4-8c91-7113896c4690"
   },
   "outputs": [
    {
     "data": {
      "text/html": [
       "\n",
       "  <div id=\"df-0b5048de-7f1a-4272-afeb-6b5fe00b5d38\">\n",
       "    <div class=\"colab-df-container\">\n",
       "      <div>\n",
       "<style scoped>\n",
       "    .dataframe tbody tr th:only-of-type {\n",
       "        vertical-align: middle;\n",
       "    }\n",
       "\n",
       "    .dataframe tbody tr th {\n",
       "        vertical-align: top;\n",
       "    }\n",
       "\n",
       "    .dataframe thead th {\n",
       "        text-align: right;\n",
       "    }\n",
       "</style>\n",
       "<table border=\"1\" class=\"dataframe\">\n",
       "  <thead>\n",
       "    <tr style=\"text-align: right;\">\n",
       "      <th></th>\n",
       "      <th>flight</th>\n",
       "      <th>speed</th>\n",
       "      <th>payload</th>\n",
       "      <th>altitude</th>\n",
       "      <th>date</th>\n",
       "      <th>local_time</th>\n",
       "      <th>route</th>\n",
       "      <th>total_energy</th>\n",
       "      <th>mean_wind_speed</th>\n",
       "      <th>flight_duration</th>\n",
       "    </tr>\n",
       "  </thead>\n",
       "  <tbody>\n",
       "    <tr>\n",
       "      <th>0</th>\n",
       "      <td>1</td>\n",
       "      <td>4.0</td>\n",
       "      <td>0.0</td>\n",
       "      <td>25</td>\n",
       "      <td>2019-04-07</td>\n",
       "      <td>10:13</td>\n",
       "      <td>non R1</td>\n",
       "      <td>78473</td>\n",
       "      <td>3.90</td>\n",
       "      <td>200.7</td>\n",
       "    </tr>\n",
       "    <tr>\n",
       "      <th>1</th>\n",
       "      <td>2</td>\n",
       "      <td>4.0</td>\n",
       "      <td>0.0</td>\n",
       "      <td>50</td>\n",
       "      <td>2019-04-07</td>\n",
       "      <td>10:23</td>\n",
       "      <td>non R1</td>\n",
       "      <td>91363</td>\n",
       "      <td>3.52</td>\n",
       "      <td>271.2</td>\n",
       "    </tr>\n",
       "    <tr>\n",
       "      <th>2</th>\n",
       "      <td>3</td>\n",
       "      <td>6.0</td>\n",
       "      <td>0.0</td>\n",
       "      <td>25</td>\n",
       "      <td>2019-04-07</td>\n",
       "      <td>10:33</td>\n",
       "      <td>non R1</td>\n",
       "      <td>61487</td>\n",
       "      <td>4.58</td>\n",
       "      <td>180.1</td>\n",
       "    </tr>\n",
       "    <tr>\n",
       "      <th>3</th>\n",
       "      <td>4</td>\n",
       "      <td>8.0</td>\n",
       "      <td>0.0</td>\n",
       "      <td>25</td>\n",
       "      <td>2019-04-07</td>\n",
       "      <td>10:48</td>\n",
       "      <td>non R1</td>\n",
       "      <td>52915</td>\n",
       "      <td>4.60</td>\n",
       "      <td>171.0</td>\n",
       "    </tr>\n",
       "    <tr>\n",
       "      <th>4</th>\n",
       "      <td>5</td>\n",
       "      <td>4.0</td>\n",
       "      <td>0.0</td>\n",
       "      <td>25</td>\n",
       "      <td>2019-04-07</td>\n",
       "      <td>11:05</td>\n",
       "      <td>non R1</td>\n",
       "      <td>68589</td>\n",
       "      <td>3.33</td>\n",
       "      <td>217.0</td>\n",
       "    </tr>\n",
       "  </tbody>\n",
       "</table>\n",
       "</div>\n",
       "      <button class=\"colab-df-convert\" onclick=\"convertToInteractive('df-0b5048de-7f1a-4272-afeb-6b5fe00b5d38')\"\n",
       "              title=\"Convert this dataframe to an interactive table.\"\n",
       "              style=\"display:none;\">\n",
       "        \n",
       "  <svg xmlns=\"http://www.w3.org/2000/svg\" height=\"24px\"viewBox=\"0 0 24 24\"\n",
       "       width=\"24px\">\n",
       "    <path d=\"M0 0h24v24H0V0z\" fill=\"none\"/>\n",
       "    <path d=\"M18.56 5.44l.94 2.06.94-2.06 2.06-.94-2.06-.94-.94-2.06-.94 2.06-2.06.94zm-11 1L8.5 8.5l.94-2.06 2.06-.94-2.06-.94L8.5 2.5l-.94 2.06-2.06.94zm10 10l.94 2.06.94-2.06 2.06-.94-2.06-.94-.94-2.06-.94 2.06-2.06.94z\"/><path d=\"M17.41 7.96l-1.37-1.37c-.4-.4-.92-.59-1.43-.59-.52 0-1.04.2-1.43.59L10.3 9.45l-7.72 7.72c-.78.78-.78 2.05 0 2.83L4 21.41c.39.39.9.59 1.41.59.51 0 1.02-.2 1.41-.59l7.78-7.78 2.81-2.81c.8-.78.8-2.07 0-2.86zM5.41 20L4 18.59l7.72-7.72 1.47 1.35L5.41 20z\"/>\n",
       "  </svg>\n",
       "      </button>\n",
       "      \n",
       "  <style>\n",
       "    .colab-df-container {\n",
       "      display:flex;\n",
       "      flex-wrap:wrap;\n",
       "      gap: 12px;\n",
       "    }\n",
       "\n",
       "    .colab-df-convert {\n",
       "      background-color: #E8F0FE;\n",
       "      border: none;\n",
       "      border-radius: 50%;\n",
       "      cursor: pointer;\n",
       "      display: none;\n",
       "      fill: #1967D2;\n",
       "      height: 32px;\n",
       "      padding: 0 0 0 0;\n",
       "      width: 32px;\n",
       "    }\n",
       "\n",
       "    .colab-df-convert:hover {\n",
       "      background-color: #E2EBFA;\n",
       "      box-shadow: 0px 1px 2px rgba(60, 64, 67, 0.3), 0px 1px 3px 1px rgba(60, 64, 67, 0.15);\n",
       "      fill: #174EA6;\n",
       "    }\n",
       "\n",
       "    [theme=dark] .colab-df-convert {\n",
       "      background-color: #3B4455;\n",
       "      fill: #D2E3FC;\n",
       "    }\n",
       "\n",
       "    [theme=dark] .colab-df-convert:hover {\n",
       "      background-color: #434B5C;\n",
       "      box-shadow: 0px 1px 3px 1px rgba(0, 0, 0, 0.15);\n",
       "      filter: drop-shadow(0px 1px 2px rgba(0, 0, 0, 0.3));\n",
       "      fill: #FFFFFF;\n",
       "    }\n",
       "  </style>\n",
       "\n",
       "      <script>\n",
       "        const buttonEl =\n",
       "          document.querySelector('#df-0b5048de-7f1a-4272-afeb-6b5fe00b5d38 button.colab-df-convert');\n",
       "        buttonEl.style.display =\n",
       "          google.colab.kernel.accessAllowed ? 'block' : 'none';\n",
       "\n",
       "        async function convertToInteractive(key) {\n",
       "          const element = document.querySelector('#df-0b5048de-7f1a-4272-afeb-6b5fe00b5d38');\n",
       "          const dataTable =\n",
       "            await google.colab.kernel.invokeFunction('convertToInteractive',\n",
       "                                                     [key], {});\n",
       "          if (!dataTable) return;\n",
       "\n",
       "          const docLinkHtml = 'Like what you see? Visit the ' +\n",
       "            '<a target=\"_blank\" href=https://colab.research.google.com/notebooks/data_table.ipynb>data table notebook</a>'\n",
       "            + ' to learn more about interactive tables.';\n",
       "          element.innerHTML = '';\n",
       "          dataTable['output_type'] = 'display_data';\n",
       "          await google.colab.output.renderOutput(dataTable, element);\n",
       "          const docLink = document.createElement('div');\n",
       "          docLink.innerHTML = docLinkHtml;\n",
       "          element.appendChild(docLink);\n",
       "        }\n",
       "      </script>\n",
       "    </div>\n",
       "  </div>\n",
       "  "
      ],
      "text/plain": [
       "   flight  speed  payload  altitude        date local_time   route  \\\n",
       "0       1    4.0      0.0        25  2019-04-07      10:13  non R1   \n",
       "1       2    4.0      0.0        50  2019-04-07      10:23  non R1   \n",
       "2       3    6.0      0.0        25  2019-04-07      10:33  non R1   \n",
       "3       4    8.0      0.0        25  2019-04-07      10:48  non R1   \n",
       "4       5    4.0      0.0        25  2019-04-07      11:05  non R1   \n",
       "\n",
       "   total_energy  mean_wind_speed  flight_duration  \n",
       "0         78473             3.90            200.7  \n",
       "1         91363             3.52            271.2  \n",
       "2         61487             4.58            180.1  \n",
       "3         52915             4.60            171.0  \n",
       "4         68589             3.33            217.0  "
      ]
     },
     "execution_count": 4,
     "metadata": {},
     "output_type": "execute_result"
    }
   ],
   "source": [
    "dados_parametros.head()"
   ]
  },
  {
   "cell_type": "code",
   "execution_count": 5,
   "metadata": {
    "executionInfo": {
     "elapsed": 10,
     "status": "ok",
     "timestamp": 1667908415487,
     "user": {
      "displayName": "Leandro Luna",
      "userId": "00217320943669558162"
     },
     "user_tz": 180
    },
    "id": "5KpgtJFuLqpe"
   },
   "outputs": [],
   "source": [
    "# dados_parametros = dados_parametros.drop(columns='flight', axis=1) # Acts like index."
   ]
  },
  {
   "cell_type": "code",
   "execution_count": 6,
   "metadata": {
    "colab": {
     "base_uri": "https://localhost:8080/"
    },
    "executionInfo": {
     "elapsed": 10,
     "status": "ok",
     "timestamp": 1667908415488,
     "user": {
      "displayName": "Leandro Luna",
      "userId": "00217320943669558162"
     },
     "user_tz": 180
    },
    "id": "AnjXNkcY7C3d",
    "outputId": "a7a7be1a-074c-496d-80c4-b0563a80cf3f"
   },
   "outputs": [
    {
     "name": "stdout",
     "output_type": "stream",
     "text": [
      "<class 'pandas.core.frame.DataFrame'>\n",
      "RangeIndex: 207 entries, 0 to 206\n",
      "Data columns (total 10 columns):\n",
      " #   Column           Non-Null Count  Dtype  \n",
      "---  ------           --------------  -----  \n",
      " 0   flight           207 non-null    int64  \n",
      " 1   speed            207 non-null    float64\n",
      " 2   payload          207 non-null    float64\n",
      " 3   altitude         207 non-null    int64  \n",
      " 4   date             207 non-null    object \n",
      " 5   local_time       207 non-null    object \n",
      " 6   route            207 non-null    object \n",
      " 7   total_energy     207 non-null    int64  \n",
      " 8   mean_wind_speed  207 non-null    float64\n",
      " 9   flight_duration  207 non-null    float64\n",
      "dtypes: float64(4), int64(3), object(3)\n",
      "memory usage: 16.3+ KB\n"
     ]
    }
   ],
   "source": [
    "dados_parametros.info()"
   ]
  },
  {
   "cell_type": "markdown",
   "metadata": {
    "id": "Ccy4PqMz71Nd"
   },
   "source": [
    "### Distribuição dos dados"
   ]
  },
  {
   "cell_type": "code",
   "execution_count": 7,
   "metadata": {
    "colab": {
     "base_uri": "https://localhost:8080/",
     "height": 777
    },
    "executionInfo": {
     "elapsed": 1649,
     "status": "ok",
     "timestamp": 1667908417129,
     "user": {
      "displayName": "Leandro Luna",
      "userId": "00217320943669558162"
     },
     "user_tz": 180
    },
    "id": "qLJAL-h37YTe",
    "outputId": "2178f2ae-ff5a-415b-d805-ec8a93363f3c"
   },
   "outputs": [
    {
     "data": {
      "text/plain": [
       "array([[<matplotlib.axes._subplots.AxesSubplot object at 0x7f5d769f3a50>,\n",
       "        <matplotlib.axes._subplots.AxesSubplot object at 0x7f5d7694cb10>,\n",
       "        <matplotlib.axes._subplots.AxesSubplot object at 0x7f5d7691b610>],\n",
       "       [<matplotlib.axes._subplots.AxesSubplot object at 0x7f5d768d4c10>,\n",
       "        <matplotlib.axes._subplots.AxesSubplot object at 0x7f5d76896250>,\n",
       "        <matplotlib.axes._subplots.AxesSubplot object at 0x7f5d7684c850>],\n",
       "       [<matplotlib.axes._subplots.AxesSubplot object at 0x7f5d76802ed0>,\n",
       "        <matplotlib.axes._subplots.AxesSubplot object at 0x7f5d767c5450>,\n",
       "        <matplotlib.axes._subplots.AxesSubplot object at 0x7f5d767c5490>]],\n",
       "      dtype=object)"
      ]
     },
     "execution_count": 7,
     "metadata": {},
     "output_type": "execute_result"
    },
    {
     "data": {
      "image/png": "[encoded data removed]",
      "text/plain": [
       "<Figure size 720x720 with 9 Axes>"
      ]
     },
     "metadata": {
      "needs_background": "light"
     },
     "output_type": "display_data"
    }
   ],
   "source": [
    "# Histograma dos dados.\n",
    "dados_parametros.hist(figsize=(10,10))"
   ]
  },
  {
   "cell_type": "code",
   "execution_count": 8,
   "metadata": {
    "colab": {
     "base_uri": "https://localhost:8080/",
     "height": 297
    },
    "executionInfo": {
     "elapsed": 15,
     "status": "ok",
     "timestamp": 1667908417130,
     "user": {
      "displayName": "Leandro Luna",
      "userId": "00217320943669558162"
     },
     "user_tz": 180
    },
    "id": "ip1sAhoYPTud",
    "outputId": "4bd5969e-51cb-418d-9ee2-69c9e301c5c9"
   },
   "outputs": [
    {
     "data": {
      "text/html": [
       "\n",
       "  <div id=\"df-13cd035e-9327-4ebb-b5c7-7aadcbe60125\">\n",
       "    <div class=\"colab-df-container\">\n",
       "      <div>\n",
       "<style scoped>\n",
       "    .dataframe tbody tr th:only-of-type {\n",
       "        vertical-align: middle;\n",
       "    }\n",
       "\n",
       "    .dataframe tbody tr th {\n",
       "        vertical-align: top;\n",
       "    }\n",
       "\n",
       "    .dataframe thead th {\n",
       "        text-align: right;\n",
       "    }\n",
       "</style>\n",
       "<table border=\"1\" class=\"dataframe\">\n",
       "  <thead>\n",
       "    <tr style=\"text-align: right;\">\n",
       "      <th></th>\n",
       "      <th>flight</th>\n",
       "      <th>speed</th>\n",
       "      <th>payload</th>\n",
       "      <th>altitude</th>\n",
       "      <th>total_energy</th>\n",
       "      <th>mean_wind_speed</th>\n",
       "      <th>flight_duration</th>\n",
       "    </tr>\n",
       "  </thead>\n",
       "  <tbody>\n",
       "    <tr>\n",
       "      <th>count</th>\n",
       "      <td>207.000000</td>\n",
       "      <td>207.000000</td>\n",
       "      <td>207.000000</td>\n",
       "      <td>207.000000</td>\n",
       "      <td>207.000000</td>\n",
       "      <td>207.000000</td>\n",
       "      <td>207.000000</td>\n",
       "    </tr>\n",
       "    <tr>\n",
       "      <th>mean</th>\n",
       "      <td>160.207729</td>\n",
       "      <td>7.468599</td>\n",
       "      <td>235.507246</td>\n",
       "      <td>56.942029</td>\n",
       "      <td>73019.062802</td>\n",
       "      <td>4.303913</td>\n",
       "      <td>185.402754</td>\n",
       "    </tr>\n",
       "    <tr>\n",
       "      <th>std</th>\n",
       "      <td>71.628087</td>\n",
       "      <td>3.380086</td>\n",
       "      <td>211.404477</td>\n",
       "      <td>30.923120</td>\n",
       "      <td>22998.812509</td>\n",
       "      <td>1.245148</td>\n",
       "      <td>44.249007</td>\n",
       "    </tr>\n",
       "    <tr>\n",
       "      <th>min</th>\n",
       "      <td>1.000000</td>\n",
       "      <td>0.000000</td>\n",
       "      <td>0.000000</td>\n",
       "      <td>0.000000</td>\n",
       "      <td>-575.000000</td>\n",
       "      <td>0.090000</td>\n",
       "      <td>58.590000</td>\n",
       "    </tr>\n",
       "    <tr>\n",
       "      <th>25%</th>\n",
       "      <td>111.500000</td>\n",
       "      <td>4.000000</td>\n",
       "      <td>0.000000</td>\n",
       "      <td>25.000000</td>\n",
       "      <td>60823.000000</td>\n",
       "      <td>3.840000</td>\n",
       "      <td>157.300000</td>\n",
       "    </tr>\n",
       "    <tr>\n",
       "      <th>50%</th>\n",
       "      <td>166.000000</td>\n",
       "      <td>8.000000</td>\n",
       "      <td>250.000000</td>\n",
       "      <td>50.000000</td>\n",
       "      <td>72511.000000</td>\n",
       "      <td>4.320000</td>\n",
       "      <td>181.810000</td>\n",
       "    </tr>\n",
       "    <tr>\n",
       "      <th>75%</th>\n",
       "      <td>217.500000</td>\n",
       "      <td>10.000000</td>\n",
       "      <td>500.000000</td>\n",
       "      <td>75.000000</td>\n",
       "      <td>87013.000000</td>\n",
       "      <td>5.050000</td>\n",
       "      <td>207.395000</td>\n",
       "    </tr>\n",
       "    <tr>\n",
       "      <th>max</th>\n",
       "      <td>277.000000</td>\n",
       "      <td>12.000000</td>\n",
       "      <td>750.000000</td>\n",
       "      <td>100.000000</td>\n",
       "      <td>135888.000000</td>\n",
       "      <td>6.670000</td>\n",
       "      <td>428.290000</td>\n",
       "    </tr>\n",
       "  </tbody>\n",
       "</table>\n",
       "</div>\n",
       "      <button class=\"colab-df-convert\" onclick=\"convertToInteractive('df-13cd035e-9327-4ebb-b5c7-7aadcbe60125')\"\n",
       "              title=\"Convert this dataframe to an interactive table.\"\n",
       "              style=\"display:none;\">\n",
       "        \n",
       "  <svg xmlns=\"http://www.w3.org/2000/svg\" height=\"24px\"viewBox=\"0 0 24 24\"\n",
       "       width=\"24px\">\n",
       "    <path d=\"M0 0h24v24H0V0z\" fill=\"none\"/>\n",
       "    <path d=\"M18.56 5.44l.94 2.06.94-2.06 2.06-.94-2.06-.94-.94-2.06-.94 2.06-2.06.94zm-11 1L8.5 8.5l.94-2.06 2.06-.94-2.06-.94L8.5 2.5l-.94 2.06-2.06.94zm10 10l.94 2.06.94-2.06 2.06-.94-2.06-.94-.94-2.06-.94 2.06-2.06.94z\"/><path d=\"M17.41 7.96l-1.37-1.37c-.4-.4-.92-.59-1.43-.59-.52 0-1.04.2-1.43.59L10.3 9.45l-7.72 7.72c-.78.78-.78 2.05 0 2.83L4 21.41c.39.39.9.59 1.41.59.51 0 1.02-.2 1.41-.59l7.78-7.78 2.81-2.81c.8-.78.8-2.07 0-2.86zM5.41 20L4 18.59l7.72-7.72 1.47 1.35L5.41 20z\"/>\n",
       "  </svg>\n",
       "      </button>\n",
       "      \n",
       "  <style>\n",
       "    .colab-df-container {\n",
       "      display:flex;\n",
       "      flex-wrap:wrap;\n",
       "      gap: 12px;\n",
       "    }\n",
       "\n",
       "    .colab-df-convert {\n",
       "      background-color: #E8F0FE;\n",
       "      border: none;\n",
       "      border-radius: 50%;\n",
       "      cursor: pointer;\n",
       "      display: none;\n",
       "      fill: #1967D2;\n",
       "      height: 32px;\n",
       "      padding: 0 0 0 0;\n",
       "      width: 32px;\n",
       "    }\n",
       "\n",
       "    .colab-df-convert:hover {\n",
       "      background-color: #E2EBFA;\n",
       "      box-shadow: 0px 1px 2px rgba(60, 64, 67, 0.3), 0px 1px 3px 1px rgba(60, 64, 67, 0.15);\n",
       "      fill: #174EA6;\n",
       "    }\n",
       "\n",
       "    [theme=dark] .colab-df-convert {\n",
       "      background-color: #3B4455;\n",
       "      fill: #D2E3FC;\n",
       "    }\n",
       "\n",
       "    [theme=dark] .colab-df-convert:hover {\n",
       "      background-color: #434B5C;\n",
       "      box-shadow: 0px 1px 3px 1px rgba(0, 0, 0, 0.15);\n",
       "      filter: drop-shadow(0px 1px 2px rgba(0, 0, 0, 0.3));\n",
       "      fill: #FFFFFF;\n",
       "    }\n",
       "  </style>\n",
       "\n",
       "      <script>\n",
       "        const buttonEl =\n",
       "          document.querySelector('#df-13cd035e-9327-4ebb-b5c7-7aadcbe60125 button.colab-df-convert');\n",
       "        buttonEl.style.display =\n",
       "          google.colab.kernel.accessAllowed ? 'block' : 'none';\n",
       "\n",
       "        async function convertToInteractive(key) {\n",
       "          const element = document.querySelector('#df-13cd035e-9327-4ebb-b5c7-7aadcbe60125');\n",
       "          const dataTable =\n",
       "            await google.colab.kernel.invokeFunction('convertToInteractive',\n",
       "                                                     [key], {});\n",
       "          if (!dataTable) return;\n",
       "\n",
       "          const docLinkHtml = 'Like what you see? Visit the ' +\n",
       "            '<a target=\"_blank\" href=https://colab.research.google.com/notebooks/data_table.ipynb>data table notebook</a>'\n",
       "            + ' to learn more about interactive tables.';\n",
       "          element.innerHTML = '';\n",
       "          dataTable['output_type'] = 'display_data';\n",
       "          await google.colab.output.renderOutput(dataTable, element);\n",
       "          const docLink = document.createElement('div');\n",
       "          docLink.innerHTML = docLinkHtml;\n",
       "          element.appendChild(docLink);\n",
       "        }\n",
       "      </script>\n",
       "    </div>\n",
       "  </div>\n",
       "  "
      ],
      "text/plain": [
       "           flight       speed     payload    altitude   total_energy  \\\n",
       "count  207.000000  207.000000  207.000000  207.000000     207.000000   \n",
       "mean   160.207729    7.468599  235.507246   56.942029   73019.062802   \n",
       "std     71.628087    3.380086  211.404477   30.923120   22998.812509   \n",
       "min      1.000000    0.000000    0.000000    0.000000    -575.000000   \n",
       "25%    111.500000    4.000000    0.000000   25.000000   60823.000000   \n",
       "50%    166.000000    8.000000  250.000000   50.000000   72511.000000   \n",
       "75%    217.500000   10.000000  500.000000   75.000000   87013.000000   \n",
       "max    277.000000   12.000000  750.000000  100.000000  135888.000000   \n",
       "\n",
       "       mean_wind_speed  flight_duration  \n",
       "count       207.000000       207.000000  \n",
       "mean          4.303913       185.402754  \n",
       "std           1.245148        44.249007  \n",
       "min           0.090000        58.590000  \n",
       "25%           3.840000       157.300000  \n",
       "50%           4.320000       181.810000  \n",
       "75%           5.050000       207.395000  \n",
       "max           6.670000       428.290000  "
      ]
     },
     "execution_count": 8,
     "metadata": {},
     "output_type": "execute_result"
    }
   ],
   "source": [
    "# Tabulação das estatísticas gerais dos dados, tais como média, desvio padrão, valor minimo/máximo etc.\n",
    "dados_parametros.describe()"
   ]
  },
  {
   "cell_type": "markdown",
   "metadata": {
    "id": "9qoh52EY84OP"
   },
   "source": [
    "### Relação entre os dados (visual e numérica)"
   ]
  },
  {
   "cell_type": "code",
   "execution_count": 9,
   "metadata": {
    "colab": {
     "base_uri": "https://localhost:8080/",
     "height": 266
    },
    "executionInfo": {
     "elapsed": 12,
     "status": "ok",
     "timestamp": 1667908417130,
     "user": {
      "displayName": "Leandro Luna",
      "userId": "00217320943669558162"
     },
     "user_tz": 180
    },
    "id": "kTffBl_-89Ul",
    "outputId": "a949bd70-1c7f-4621-eb48-701cc5cd332c"
   },
   "outputs": [
    {
     "data": {
      "text/html": [
       "\n",
       "  <div id=\"df-d95ef622-8dab-4b59-8fbb-43e609fc768e\">\n",
       "    <div class=\"colab-df-container\">\n",
       "      <div>\n",
       "<style scoped>\n",
       "    .dataframe tbody tr th:only-of-type {\n",
       "        vertical-align: middle;\n",
       "    }\n",
       "\n",
       "    .dataframe tbody tr th {\n",
       "        vertical-align: top;\n",
       "    }\n",
       "\n",
       "    .dataframe thead th {\n",
       "        text-align: right;\n",
       "    }\n",
       "</style>\n",
       "<table border=\"1\" class=\"dataframe\">\n",
       "  <thead>\n",
       "    <tr style=\"text-align: right;\">\n",
       "      <th></th>\n",
       "      <th>flight</th>\n",
       "      <th>speed</th>\n",
       "      <th>payload</th>\n",
       "      <th>altitude</th>\n",
       "      <th>total_energy</th>\n",
       "      <th>mean_wind_speed</th>\n",
       "      <th>flight_duration</th>\n",
       "    </tr>\n",
       "  </thead>\n",
       "  <tbody>\n",
       "    <tr>\n",
       "      <th>flight</th>\n",
       "      <td>1.000000</td>\n",
       "      <td>-0.108255</td>\n",
       "      <td>0.111361</td>\n",
       "      <td>0.013317</td>\n",
       "      <td>-0.021601</td>\n",
       "      <td>-0.333320</td>\n",
       "      <td>0.076185</td>\n",
       "    </tr>\n",
       "    <tr>\n",
       "      <th>speed</th>\n",
       "      <td>-0.108255</td>\n",
       "      <td>1.000000</td>\n",
       "      <td>0.159006</td>\n",
       "      <td>0.286444</td>\n",
       "      <td>-0.025561</td>\n",
       "      <td>0.599486</td>\n",
       "      <td>-0.207129</td>\n",
       "    </tr>\n",
       "    <tr>\n",
       "      <th>payload</th>\n",
       "      <td>0.111361</td>\n",
       "      <td>0.159006</td>\n",
       "      <td>1.000000</td>\n",
       "      <td>0.119981</td>\n",
       "      <td>0.413109</td>\n",
       "      <td>0.166467</td>\n",
       "      <td>0.104696</td>\n",
       "    </tr>\n",
       "    <tr>\n",
       "      <th>altitude</th>\n",
       "      <td>0.013317</td>\n",
       "      <td>0.286444</td>\n",
       "      <td>0.119981</td>\n",
       "      <td>1.000000</td>\n",
       "      <td>0.665690</td>\n",
       "      <td>0.353376</td>\n",
       "      <td>0.549500</td>\n",
       "    </tr>\n",
       "    <tr>\n",
       "      <th>total_energy</th>\n",
       "      <td>-0.021601</td>\n",
       "      <td>-0.025561</td>\n",
       "      <td>0.413109</td>\n",
       "      <td>0.665690</td>\n",
       "      <td>1.000000</td>\n",
       "      <td>0.393185</td>\n",
       "      <td>0.805662</td>\n",
       "    </tr>\n",
       "    <tr>\n",
       "      <th>mean_wind_speed</th>\n",
       "      <td>-0.333320</td>\n",
       "      <td>0.599486</td>\n",
       "      <td>0.166467</td>\n",
       "      <td>0.353376</td>\n",
       "      <td>0.393185</td>\n",
       "      <td>1.000000</td>\n",
       "      <td>0.104324</td>\n",
       "    </tr>\n",
       "    <tr>\n",
       "      <th>flight_duration</th>\n",
       "      <td>0.076185</td>\n",
       "      <td>-0.207129</td>\n",
       "      <td>0.104696</td>\n",
       "      <td>0.549500</td>\n",
       "      <td>0.805662</td>\n",
       "      <td>0.104324</td>\n",
       "      <td>1.000000</td>\n",
       "    </tr>\n",
       "  </tbody>\n",
       "</table>\n",
       "</div>\n",
       "      <button class=\"colab-df-convert\" onclick=\"convertToInteractive('df-d95ef622-8dab-4b59-8fbb-43e609fc768e')\"\n",
       "              title=\"Convert this dataframe to an interactive table.\"\n",
       "              style=\"display:none;\">\n",
       "        \n",
       "  <svg xmlns=\"http://www.w3.org/2000/svg\" height=\"24px\"viewBox=\"0 0 24 24\"\n",
       "       width=\"24px\">\n",
       "    <path d=\"M0 0h24v24H0V0z\" fill=\"none\"/>\n",
       "    <path d=\"M18.56 5.44l.94 2.06.94-2.06 2.06-.94-2.06-.94-.94-2.06-.94 2.06-2.06.94zm-11 1L8.5 8.5l.94-2.06 2.06-.94-2.06-.94L8.5 2.5l-.94 2.06-2.06.94zm10 10l.94 2.06.94-2.06 2.06-.94-2.06-.94-.94-2.06-.94 2.06-2.06.94z\"/><path d=\"M17.41 7.96l-1.37-1.37c-.4-.4-.92-.59-1.43-.59-.52 0-1.04.2-1.43.59L10.3 9.45l-7.72 7.72c-.78.78-.78 2.05 0 2.83L4 21.41c.39.39.9.59 1.41.59.51 0 1.02-.2 1.41-.59l7.78-7.78 2.81-2.81c.8-.78.8-2.07 0-2.86zM5.41 20L4 18.59l7.72-7.72 1.47 1.35L5.41 20z\"/>\n",
       "  </svg>\n",
       "      </button>\n",
       "      \n",
       "  <style>\n",
       "    .colab-df-container {\n",
       "      display:flex;\n",
       "      flex-wrap:wrap;\n",
       "      gap: 12px;\n",
       "    }\n",
       "\n",
       "    .colab-df-convert {\n",
       "      background-color: #E8F0FE;\n",
       "      border: none;\n",
       "      border-radius: 50%;\n",
       "      cursor: pointer;\n",
       "      display: none;\n",
       "      fill: #1967D2;\n",
       "      height: 32px;\n",
       "      padding: 0 0 0 0;\n",
       "      width: 32px;\n",
       "    }\n",
       "\n",
       "    .colab-df-convert:hover {\n",
       "      background-color: #E2EBFA;\n",
       "      box-shadow: 0px 1px 2px rgba(60, 64, 67, 0.3), 0px 1px 3px 1px rgba(60, 64, 67, 0.15);\n",
       "      fill: #174EA6;\n",
       "    }\n",
       "\n",
       "    [theme=dark] .colab-df-convert {\n",
       "      background-color: #3B4455;\n",
       "      fill: #D2E3FC;\n",
       "    }\n",
       "\n",
       "    [theme=dark] .colab-df-convert:hover {\n",
       "      background-color: #434B5C;\n",
       "      box-shadow: 0px 1px 3px 1px rgba(0, 0, 0, 0.15);\n",
       "      filter: drop-shadow(0px 1px 2px rgba(0, 0, 0, 0.3));\n",
       "      fill: #FFFFFF;\n",
       "    }\n",
       "  </style>\n",
       "\n",
       "      <script>\n",
       "        const buttonEl =\n",
       "          document.querySelector('#df-d95ef622-8dab-4b59-8fbb-43e609fc768e button.colab-df-convert');\n",
       "        buttonEl.style.display =\n",
       "          google.colab.kernel.accessAllowed ? 'block' : 'none';\n",
       "\n",
       "        async function convertToInteractive(key) {\n",
       "          const element = document.querySelector('#df-d95ef622-8dab-4b59-8fbb-43e609fc768e');\n",
       "          const dataTable =\n",
       "            await google.colab.kernel.invokeFunction('convertToInteractive',\n",
       "                                                     [key], {});\n",
       "          if (!dataTable) return;\n",
       "\n",
       "          const docLinkHtml = 'Like what you see? Visit the ' +\n",
       "            '<a target=\"_blank\" href=https://colab.research.google.com/notebooks/data_table.ipynb>data table notebook</a>'\n",
       "            + ' to learn more about interactive tables.';\n",
       "          element.innerHTML = '';\n",
       "          dataTable['output_type'] = 'display_data';\n",
       "          await google.colab.output.renderOutput(dataTable, element);\n",
       "          const docLink = document.createElement('div');\n",
       "          docLink.innerHTML = docLinkHtml;\n",
       "          element.appendChild(docLink);\n",
       "        }\n",
       "      </script>\n",
       "    </div>\n",
       "  </div>\n",
       "  "
      ],
      "text/plain": [
       "                   flight     speed   payload  altitude  total_energy  \\\n",
       "flight           1.000000 -0.108255  0.111361  0.013317     -0.021601   \n",
       "speed           -0.108255  1.000000  0.159006  0.286444     -0.025561   \n",
       "payload          0.111361  0.159006  1.000000  0.119981      0.413109   \n",
       "altitude         0.013317  0.286444  0.119981  1.000000      0.665690   \n",
       "total_energy    -0.021601 -0.025561  0.413109  0.665690      1.000000   \n",
       "mean_wind_speed -0.333320  0.599486  0.166467  0.353376      0.393185   \n",
       "flight_duration  0.076185 -0.207129  0.104696  0.549500      0.805662   \n",
       "\n",
       "                 mean_wind_speed  flight_duration  \n",
       "flight                 -0.333320         0.076185  \n",
       "speed                   0.599486        -0.207129  \n",
       "payload                 0.166467         0.104696  \n",
       "altitude                0.353376         0.549500  \n",
       "total_energy            0.393185         0.805662  \n",
       "mean_wind_speed         1.000000         0.104324  \n",
       "flight_duration         0.104324         1.000000  "
      ]
     },
     "execution_count": 9,
     "metadata": {},
     "output_type": "execute_result"
    }
   ],
   "source": [
    "# Correlação númerica. \n",
    "dados_parametros.corr()"
   ]
  },
  {
   "cell_type": "code",
   "execution_count": 10,
   "metadata": {
    "colab": {
     "base_uri": "https://localhost:8080/",
     "height": 477
    },
    "executionInfo": {
     "elapsed": 733,
     "status": "ok",
     "timestamp": 1667908418240,
     "user": {
      "displayName": "Leandro Luna",
      "userId": "00217320943669558162"
     },
     "user_tz": 180
    },
    "id": "Ui4cqrv09xZA",
    "outputId": "dfd3924e-e392-4ec8-d32c-cf9fed1a206c"
   },
   "outputs": [
    {
     "data": {
      "text/plain": [
       "<matplotlib.axes._subplots.AxesSubplot at 0x7f5d760c3a10>"
      ]
     },
     "execution_count": 10,
     "metadata": {},
     "output_type": "execute_result"
    },
    {
     "data": {
      "image/png": "[encoded data removed]",
      "text/plain": [
       "<Figure size 720x432 with 2 Axes>"
      ]
     },
     "metadata": {
      "needs_background": "light"
     },
     "output_type": "display_data"
    }
   ],
   "source": [
    "# Correlação visual.\n",
    "plt.figure(figsize=(10,6))\n",
    "sns.heatmap(dados_parametros.corr(method = 'pearson'), annot=True, fmt=\".2f\")"
   ]
  },
  {
   "cell_type": "markdown",
   "metadata": {
    "id": "9NePWoXuQ_Q_"
   },
   "source": [
    "Pode-se observar que os dados com maior correlação são 'total_energy' e 'flight_duration' (correlação de 0.81), 'total_energy' e 'altitude' (correlação de 0.67) e 'mean_wind_speed' e 'speed' (correlação de 0.60). "
   ]
  },
  {
   "cell_type": "markdown",
   "metadata": {
    "id": "IFYHtzMY-CF7"
   },
   "source": [
    "### Quantidade de rotas existentes"
   ]
  },
  {
   "cell_type": "code",
   "execution_count": 11,
   "metadata": {
    "colab": {
     "base_uri": "https://localhost:8080/",
     "height": 142
    },
    "executionInfo": {
     "elapsed": 19,
     "status": "ok",
     "timestamp": 1667908418240,
     "user": {
      "displayName": "Leandro Luna",
      "userId": "00217320943669558162"
     },
     "user_tz": 180
    },
    "id": "PgqJ24w8-D0e",
    "outputId": "8dcf7add-76fc-4d2f-9b1d-eceb44861d38"
   },
   "outputs": [
    {
     "data": {
      "text/html": [
       "\n",
       "  <div id=\"df-34cb0ede-26f5-42bc-b204-18754f11403d\">\n",
       "    <div class=\"colab-df-container\">\n",
       "      <div>\n",
       "<style scoped>\n",
       "    .dataframe tbody tr th:only-of-type {\n",
       "        vertical-align: middle;\n",
       "    }\n",
       "\n",
       "    .dataframe tbody tr th {\n",
       "        vertical-align: top;\n",
       "    }\n",
       "\n",
       "    .dataframe thead th {\n",
       "        text-align: right;\n",
       "    }\n",
       "</style>\n",
       "<table border=\"1\" class=\"dataframe\">\n",
       "  <thead>\n",
       "    <tr style=\"text-align: right;\">\n",
       "      <th></th>\n",
       "      <th>flight</th>\n",
       "      <th>speed</th>\n",
       "      <th>payload</th>\n",
       "      <th>altitude</th>\n",
       "      <th>date</th>\n",
       "      <th>local_time</th>\n",
       "      <th>total_energy</th>\n",
       "      <th>mean_wind_speed</th>\n",
       "      <th>flight_duration</th>\n",
       "    </tr>\n",
       "    <tr>\n",
       "      <th>route</th>\n",
       "      <th></th>\n",
       "      <th></th>\n",
       "      <th></th>\n",
       "      <th></th>\n",
       "      <th></th>\n",
       "      <th></th>\n",
       "      <th></th>\n",
       "      <th></th>\n",
       "      <th></th>\n",
       "    </tr>\n",
       "  </thead>\n",
       "  <tbody>\n",
       "    <tr>\n",
       "      <th>R1</th>\n",
       "      <td>182</td>\n",
       "      <td>182</td>\n",
       "      <td>182</td>\n",
       "      <td>182</td>\n",
       "      <td>182</td>\n",
       "      <td>182</td>\n",
       "      <td>182</td>\n",
       "      <td>182</td>\n",
       "      <td>182</td>\n",
       "    </tr>\n",
       "    <tr>\n",
       "      <th>non R1</th>\n",
       "      <td>25</td>\n",
       "      <td>25</td>\n",
       "      <td>25</td>\n",
       "      <td>25</td>\n",
       "      <td>25</td>\n",
       "      <td>25</td>\n",
       "      <td>25</td>\n",
       "      <td>25</td>\n",
       "      <td>25</td>\n",
       "    </tr>\n",
       "  </tbody>\n",
       "</table>\n",
       "</div>\n",
       "      <button class=\"colab-df-convert\" onclick=\"convertToInteractive('df-34cb0ede-26f5-42bc-b204-18754f11403d')\"\n",
       "              title=\"Convert this dataframe to an interactive table.\"\n",
       "              style=\"display:none;\">\n",
       "        \n",
       "  <svg xmlns=\"http://www.w3.org/2000/svg\" height=\"24px\"viewBox=\"0 0 24 24\"\n",
       "       width=\"24px\">\n",
       "    <path d=\"M0 0h24v24H0V0z\" fill=\"none\"/>\n",
       "    <path d=\"M18.56 5.44l.94 2.06.94-2.06 2.06-.94-2.06-.94-.94-2.06-.94 2.06-2.06.94zm-11 1L8.5 8.5l.94-2.06 2.06-.94-2.06-.94L8.5 2.5l-.94 2.06-2.06.94zm10 10l.94 2.06.94-2.06 2.06-.94-2.06-.94-.94-2.06-.94 2.06-2.06.94z\"/><path d=\"M17.41 7.96l-1.37-1.37c-.4-.4-.92-.59-1.43-.59-.52 0-1.04.2-1.43.59L10.3 9.45l-7.72 7.72c-.78.78-.78 2.05 0 2.83L4 21.41c.39.39.9.59 1.41.59.51 0 1.02-.2 1.41-.59l7.78-7.78 2.81-2.81c.8-.78.8-2.07 0-2.86zM5.41 20L4 18.59l7.72-7.72 1.47 1.35L5.41 20z\"/>\n",
       "  </svg>\n",
       "      </button>\n",
       "      \n",
       "  <style>\n",
       "    .colab-df-container {\n",
       "      display:flex;\n",
       "      flex-wrap:wrap;\n",
       "      gap: 12px;\n",
       "    }\n",
       "\n",
       "    .colab-df-convert {\n",
       "      background-color: #E8F0FE;\n",
       "      border: none;\n",
       "      border-radius: 50%;\n",
       "      cursor: pointer;\n",
       "      display: none;\n",
       "      fill: #1967D2;\n",
       "      height: 32px;\n",
       "      padding: 0 0 0 0;\n",
       "      width: 32px;\n",
       "    }\n",
       "\n",
       "    .colab-df-convert:hover {\n",
       "      background-color: #E2EBFA;\n",
       "      box-shadow: 0px 1px 2px rgba(60, 64, 67, 0.3), 0px 1px 3px 1px rgba(60, 64, 67, 0.15);\n",
       "      fill: #174EA6;\n",
       "    }\n",
       "\n",
       "    [theme=dark] .colab-df-convert {\n",
       "      background-color: #3B4455;\n",
       "      fill: #D2E3FC;\n",
       "    }\n",
       "\n",
       "    [theme=dark] .colab-df-convert:hover {\n",
       "      background-color: #434B5C;\n",
       "      box-shadow: 0px 1px 3px 1px rgba(0, 0, 0, 0.15);\n",
       "      filter: drop-shadow(0px 1px 2px rgba(0, 0, 0, 0.3));\n",
       "      fill: #FFFFFF;\n",
       "    }\n",
       "  </style>\n",
       "\n",
       "      <script>\n",
       "        const buttonEl =\n",
       "          document.querySelector('#df-34cb0ede-26f5-42bc-b204-18754f11403d button.colab-df-convert');\n",
       "        buttonEl.style.display =\n",
       "          google.colab.kernel.accessAllowed ? 'block' : 'none';\n",
       "\n",
       "        async function convertToInteractive(key) {\n",
       "          const element = document.querySelector('#df-34cb0ede-26f5-42bc-b204-18754f11403d');\n",
       "          const dataTable =\n",
       "            await google.colab.kernel.invokeFunction('convertToInteractive',\n",
       "                                                     [key], {});\n",
       "          if (!dataTable) return;\n",
       "\n",
       "          const docLinkHtml = 'Like what you see? Visit the ' +\n",
       "            '<a target=\"_blank\" href=https://colab.research.google.com/notebooks/data_table.ipynb>data table notebook</a>'\n",
       "            + ' to learn more about interactive tables.';\n",
       "          element.innerHTML = '';\n",
       "          dataTable['output_type'] = 'display_data';\n",
       "          await google.colab.output.renderOutput(dataTable, element);\n",
       "          const docLink = document.createElement('div');\n",
       "          docLink.innerHTML = docLinkHtml;\n",
       "          element.appendChild(docLink);\n",
       "        }\n",
       "      </script>\n",
       "    </div>\n",
       "  </div>\n",
       "  "
      ],
      "text/plain": [
       "        flight  speed  payload  altitude  date  local_time  total_energy  \\\n",
       "route                                                                      \n",
       "R1         182    182      182       182   182         182           182   \n",
       "non R1      25     25       25        25    25          25            25   \n",
       "\n",
       "        mean_wind_speed  flight_duration  \n",
       "route                                     \n",
       "R1                  182              182  \n",
       "non R1               25               25  "
      ]
     },
     "execution_count": 11,
     "metadata": {},
     "output_type": "execute_result"
    }
   ],
   "source": [
    "# Contagem dos dados a partir do agrupamento do tipo de rota ('route').\n",
    "# Pode-se observar que tem 2 rotas: 'R1' e 'non R1'.\n",
    "dados_parametros.groupby('route').count()"
   ]
  },
  {
   "cell_type": "markdown",
   "metadata": {
    "id": "lr_CutWDAYwv"
   },
   "source": [
    "### Tipos de cargas existentes"
   ]
  },
  {
   "cell_type": "code",
   "execution_count": 12,
   "metadata": {
    "colab": {
     "base_uri": "https://localhost:8080/",
     "height": 204
    },
    "executionInfo": {
     "elapsed": 16,
     "status": "ok",
     "timestamp": 1667908418241,
     "user": {
      "displayName": "Leandro Luna",
      "userId": "00217320943669558162"
     },
     "user_tz": 180
    },
    "id": "ULhcERMoAeq8",
    "outputId": "0b2be85d-6532-49bc-822c-4465226865d2"
   },
   "outputs": [
    {
     "data": {
      "text/html": [
       "\n",
       "  <div id=\"df-6157df5b-6d31-4b7f-a39c-6d7d5289f77e\">\n",
       "    <div class=\"colab-df-container\">\n",
       "      <div>\n",
       "<style scoped>\n",
       "    .dataframe tbody tr th:only-of-type {\n",
       "        vertical-align: middle;\n",
       "    }\n",
       "\n",
       "    .dataframe tbody tr th {\n",
       "        vertical-align: top;\n",
       "    }\n",
       "\n",
       "    .dataframe thead th {\n",
       "        text-align: right;\n",
       "    }\n",
       "</style>\n",
       "<table border=\"1\" class=\"dataframe\">\n",
       "  <thead>\n",
       "    <tr style=\"text-align: right;\">\n",
       "      <th></th>\n",
       "      <th>flight</th>\n",
       "      <th>speed</th>\n",
       "      <th>altitude</th>\n",
       "      <th>date</th>\n",
       "      <th>local_time</th>\n",
       "      <th>route</th>\n",
       "      <th>total_energy</th>\n",
       "      <th>mean_wind_speed</th>\n",
       "      <th>flight_duration</th>\n",
       "    </tr>\n",
       "    <tr>\n",
       "      <th>payload</th>\n",
       "      <th></th>\n",
       "      <th></th>\n",
       "      <th></th>\n",
       "      <th></th>\n",
       "      <th></th>\n",
       "      <th></th>\n",
       "      <th></th>\n",
       "      <th></th>\n",
       "      <th></th>\n",
       "    </tr>\n",
       "  </thead>\n",
       "  <tbody>\n",
       "    <tr>\n",
       "      <th>0.0</th>\n",
       "      <td>79</td>\n",
       "      <td>79</td>\n",
       "      <td>79</td>\n",
       "      <td>79</td>\n",
       "      <td>79</td>\n",
       "      <td>79</td>\n",
       "      <td>79</td>\n",
       "      <td>79</td>\n",
       "      <td>79</td>\n",
       "    </tr>\n",
       "    <tr>\n",
       "      <th>250.0</th>\n",
       "      <td>62</td>\n",
       "      <td>62</td>\n",
       "      <td>62</td>\n",
       "      <td>62</td>\n",
       "      <td>62</td>\n",
       "      <td>62</td>\n",
       "      <td>62</td>\n",
       "      <td>62</td>\n",
       "      <td>62</td>\n",
       "    </tr>\n",
       "    <tr>\n",
       "      <th>500.0</th>\n",
       "      <td>65</td>\n",
       "      <td>65</td>\n",
       "      <td>65</td>\n",
       "      <td>65</td>\n",
       "      <td>65</td>\n",
       "      <td>65</td>\n",
       "      <td>65</td>\n",
       "      <td>65</td>\n",
       "      <td>65</td>\n",
       "    </tr>\n",
       "    <tr>\n",
       "      <th>750.0</th>\n",
       "      <td>1</td>\n",
       "      <td>1</td>\n",
       "      <td>1</td>\n",
       "      <td>1</td>\n",
       "      <td>1</td>\n",
       "      <td>1</td>\n",
       "      <td>1</td>\n",
       "      <td>1</td>\n",
       "      <td>1</td>\n",
       "    </tr>\n",
       "  </tbody>\n",
       "</table>\n",
       "</div>\n",
       "      <button class=\"colab-df-convert\" onclick=\"convertToInteractive('df-6157df5b-6d31-4b7f-a39c-6d7d5289f77e')\"\n",
       "              title=\"Convert this dataframe to an interactive table.\"\n",
       "              style=\"display:none;\">\n",
       "        \n",
       "  <svg xmlns=\"http://www.w3.org/2000/svg\" height=\"24px\"viewBox=\"0 0 24 24\"\n",
       "       width=\"24px\">\n",
       "    <path d=\"M0 0h24v24H0V0z\" fill=\"none\"/>\n",
       "    <path d=\"M18.56 5.44l.94 2.06.94-2.06 2.06-.94-2.06-.94-.94-2.06-.94 2.06-2.06.94zm-11 1L8.5 8.5l.94-2.06 2.06-.94-2.06-.94L8.5 2.5l-.94 2.06-2.06.94zm10 10l.94 2.06.94-2.06 2.06-.94-2.06-.94-.94-2.06-.94 2.06-2.06.94z\"/><path d=\"M17.41 7.96l-1.37-1.37c-.4-.4-.92-.59-1.43-.59-.52 0-1.04.2-1.43.59L10.3 9.45l-7.72 7.72c-.78.78-.78 2.05 0 2.83L4 21.41c.39.39.9.59 1.41.59.51 0 1.02-.2 1.41-.59l7.78-7.78 2.81-2.81c.8-.78.8-2.07 0-2.86zM5.41 20L4 18.59l7.72-7.72 1.47 1.35L5.41 20z\"/>\n",
       "  </svg>\n",
       "      </button>\n",
       "      \n",
       "  <style>\n",
       "    .colab-df-container {\n",
       "      display:flex;\n",
       "      flex-wrap:wrap;\n",
       "      gap: 12px;\n",
       "    }\n",
       "\n",
       "    .colab-df-convert {\n",
       "      background-color: #E8F0FE;\n",
       "      border: none;\n",
       "      border-radius: 50%;\n",
       "      cursor: pointer;\n",
       "      display: none;\n",
       "      fill: #1967D2;\n",
       "      height: 32px;\n",
       "      padding: 0 0 0 0;\n",
       "      width: 32px;\n",
       "    }\n",
       "\n",
       "    .colab-df-convert:hover {\n",
       "      background-color: #E2EBFA;\n",
       "      box-shadow: 0px 1px 2px rgba(60, 64, 67, 0.3), 0px 1px 3px 1px rgba(60, 64, 67, 0.15);\n",
       "      fill: #174EA6;\n",
       "    }\n",
       "\n",
       "    [theme=dark] .colab-df-convert {\n",
       "      background-color: #3B4455;\n",
       "      fill: #D2E3FC;\n",
       "    }\n",
       "\n",
       "    [theme=dark] .colab-df-convert:hover {\n",
       "      background-color: #434B5C;\n",
       "      box-shadow: 0px 1px 3px 1px rgba(0, 0, 0, 0.15);\n",
       "      filter: drop-shadow(0px 1px 2px rgba(0, 0, 0, 0.3));\n",
       "      fill: #FFFFFF;\n",
       "    }\n",
       "  </style>\n",
       "\n",
       "      <script>\n",
       "        const buttonEl =\n",
       "          document.querySelector('#df-6157df5b-6d31-4b7f-a39c-6d7d5289f77e button.colab-df-convert');\n",
       "        buttonEl.style.display =\n",
       "          google.colab.kernel.accessAllowed ? 'block' : 'none';\n",
       "\n",
       "        async function convertToInteractive(key) {\n",
       "          const element = document.querySelector('#df-6157df5b-6d31-4b7f-a39c-6d7d5289f77e');\n",
       "          const dataTable =\n",
       "            await google.colab.kernel.invokeFunction('convertToInteractive',\n",
       "                                                     [key], {});\n",
       "          if (!dataTable) return;\n",
       "\n",
       "          const docLinkHtml = 'Like what you see? Visit the ' +\n",
       "            '<a target=\"_blank\" href=https://colab.research.google.com/notebooks/data_table.ipynb>data table notebook</a>'\n",
       "            + ' to learn more about interactive tables.';\n",
       "          element.innerHTML = '';\n",
       "          dataTable['output_type'] = 'display_data';\n",
       "          await google.colab.output.renderOutput(dataTable, element);\n",
       "          const docLink = document.createElement('div');\n",
       "          docLink.innerHTML = docLinkHtml;\n",
       "          element.appendChild(docLink);\n",
       "        }\n",
       "      </script>\n",
       "    </div>\n",
       "  </div>\n",
       "  "
      ],
      "text/plain": [
       "         flight  speed  altitude  date  local_time  route  total_energy  \\\n",
       "payload                                                                   \n",
       "0.0          79     79        79    79          79     79            79   \n",
       "250.0        62     62        62    62          62     62            62   \n",
       "500.0        65     65        65    65          65     65            65   \n",
       "750.0         1      1         1     1           1      1             1   \n",
       "\n",
       "         mean_wind_speed  flight_duration  \n",
       "payload                                    \n",
       "0.0                   79               79  \n",
       "250.0                 62               62  \n",
       "500.0                 65               65  \n",
       "750.0                  1                1  "
      ]
     },
     "execution_count": 12,
     "metadata": {},
     "output_type": "execute_result"
    }
   ],
   "source": [
    "# Contagem dos dados a partir do agrupamento do tipo de carga ('payload').\n",
    "# Pode-se observar que tem 4 cargas, de peso (em Kg): 0, 250, 500 e 750.\n",
    "dados_parametros.groupby('payload').count()"
   ]
  },
  {
   "cell_type": "markdown",
   "metadata": {
    "id": "BQamS-i-A7F6"
   },
   "source": [
    "### Altitude de voo mais frequente"
   ]
  },
  {
   "cell_type": "code",
   "execution_count": 13,
   "metadata": {
    "colab": {
     "base_uri": "https://localhost:8080/",
     "height": 235
    },
    "executionInfo": {
     "elapsed": 14,
     "status": "ok",
     "timestamp": 1667908418241,
     "user": {
      "displayName": "Leandro Luna",
      "userId": "00217320943669558162"
     },
     "user_tz": 180
    },
    "id": "q_7TS8-NBAJs",
    "outputId": "dc270daa-a319-4d05-8a8d-781121163421"
   },
   "outputs": [
    {
     "data": {
      "text/html": [
       "\n",
       "  <div id=\"df-19af6b10-9f7f-4126-a85c-27af50d5e5f9\">\n",
       "    <div class=\"colab-df-container\">\n",
       "      <div>\n",
       "<style scoped>\n",
       "    .dataframe tbody tr th:only-of-type {\n",
       "        vertical-align: middle;\n",
       "    }\n",
       "\n",
       "    .dataframe tbody tr th {\n",
       "        vertical-align: top;\n",
       "    }\n",
       "\n",
       "    .dataframe thead th {\n",
       "        text-align: right;\n",
       "    }\n",
       "</style>\n",
       "<table border=\"1\" class=\"dataframe\">\n",
       "  <thead>\n",
       "    <tr style=\"text-align: right;\">\n",
       "      <th></th>\n",
       "      <th>Altitude</th>\n",
       "      <th>Frequência</th>\n",
       "    </tr>\n",
       "  </thead>\n",
       "  <tbody>\n",
       "    <tr>\n",
       "      <th>0</th>\n",
       "      <td>25</td>\n",
       "      <td>54</td>\n",
       "    </tr>\n",
       "    <tr>\n",
       "      <th>1</th>\n",
       "      <td>50</td>\n",
       "      <td>48</td>\n",
       "    </tr>\n",
       "    <tr>\n",
       "      <th>2</th>\n",
       "      <td>75</td>\n",
       "      <td>47</td>\n",
       "    </tr>\n",
       "    <tr>\n",
       "      <th>3</th>\n",
       "      <td>100</td>\n",
       "      <td>45</td>\n",
       "    </tr>\n",
       "    <tr>\n",
       "      <th>4</th>\n",
       "      <td>0</td>\n",
       "      <td>9</td>\n",
       "    </tr>\n",
       "    <tr>\n",
       "      <th>5</th>\n",
       "      <td>3</td>\n",
       "      <td>4</td>\n",
       "    </tr>\n",
       "  </tbody>\n",
       "</table>\n",
       "</div>\n",
       "      <button class=\"colab-df-convert\" onclick=\"convertToInteractive('df-19af6b10-9f7f-4126-a85c-27af50d5e5f9')\"\n",
       "              title=\"Convert this dataframe to an interactive table.\"\n",
       "              style=\"display:none;\">\n",
       "        \n",
       "  <svg xmlns=\"http://www.w3.org/2000/svg\" height=\"24px\"viewBox=\"0 0 24 24\"\n",
       "       width=\"24px\">\n",
       "    <path d=\"M0 0h24v24H0V0z\" fill=\"none\"/>\n",
       "    <path d=\"M18.56 5.44l.94 2.06.94-2.06 2.06-.94-2.06-.94-.94-2.06-.94 2.06-2.06.94zm-11 1L8.5 8.5l.94-2.06 2.06-.94-2.06-.94L8.5 2.5l-.94 2.06-2.06.94zm10 10l.94 2.06.94-2.06 2.06-.94-2.06-.94-.94-2.06-.94 2.06-2.06.94z\"/><path d=\"M17.41 7.96l-1.37-1.37c-.4-.4-.92-.59-1.43-.59-.52 0-1.04.2-1.43.59L10.3 9.45l-7.72 7.72c-.78.78-.78 2.05 0 2.83L4 21.41c.39.39.9.59 1.41.59.51 0 1.02-.2 1.41-.59l7.78-7.78 2.81-2.81c.8-.78.8-2.07 0-2.86zM5.41 20L4 18.59l7.72-7.72 1.47 1.35L5.41 20z\"/>\n",
       "  </svg>\n",
       "      </button>\n",
       "      \n",
       "  <style>\n",
       "    .colab-df-container {\n",
       "      display:flex;\n",
       "      flex-wrap:wrap;\n",
       "      gap: 12px;\n",
       "    }\n",
       "\n",
       "    .colab-df-convert {\n",
       "      background-color: #E8F0FE;\n",
       "      border: none;\n",
       "      border-radius: 50%;\n",
       "      cursor: pointer;\n",
       "      display: none;\n",
       "      fill: #1967D2;\n",
       "      height: 32px;\n",
       "      padding: 0 0 0 0;\n",
       "      width: 32px;\n",
       "    }\n",
       "\n",
       "    .colab-df-convert:hover {\n",
       "      background-color: #E2EBFA;\n",
       "      box-shadow: 0px 1px 2px rgba(60, 64, 67, 0.3), 0px 1px 3px 1px rgba(60, 64, 67, 0.15);\n",
       "      fill: #174EA6;\n",
       "    }\n",
       "\n",
       "    [theme=dark] .colab-df-convert {\n",
       "      background-color: #3B4455;\n",
       "      fill: #D2E3FC;\n",
       "    }\n",
       "\n",
       "    [theme=dark] .colab-df-convert:hover {\n",
       "      background-color: #434B5C;\n",
       "      box-shadow: 0px 1px 3px 1px rgba(0, 0, 0, 0.15);\n",
       "      filter: drop-shadow(0px 1px 2px rgba(0, 0, 0, 0.3));\n",
       "      fill: #FFFFFF;\n",
       "    }\n",
       "  </style>\n",
       "\n",
       "      <script>\n",
       "        const buttonEl =\n",
       "          document.querySelector('#df-19af6b10-9f7f-4126-a85c-27af50d5e5f9 button.colab-df-convert');\n",
       "        buttonEl.style.display =\n",
       "          google.colab.kernel.accessAllowed ? 'block' : 'none';\n",
       "\n",
       "        async function convertToInteractive(key) {\n",
       "          const element = document.querySelector('#df-19af6b10-9f7f-4126-a85c-27af50d5e5f9');\n",
       "          const dataTable =\n",
       "            await google.colab.kernel.invokeFunction('convertToInteractive',\n",
       "                                                     [key], {});\n",
       "          if (!dataTable) return;\n",
       "\n",
       "          const docLinkHtml = 'Like what you see? Visit the ' +\n",
       "            '<a target=\"_blank\" href=https://colab.research.google.com/notebooks/data_table.ipynb>data table notebook</a>'\n",
       "            + ' to learn more about interactive tables.';\n",
       "          element.innerHTML = '';\n",
       "          dataTable['output_type'] = 'display_data';\n",
       "          await google.colab.output.renderOutput(dataTable, element);\n",
       "          const docLink = document.createElement('div');\n",
       "          docLink.innerHTML = docLinkHtml;\n",
       "          element.appendChild(docLink);\n",
       "        }\n",
       "      </script>\n",
       "    </div>\n",
       "  </div>\n",
       "  "
      ],
      "text/plain": [
       "   Altitude  Frequência\n",
       "0        25          54\n",
       "1        50          48\n",
       "2        75          47\n",
       "3       100          45\n",
       "4         0           9\n",
       "5         3           4"
      ]
     },
     "execution_count": 13,
     "metadata": {},
     "output_type": "execute_result"
    }
   ],
   "source": [
    "dados_altitude = dados_parametros['altitude'].value_counts().reset_index() # Filtra os dados com base no atributo 'altitude', e realiza uma contagem\n",
    "# de valores únicos em ordem descendente.\n",
    "dados_altitude.columns = ['Altitude', 'Frequência'] # Cria-se um index para apresentação dos dados.\n",
    "dados_altitude "
   ]
  },
  {
   "cell_type": "markdown",
   "metadata": {
    "id": "e0DLTGxeTuJ0"
   },
   "source": [
    "Conclui-se que a altitude de voo mais frequente são os de 25 (metros), com uma frequência de 54 repetições."
   ]
  },
  {
   "cell_type": "markdown",
   "metadata": {
    "id": "16PqdUiSD3Fi"
   },
   "source": [
    "### Pior condição de vento enfrentada e em qual dia\n"
   ]
  },
  {
   "cell_type": "code",
   "execution_count": 14,
   "metadata": {
    "colab": {
     "base_uri": "https://localhost:8080/",
     "height": 80
    },
    "executionInfo": {
     "elapsed": 532,
     "status": "ok",
     "timestamp": 1667908418760,
     "user": {
      "displayName": "Leandro Luna",
      "userId": "00217320943669558162"
     },
     "user_tz": 180
    },
    "id": "ZeQWa-92D-jn",
    "outputId": "75ce0bc8-605a-46b4-ff52-3a22061f0c44"
   },
   "outputs": [
    {
     "data": {
      "text/html": [
       "\n",
       "  <div id=\"df-195fa8ea-d0ff-4575-b439-a7676a5cf60e\">\n",
       "    <div class=\"colab-df-container\">\n",
       "      <div>\n",
       "<style scoped>\n",
       "    .dataframe tbody tr th:only-of-type {\n",
       "        vertical-align: middle;\n",
       "    }\n",
       "\n",
       "    .dataframe tbody tr th {\n",
       "        vertical-align: top;\n",
       "    }\n",
       "\n",
       "    .dataframe thead th {\n",
       "        text-align: right;\n",
       "    }\n",
       "</style>\n",
       "<table border=\"1\" class=\"dataframe\">\n",
       "  <thead>\n",
       "    <tr style=\"text-align: right;\">\n",
       "      <th></th>\n",
       "      <th>flight</th>\n",
       "      <th>speed</th>\n",
       "      <th>payload</th>\n",
       "      <th>altitude</th>\n",
       "      <th>date</th>\n",
       "      <th>local_time</th>\n",
       "      <th>route</th>\n",
       "      <th>total_energy</th>\n",
       "      <th>mean_wind_speed</th>\n",
       "      <th>flight_duration</th>\n",
       "    </tr>\n",
       "  </thead>\n",
       "  <tbody>\n",
       "    <tr>\n",
       "      <th>69</th>\n",
       "      <td>129</td>\n",
       "      <td>12.0</td>\n",
       "      <td>500.0</td>\n",
       "      <td>75</td>\n",
       "      <td>2019-06-25</td>\n",
       "      <td>11:36</td>\n",
       "      <td>R1</td>\n",
       "      <td>89170</td>\n",
       "      <td>6.67</td>\n",
       "      <td>188.3</td>\n",
       "    </tr>\n",
       "  </tbody>\n",
       "</table>\n",
       "</div>\n",
       "      <button class=\"colab-df-convert\" onclick=\"convertToInteractive('df-195fa8ea-d0ff-4575-b439-a7676a5cf60e')\"\n",
       "              title=\"Convert this dataframe to an interactive table.\"\n",
       "              style=\"display:none;\">\n",
       "        \n",
       "  <svg xmlns=\"http://www.w3.org/2000/svg\" height=\"24px\"viewBox=\"0 0 24 24\"\n",
       "       width=\"24px\">\n",
       "    <path d=\"M0 0h24v24H0V0z\" fill=\"none\"/>\n",
       "    <path d=\"M18.56 5.44l.94 2.06.94-2.06 2.06-.94-2.06-.94-.94-2.06-.94 2.06-2.06.94zm-11 1L8.5 8.5l.94-2.06 2.06-.94-2.06-.94L8.5 2.5l-.94 2.06-2.06.94zm10 10l.94 2.06.94-2.06 2.06-.94-2.06-.94-.94-2.06-.94 2.06-2.06.94z\"/><path d=\"M17.41 7.96l-1.37-1.37c-.4-.4-.92-.59-1.43-.59-.52 0-1.04.2-1.43.59L10.3 9.45l-7.72 7.72c-.78.78-.78 2.05 0 2.83L4 21.41c.39.39.9.59 1.41.59.51 0 1.02-.2 1.41-.59l7.78-7.78 2.81-2.81c.8-.78.8-2.07 0-2.86zM5.41 20L4 18.59l7.72-7.72 1.47 1.35L5.41 20z\"/>\n",
       "  </svg>\n",
       "      </button>\n",
       "      \n",
       "  <style>\n",
       "    .colab-df-container {\n",
       "      display:flex;\n",
       "      flex-wrap:wrap;\n",
       "      gap: 12px;\n",
       "    }\n",
       "\n",
       "    .colab-df-convert {\n",
       "      background-color: #E8F0FE;\n",
       "      border: none;\n",
       "      border-radius: 50%;\n",
       "      cursor: pointer;\n",
       "      display: none;\n",
       "      fill: #1967D2;\n",
       "      height: 32px;\n",
       "      padding: 0 0 0 0;\n",
       "      width: 32px;\n",
       "    }\n",
       "\n",
       "    .colab-df-convert:hover {\n",
       "      background-color: #E2EBFA;\n",
       "      box-shadow: 0px 1px 2px rgba(60, 64, 67, 0.3), 0px 1px 3px 1px rgba(60, 64, 67, 0.15);\n",
       "      fill: #174EA6;\n",
       "    }\n",
       "\n",
       "    [theme=dark] .colab-df-convert {\n",
       "      background-color: #3B4455;\n",
       "      fill: #D2E3FC;\n",
       "    }\n",
       "\n",
       "    [theme=dark] .colab-df-convert:hover {\n",
       "      background-color: #434B5C;\n",
       "      box-shadow: 0px 1px 3px 1px rgba(0, 0, 0, 0.15);\n",
       "      filter: drop-shadow(0px 1px 2px rgba(0, 0, 0, 0.3));\n",
       "      fill: #FFFFFF;\n",
       "    }\n",
       "  </style>\n",
       "\n",
       "      <script>\n",
       "        const buttonEl =\n",
       "          document.querySelector('#df-195fa8ea-d0ff-4575-b439-a7676a5cf60e button.colab-df-convert');\n",
       "        buttonEl.style.display =\n",
       "          google.colab.kernel.accessAllowed ? 'block' : 'none';\n",
       "\n",
       "        async function convertToInteractive(key) {\n",
       "          const element = document.querySelector('#df-195fa8ea-d0ff-4575-b439-a7676a5cf60e');\n",
       "          const dataTable =\n",
       "            await google.colab.kernel.invokeFunction('convertToInteractive',\n",
       "                                                     [key], {});\n",
       "          if (!dataTable) return;\n",
       "\n",
       "          const docLinkHtml = 'Like what you see? Visit the ' +\n",
       "            '<a target=\"_blank\" href=https://colab.research.google.com/notebooks/data_table.ipynb>data table notebook</a>'\n",
       "            + ' to learn more about interactive tables.';\n",
       "          element.innerHTML = '';\n",
       "          dataTable['output_type'] = 'display_data';\n",
       "          await google.colab.output.renderOutput(dataTable, element);\n",
       "          const docLink = document.createElement('div');\n",
       "          docLink.innerHTML = docLinkHtml;\n",
       "          element.appendChild(docLink);\n",
       "        }\n",
       "      </script>\n",
       "    </div>\n",
       "  </div>\n",
       "  "
      ],
      "text/plain": [
       "    flight  speed  payload  altitude        date local_time route  \\\n",
       "69     129   12.0    500.0        75  2019-06-25      11:36    R1   \n",
       "\n",
       "    total_energy  mean_wind_speed  flight_duration  \n",
       "69         89170             6.67            188.3  "
      ]
     },
     "execution_count": 14,
     "metadata": {},
     "output_type": "execute_result"
    }
   ],
   "source": [
    "max_mean_wind_speed = dados_parametros['mean_wind_speed'].max() # Filtra pela maior média da velocidade do vento (max_mean_wind_speed).\n",
    "row_max_mean_wind_speed = dados_parametros.loc[dados_parametros['mean_wind_speed'] == max_mean_wind_speed] # Localiza a linha com os dados da pior\n",
    "# condição de vento.\n",
    "row_max_mean_wind_speed"
   ]
  },
  {
   "cell_type": "code",
   "execution_count": 15,
   "metadata": {
    "colab": {
     "base_uri": "https://localhost:8080/"
    },
    "executionInfo": {
     "elapsed": 23,
     "status": "ok",
     "timestamp": 1667908418761,
     "user": {
      "displayName": "Leandro Luna",
      "userId": "00217320943669558162"
     },
     "user_tz": 180
    },
    "id": "QciB0OLNUNM9",
    "outputId": "30579e37-0aab-4d4c-9b4b-63c2d1b02ab9"
   },
   "outputs": [
    {
     "name": "stdout",
     "output_type": "stream",
     "text": [
      "O dia com a pior condição de vento '6.67 m/s' ocorreu em '2019-06-25'.\n"
     ]
    }
   ],
   "source": [
    "print(f\"O dia com a pior condição de vento '{max_mean_wind_speed} m/s' ocorreu em '{row_max_mean_wind_speed['date'].to_string(index=False)}'.\")"
   ]
  },
  {
   "cell_type": "markdown",
   "metadata": {
    "id": "TBZhVWPPOha_"
   },
   "source": [
    "### Média e desvio padrão de todos os dados numéricos."
   ]
  },
  {
   "cell_type": "code",
   "execution_count": 16,
   "metadata": {
    "colab": {
     "base_uri": "https://localhost:8080/",
     "height": 111
    },
    "executionInfo": {
     "elapsed": 20,
     "status": "ok",
     "timestamp": 1667908418761,
     "user": {
      "displayName": "Leandro Luna",
      "userId": "00217320943669558162"
     },
     "user_tz": 180
    },
    "id": "87bF2eczOm8t",
    "outputId": "54661ce6-a3f3-4559-e714-aa23f3272cc5"
   },
   "outputs": [
    {
     "data": {
      "text/html": [
       "\n",
       "  <div id=\"df-3760bd70-43b1-4819-8fb0-9eb38fd02f9b\">\n",
       "    <div class=\"colab-df-container\">\n",
       "      <div>\n",
       "<style scoped>\n",
       "    .dataframe tbody tr th:only-of-type {\n",
       "        vertical-align: middle;\n",
       "    }\n",
       "\n",
       "    .dataframe tbody tr th {\n",
       "        vertical-align: top;\n",
       "    }\n",
       "\n",
       "    .dataframe thead th {\n",
       "        text-align: right;\n",
       "    }\n",
       "</style>\n",
       "<table border=\"1\" class=\"dataframe\">\n",
       "  <thead>\n",
       "    <tr style=\"text-align: right;\">\n",
       "      <th></th>\n",
       "      <th>flight</th>\n",
       "      <th>speed</th>\n",
       "      <th>payload</th>\n",
       "      <th>altitude</th>\n",
       "      <th>total_energy</th>\n",
       "      <th>mean_wind_speed</th>\n",
       "      <th>flight_duration</th>\n",
       "    </tr>\n",
       "  </thead>\n",
       "  <tbody>\n",
       "    <tr>\n",
       "      <th>mean</th>\n",
       "      <td>160.207729</td>\n",
       "      <td>7.468599</td>\n",
       "      <td>235.507246</td>\n",
       "      <td>56.942029</td>\n",
       "      <td>73019.062802</td>\n",
       "      <td>4.303913</td>\n",
       "      <td>185.402754</td>\n",
       "    </tr>\n",
       "    <tr>\n",
       "      <th>std</th>\n",
       "      <td>71.628087</td>\n",
       "      <td>3.380086</td>\n",
       "      <td>211.404477</td>\n",
       "      <td>30.923120</td>\n",
       "      <td>22998.812509</td>\n",
       "      <td>1.245148</td>\n",
       "      <td>44.249007</td>\n",
       "    </tr>\n",
       "  </tbody>\n",
       "</table>\n",
       "</div>\n",
       "      <button class=\"colab-df-convert\" onclick=\"convertToInteractive('df-3760bd70-43b1-4819-8fb0-9eb38fd02f9b')\"\n",
       "              title=\"Convert this dataframe to an interactive table.\"\n",
       "              style=\"display:none;\">\n",
       "        \n",
       "  <svg xmlns=\"http://www.w3.org/2000/svg\" height=\"24px\"viewBox=\"0 0 24 24\"\n",
       "       width=\"24px\">\n",
       "    <path d=\"M0 0h24v24H0V0z\" fill=\"none\"/>\n",
       "    <path d=\"M18.56 5.44l.94 2.06.94-2.06 2.06-.94-2.06-.94-.94-2.06-.94 2.06-2.06.94zm-11 1L8.5 8.5l.94-2.06 2.06-.94-2.06-.94L8.5 2.5l-.94 2.06-2.06.94zm10 10l.94 2.06.94-2.06 2.06-.94-2.06-.94-.94-2.06-.94 2.06-2.06.94z\"/><path d=\"M17.41 7.96l-1.37-1.37c-.4-.4-.92-.59-1.43-.59-.52 0-1.04.2-1.43.59L10.3 9.45l-7.72 7.72c-.78.78-.78 2.05 0 2.83L4 21.41c.39.39.9.59 1.41.59.51 0 1.02-.2 1.41-.59l7.78-7.78 2.81-2.81c.8-.78.8-2.07 0-2.86zM5.41 20L4 18.59l7.72-7.72 1.47 1.35L5.41 20z\"/>\n",
       "  </svg>\n",
       "      </button>\n",
       "      \n",
       "  <style>\n",
       "    .colab-df-container {\n",
       "      display:flex;\n",
       "      flex-wrap:wrap;\n",
       "      gap: 12px;\n",
       "    }\n",
       "\n",
       "    .colab-df-convert {\n",
       "      background-color: #E8F0FE;\n",
       "      border: none;\n",
       "      border-radius: 50%;\n",
       "      cursor: pointer;\n",
       "      display: none;\n",
       "      fill: #1967D2;\n",
       "      height: 32px;\n",
       "      padding: 0 0 0 0;\n",
       "      width: 32px;\n",
       "    }\n",
       "\n",
       "    .colab-df-convert:hover {\n",
       "      background-color: #E2EBFA;\n",
       "      box-shadow: 0px 1px 2px rgba(60, 64, 67, 0.3), 0px 1px 3px 1px rgba(60, 64, 67, 0.15);\n",
       "      fill: #174EA6;\n",
       "    }\n",
       "\n",
       "    [theme=dark] .colab-df-convert {\n",
       "      background-color: #3B4455;\n",
       "      fill: #D2E3FC;\n",
       "    }\n",
       "\n",
       "    [theme=dark] .colab-df-convert:hover {\n",
       "      background-color: #434B5C;\n",
       "      box-shadow: 0px 1px 3px 1px rgba(0, 0, 0, 0.15);\n",
       "      filter: drop-shadow(0px 1px 2px rgba(0, 0, 0, 0.3));\n",
       "      fill: #FFFFFF;\n",
       "    }\n",
       "  </style>\n",
       "\n",
       "      <script>\n",
       "        const buttonEl =\n",
       "          document.querySelector('#df-3760bd70-43b1-4819-8fb0-9eb38fd02f9b button.colab-df-convert');\n",
       "        buttonEl.style.display =\n",
       "          google.colab.kernel.accessAllowed ? 'block' : 'none';\n",
       "\n",
       "        async function convertToInteractive(key) {\n",
       "          const element = document.querySelector('#df-3760bd70-43b1-4819-8fb0-9eb38fd02f9b');\n",
       "          const dataTable =\n",
       "            await google.colab.kernel.invokeFunction('convertToInteractive',\n",
       "                                                     [key], {});\n",
       "          if (!dataTable) return;\n",
       "\n",
       "          const docLinkHtml = 'Like what you see? Visit the ' +\n",
       "            '<a target=\"_blank\" href=https://colab.research.google.com/notebooks/data_table.ipynb>data table notebook</a>'\n",
       "            + ' to learn more about interactive tables.';\n",
       "          element.innerHTML = '';\n",
       "          dataTable['output_type'] = 'display_data';\n",
       "          await google.colab.output.renderOutput(dataTable, element);\n",
       "          const docLink = document.createElement('div');\n",
       "          docLink.innerHTML = docLinkHtml;\n",
       "          element.appendChild(docLink);\n",
       "        }\n",
       "      </script>\n",
       "    </div>\n",
       "  </div>\n",
       "  "
      ],
      "text/plain": [
       "          flight     speed     payload   altitude  total_energy  \\\n",
       "mean  160.207729  7.468599  235.507246  56.942029  73019.062802   \n",
       "std    71.628087  3.380086  211.404477  30.923120  22998.812509   \n",
       "\n",
       "      mean_wind_speed  flight_duration  \n",
       "mean         4.303913       185.402754  \n",
       "std          1.245148        44.249007  "
      ]
     },
     "execution_count": 16,
     "metadata": {},
     "output_type": "execute_result"
    }
   ],
   "source": [
    "# Gera-se estatísticas descritivas dos dados, filtrado por 'média' (mean) e 'desvio padrão' (std).\n",
    "dados_parametros.describe().loc[['mean','std']]"
   ]
  },
  {
   "cell_type": "markdown",
   "metadata": {
    "id": "RD7bQhy2Pvao"
   },
   "source": [
    "### Média e desvio padrão de todos os dados numéricos agrupados por carga transportada."
   ]
  },
  {
   "cell_type": "code",
   "execution_count": 17,
   "metadata": {
    "colab": {
     "base_uri": "https://localhost:8080/",
     "height": 235
    },
    "executionInfo": {
     "elapsed": 18,
     "status": "ok",
     "timestamp": 1667908418761,
     "user": {
      "displayName": "Leandro Luna",
      "userId": "00217320943669558162"
     },
     "user_tz": 180
    },
    "id": "5LLA6cFmPyV9",
    "outputId": "7a526a75-f0d9-421a-cb0e-0af02a884662"
   },
   "outputs": [
    {
     "data": {
      "text/html": [
       "\n",
       "  <div id=\"df-e2216f5c-1279-4936-8e41-ef76169c24bf\">\n",
       "    <div class=\"colab-df-container\">\n",
       "      <div>\n",
       "<style scoped>\n",
       "    .dataframe tbody tr th:only-of-type {\n",
       "        vertical-align: middle;\n",
       "    }\n",
       "\n",
       "    .dataframe tbody tr th {\n",
       "        vertical-align: top;\n",
       "    }\n",
       "\n",
       "    .dataframe thead tr th {\n",
       "        text-align: left;\n",
       "    }\n",
       "\n",
       "    .dataframe thead tr:last-of-type th {\n",
       "        text-align: right;\n",
       "    }\n",
       "</style>\n",
       "<table border=\"1\" class=\"dataframe\">\n",
       "  <thead>\n",
       "    <tr>\n",
       "      <th></th>\n",
       "      <th colspan=\"2\" halign=\"left\">flight</th>\n",
       "      <th colspan=\"2\" halign=\"left\">speed</th>\n",
       "      <th colspan=\"2\" halign=\"left\">altitude</th>\n",
       "      <th colspan=\"2\" halign=\"left\">total_energy</th>\n",
       "      <th colspan=\"2\" halign=\"left\">mean_wind_speed</th>\n",
       "      <th colspan=\"2\" halign=\"left\">flight_duration</th>\n",
       "    </tr>\n",
       "    <tr>\n",
       "      <th></th>\n",
       "      <th>mean</th>\n",
       "      <th>std</th>\n",
       "      <th>mean</th>\n",
       "      <th>std</th>\n",
       "      <th>mean</th>\n",
       "      <th>std</th>\n",
       "      <th>mean</th>\n",
       "      <th>std</th>\n",
       "      <th>mean</th>\n",
       "      <th>std</th>\n",
       "      <th>mean</th>\n",
       "      <th>std</th>\n",
       "    </tr>\n",
       "    <tr>\n",
       "      <th>payload</th>\n",
       "      <th></th>\n",
       "      <th></th>\n",
       "      <th></th>\n",
       "      <th></th>\n",
       "      <th></th>\n",
       "      <th></th>\n",
       "      <th></th>\n",
       "      <th></th>\n",
       "      <th></th>\n",
       "      <th></th>\n",
       "      <th></th>\n",
       "      <th></th>\n",
       "    </tr>\n",
       "  </thead>\n",
       "  <tbody>\n",
       "    <tr>\n",
       "      <th>0.0</th>\n",
       "      <td>152.177215</td>\n",
       "      <td>77.281165</td>\n",
       "      <td>6.658228</td>\n",
       "      <td>3.970681</td>\n",
       "      <td>50.468354</td>\n",
       "      <td>34.098964</td>\n",
       "      <td>61047.620253</td>\n",
       "      <td>24943.515536</td>\n",
       "      <td>4.016835</td>\n",
       "      <td>1.709701</td>\n",
       "      <td>179.286076</td>\n",
       "      <td>47.439108</td>\n",
       "    </tr>\n",
       "    <tr>\n",
       "      <th>250.0</th>\n",
       "      <td>156.903226</td>\n",
       "      <td>72.394799</td>\n",
       "      <td>7.967742</td>\n",
       "      <td>2.862807</td>\n",
       "      <td>62.500000</td>\n",
       "      <td>27.813047</td>\n",
       "      <td>77155.322581</td>\n",
       "      <td>17296.967595</td>\n",
       "      <td>4.447097</td>\n",
       "      <td>0.851312</td>\n",
       "      <td>188.908065</td>\n",
       "      <td>48.915693</td>\n",
       "    </tr>\n",
       "    <tr>\n",
       "      <th>500.0</th>\n",
       "      <td>174.415385</td>\n",
       "      <td>61.918518</td>\n",
       "      <td>8.030769</td>\n",
       "      <td>2.861213</td>\n",
       "      <td>60.000000</td>\n",
       "      <td>28.572824</td>\n",
       "      <td>83315.738462</td>\n",
       "      <td>18753.318566</td>\n",
       "      <td>4.522000</td>\n",
       "      <td>0.751655</td>\n",
       "      <td>188.602615</td>\n",
       "      <td>34.029771</td>\n",
       "    </tr>\n",
       "    <tr>\n",
       "      <th>750.0</th>\n",
       "      <td>76.000000</td>\n",
       "      <td>NaN</td>\n",
       "      <td>4.000000</td>\n",
       "      <td>NaN</td>\n",
       "      <td>25.000000</td>\n",
       "      <td>NaN</td>\n",
       "      <td>93031.000000</td>\n",
       "      <td>NaN</td>\n",
       "      <td>3.930000</td>\n",
       "      <td>NaN</td>\n",
       "      <td>243.300000</td>\n",
       "      <td>NaN</td>\n",
       "    </tr>\n",
       "  </tbody>\n",
       "</table>\n",
       "</div>\n",
       "      <button class=\"colab-df-convert\" onclick=\"convertToInteractive('df-e2216f5c-1279-4936-8e41-ef76169c24bf')\"\n",
       "              title=\"Convert this dataframe to an interactive table.\"\n",
       "              style=\"display:none;\">\n",
       "        \n",
       "  <svg xmlns=\"http://www.w3.org/2000/svg\" height=\"24px\"viewBox=\"0 0 24 24\"\n",
       "       width=\"24px\">\n",
       "    <path d=\"M0 0h24v24H0V0z\" fill=\"none\"/>\n",
       "    <path d=\"M18.56 5.44l.94 2.06.94-2.06 2.06-.94-2.06-.94-.94-2.06-.94 2.06-2.06.94zm-11 1L8.5 8.5l.94-2.06 2.06-.94-2.06-.94L8.5 2.5l-.94 2.06-2.06.94zm10 10l.94 2.06.94-2.06 2.06-.94-2.06-.94-.94-2.06-.94 2.06-2.06.94z\"/><path d=\"M17.41 7.96l-1.37-1.37c-.4-.4-.92-.59-1.43-.59-.52 0-1.04.2-1.43.59L10.3 9.45l-7.72 7.72c-.78.78-.78 2.05 0 2.83L4 21.41c.39.39.9.59 1.41.59.51 0 1.02-.2 1.41-.59l7.78-7.78 2.81-2.81c.8-.78.8-2.07 0-2.86zM5.41 20L4 18.59l7.72-7.72 1.47 1.35L5.41 20z\"/>\n",
       "  </svg>\n",
       "      </button>\n",
       "      \n",
       "  <style>\n",
       "    .colab-df-container {\n",
       "      display:flex;\n",
       "      flex-wrap:wrap;\n",
       "      gap: 12px;\n",
       "    }\n",
       "\n",
       "    .colab-df-convert {\n",
       "      background-color: #E8F0FE;\n",
       "      border: none;\n",
       "      border-radius: 50%;\n",
       "      cursor: pointer;\n",
       "      display: none;\n",
       "      fill: #1967D2;\n",
       "      height: 32px;\n",
       "      padding: 0 0 0 0;\n",
       "      width: 32px;\n",
       "    }\n",
       "\n",
       "    .colab-df-convert:hover {\n",
       "      background-color: #E2EBFA;\n",
       "      box-shadow: 0px 1px 2px rgba(60, 64, 67, 0.3), 0px 1px 3px 1px rgba(60, 64, 67, 0.15);\n",
       "      fill: #174EA6;\n",
       "    }\n",
       "\n",
       "    [theme=dark] .colab-df-convert {\n",
       "      background-color: #3B4455;\n",
       "      fill: #D2E3FC;\n",
       "    }\n",
       "\n",
       "    [theme=dark] .colab-df-convert:hover {\n",
       "      background-color: #434B5C;\n",
       "      box-shadow: 0px 1px 3px 1px rgba(0, 0, 0, 0.15);\n",
       "      filter: drop-shadow(0px 1px 2px rgba(0, 0, 0, 0.3));\n",
       "      fill: #FFFFFF;\n",
       "    }\n",
       "  </style>\n",
       "\n",
       "      <script>\n",
       "        const buttonEl =\n",
       "          document.querySelector('#df-e2216f5c-1279-4936-8e41-ef76169c24bf button.colab-df-convert');\n",
       "        buttonEl.style.display =\n",
       "          google.colab.kernel.accessAllowed ? 'block' : 'none';\n",
       "\n",
       "        async function convertToInteractive(key) {\n",
       "          const element = document.querySelector('#df-e2216f5c-1279-4936-8e41-ef76169c24bf');\n",
       "          const dataTable =\n",
       "            await google.colab.kernel.invokeFunction('convertToInteractive',\n",
       "                                                     [key], {});\n",
       "          if (!dataTable) return;\n",
       "\n",
       "          const docLinkHtml = 'Like what you see? Visit the ' +\n",
       "            '<a target=\"_blank\" href=https://colab.research.google.com/notebooks/data_table.ipynb>data table notebook</a>'\n",
       "            + ' to learn more about interactive tables.';\n",
       "          element.innerHTML = '';\n",
       "          dataTable['output_type'] = 'display_data';\n",
       "          await google.colab.output.renderOutput(dataTable, element);\n",
       "          const docLink = document.createElement('div');\n",
       "          docLink.innerHTML = docLinkHtml;\n",
       "          element.appendChild(docLink);\n",
       "        }\n",
       "      </script>\n",
       "    </div>\n",
       "  </div>\n",
       "  "
      ],
      "text/plain": [
       "             flight                speed             altitude             \\\n",
       "               mean        std      mean       std       mean        std   \n",
       "payload                                                                    \n",
       "0.0      152.177215  77.281165  6.658228  3.970681  50.468354  34.098964   \n",
       "250.0    156.903226  72.394799  7.967742  2.862807  62.500000  27.813047   \n",
       "500.0    174.415385  61.918518  8.030769  2.861213  60.000000  28.572824   \n",
       "750.0     76.000000        NaN  4.000000       NaN  25.000000        NaN   \n",
       "\n",
       "         total_energy               mean_wind_speed           flight_duration  \\\n",
       "                 mean           std            mean       std            mean   \n",
       "payload                                                                         \n",
       "0.0      61047.620253  24943.515536        4.016835  1.709701      179.286076   \n",
       "250.0    77155.322581  17296.967595        4.447097  0.851312      188.908065   \n",
       "500.0    83315.738462  18753.318566        4.522000  0.751655      188.602615   \n",
       "750.0    93031.000000           NaN        3.930000       NaN      243.300000   \n",
       "\n",
       "                    \n",
       "               std  \n",
       "payload             \n",
       "0.0      47.439108  \n",
       "250.0    48.915693  \n",
       "500.0    34.029771  \n",
       "750.0          NaN  "
      ]
     },
     "execution_count": 17,
     "metadata": {},
     "output_type": "execute_result"
    }
   ],
   "source": [
    "# Gera-se estatísticas descritivas dos dados agrupados pelo 'tipo de carga' (payload), filtrados para 'média' (mean) e 'desvio padrão' (std).\n",
    "dados_parametros.groupby('payload').describe().loc[:, (slice(None), ['mean','std'])] \n",
    "# Só temos um item com a carga de 750kg, logo std = NaN."
   ]
  },
  {
   "cell_type": "markdown",
   "metadata": {
    "id": "vs5JrZkd3obn"
   },
   "source": [
    "## Modelo para predizer o total de energia consumida em função dos parâmetros de voo. "
   ]
  },
  {
   "cell_type": "code",
   "execution_count": 18,
   "metadata": {
    "colab": {
     "base_uri": "https://localhost:8080/",
     "height": 204
    },
    "executionInfo": {
     "elapsed": 17,
     "status": "ok",
     "timestamp": 1667908418762,
     "user": {
      "displayName": "Leandro Luna",
      "userId": "00217320943669558162"
     },
     "user_tz": 180
    },
    "id": "K8wH51qe3obn",
    "outputId": "a4f66a4c-40ab-43dc-b819-a50393e23460"
   },
   "outputs": [
    {
     "data": {
      "text/html": [
       "\n",
       "  <div id=\"df-ead7ac73-2fe0-4f4f-8d0f-b0bfcb73d986\">\n",
       "    <div class=\"colab-df-container\">\n",
       "      <div>\n",
       "<style scoped>\n",
       "    .dataframe tbody tr th:only-of-type {\n",
       "        vertical-align: middle;\n",
       "    }\n",
       "\n",
       "    .dataframe tbody tr th {\n",
       "        vertical-align: top;\n",
       "    }\n",
       "\n",
       "    .dataframe thead th {\n",
       "        text-align: right;\n",
       "    }\n",
       "</style>\n",
       "<table border=\"1\" class=\"dataframe\">\n",
       "  <thead>\n",
       "    <tr style=\"text-align: right;\">\n",
       "      <th></th>\n",
       "      <th>flight</th>\n",
       "      <th>speed</th>\n",
       "      <th>payload</th>\n",
       "      <th>altitude</th>\n",
       "      <th>date</th>\n",
       "      <th>local_time</th>\n",
       "      <th>route</th>\n",
       "      <th>total_energy</th>\n",
       "      <th>mean_wind_speed</th>\n",
       "      <th>flight_duration</th>\n",
       "    </tr>\n",
       "  </thead>\n",
       "  <tbody>\n",
       "    <tr>\n",
       "      <th>0</th>\n",
       "      <td>1</td>\n",
       "      <td>4.0</td>\n",
       "      <td>0.0</td>\n",
       "      <td>25</td>\n",
       "      <td>2019-04-07</td>\n",
       "      <td>10:13</td>\n",
       "      <td>non R1</td>\n",
       "      <td>78473</td>\n",
       "      <td>3.90</td>\n",
       "      <td>200.7</td>\n",
       "    </tr>\n",
       "    <tr>\n",
       "      <th>1</th>\n",
       "      <td>2</td>\n",
       "      <td>4.0</td>\n",
       "      <td>0.0</td>\n",
       "      <td>50</td>\n",
       "      <td>2019-04-07</td>\n",
       "      <td>10:23</td>\n",
       "      <td>non R1</td>\n",
       "      <td>91363</td>\n",
       "      <td>3.52</td>\n",
       "      <td>271.2</td>\n",
       "    </tr>\n",
       "    <tr>\n",
       "      <th>2</th>\n",
       "      <td>3</td>\n",
       "      <td>6.0</td>\n",
       "      <td>0.0</td>\n",
       "      <td>25</td>\n",
       "      <td>2019-04-07</td>\n",
       "      <td>10:33</td>\n",
       "      <td>non R1</td>\n",
       "      <td>61487</td>\n",
       "      <td>4.58</td>\n",
       "      <td>180.1</td>\n",
       "    </tr>\n",
       "    <tr>\n",
       "      <th>3</th>\n",
       "      <td>4</td>\n",
       "      <td>8.0</td>\n",
       "      <td>0.0</td>\n",
       "      <td>25</td>\n",
       "      <td>2019-04-07</td>\n",
       "      <td>10:48</td>\n",
       "      <td>non R1</td>\n",
       "      <td>52915</td>\n",
       "      <td>4.60</td>\n",
       "      <td>171.0</td>\n",
       "    </tr>\n",
       "    <tr>\n",
       "      <th>4</th>\n",
       "      <td>5</td>\n",
       "      <td>4.0</td>\n",
       "      <td>0.0</td>\n",
       "      <td>25</td>\n",
       "      <td>2019-04-07</td>\n",
       "      <td>11:05</td>\n",
       "      <td>non R1</td>\n",
       "      <td>68589</td>\n",
       "      <td>3.33</td>\n",
       "      <td>217.0</td>\n",
       "    </tr>\n",
       "  </tbody>\n",
       "</table>\n",
       "</div>\n",
       "      <button class=\"colab-df-convert\" onclick=\"convertToInteractive('df-ead7ac73-2fe0-4f4f-8d0f-b0bfcb73d986')\"\n",
       "              title=\"Convert this dataframe to an interactive table.\"\n",
       "              style=\"display:none;\">\n",
       "        \n",
       "  <svg xmlns=\"http://www.w3.org/2000/svg\" height=\"24px\"viewBox=\"0 0 24 24\"\n",
       "       width=\"24px\">\n",
       "    <path d=\"M0 0h24v24H0V0z\" fill=\"none\"/>\n",
       "    <path d=\"M18.56 5.44l.94 2.06.94-2.06 2.06-.94-2.06-.94-.94-2.06-.94 2.06-2.06.94zm-11 1L8.5 8.5l.94-2.06 2.06-.94-2.06-.94L8.5 2.5l-.94 2.06-2.06.94zm10 10l.94 2.06.94-2.06 2.06-.94-2.06-.94-.94-2.06-.94 2.06-2.06.94z\"/><path d=\"M17.41 7.96l-1.37-1.37c-.4-.4-.92-.59-1.43-.59-.52 0-1.04.2-1.43.59L10.3 9.45l-7.72 7.72c-.78.78-.78 2.05 0 2.83L4 21.41c.39.39.9.59 1.41.59.51 0 1.02-.2 1.41-.59l7.78-7.78 2.81-2.81c.8-.78.8-2.07 0-2.86zM5.41 20L4 18.59l7.72-7.72 1.47 1.35L5.41 20z\"/>\n",
       "  </svg>\n",
       "      </button>\n",
       "      \n",
       "  <style>\n",
       "    .colab-df-container {\n",
       "      display:flex;\n",
       "      flex-wrap:wrap;\n",
       "      gap: 12px;\n",
       "    }\n",
       "\n",
       "    .colab-df-convert {\n",
       "      background-color: #E8F0FE;\n",
       "      border: none;\n",
       "      border-radius: 50%;\n",
       "      cursor: pointer;\n",
       "      display: none;\n",
       "      fill: #1967D2;\n",
       "      height: 32px;\n",
       "      padding: 0 0 0 0;\n",
       "      width: 32px;\n",
       "    }\n",
       "\n",
       "    .colab-df-convert:hover {\n",
       "      background-color: #E2EBFA;\n",
       "      box-shadow: 0px 1px 2px rgba(60, 64, 67, 0.3), 0px 1px 3px 1px rgba(60, 64, 67, 0.15);\n",
       "      fill: #174EA6;\n",
       "    }\n",
       "\n",
       "    [theme=dark] .colab-df-convert {\n",
       "      background-color: #3B4455;\n",
       "      fill: #D2E3FC;\n",
       "    }\n",
       "\n",
       "    [theme=dark] .colab-df-convert:hover {\n",
       "      background-color: #434B5C;\n",
       "      box-shadow: 0px 1px 3px 1px rgba(0, 0, 0, 0.15);\n",
       "      filter: drop-shadow(0px 1px 2px rgba(0, 0, 0, 0.3));\n",
       "      fill: #FFFFFF;\n",
       "    }\n",
       "  </style>\n",
       "\n",
       "      <script>\n",
       "        const buttonEl =\n",
       "          document.querySelector('#df-ead7ac73-2fe0-4f4f-8d0f-b0bfcb73d986 button.colab-df-convert');\n",
       "        buttonEl.style.display =\n",
       "          google.colab.kernel.accessAllowed ? 'block' : 'none';\n",
       "\n",
       "        async function convertToInteractive(key) {\n",
       "          const element = document.querySelector('#df-ead7ac73-2fe0-4f4f-8d0f-b0bfcb73d986');\n",
       "          const dataTable =\n",
       "            await google.colab.kernel.invokeFunction('convertToInteractive',\n",
       "                                                     [key], {});\n",
       "          if (!dataTable) return;\n",
       "\n",
       "          const docLinkHtml = 'Like what you see? Visit the ' +\n",
       "            '<a target=\"_blank\" href=https://colab.research.google.com/notebooks/data_table.ipynb>data table notebook</a>'\n",
       "            + ' to learn more about interactive tables.';\n",
       "          element.innerHTML = '';\n",
       "          dataTable['output_type'] = 'display_data';\n",
       "          await google.colab.output.renderOutput(dataTable, element);\n",
       "          const docLink = document.createElement('div');\n",
       "          docLink.innerHTML = docLinkHtml;\n",
       "          element.appendChild(docLink);\n",
       "        }\n",
       "      </script>\n",
       "    </div>\n",
       "  </div>\n",
       "  "
      ],
      "text/plain": [
       "   flight  speed  payload  altitude        date local_time   route  \\\n",
       "0       1    4.0      0.0        25  2019-04-07      10:13  non R1   \n",
       "1       2    4.0      0.0        50  2019-04-07      10:23  non R1   \n",
       "2       3    6.0      0.0        25  2019-04-07      10:33  non R1   \n",
       "3       4    8.0      0.0        25  2019-04-07      10:48  non R1   \n",
       "4       5    4.0      0.0        25  2019-04-07      11:05  non R1   \n",
       "\n",
       "   total_energy  mean_wind_speed  flight_duration  \n",
       "0         78473             3.90            200.7  \n",
       "1         91363             3.52            271.2  \n",
       "2         61487             4.58            180.1  \n",
       "3         52915             4.60            171.0  \n",
       "4         68589             3.33            217.0  "
      ]
     },
     "execution_count": 18,
     "metadata": {},
     "output_type": "execute_result"
    }
   ],
   "source": [
    "# Visualização dos 5 primeiros itens. \n",
    "dados_parametros.head()"
   ]
  },
  {
   "cell_type": "code",
   "execution_count": 19,
   "metadata": {
    "executionInfo": {
     "elapsed": 16,
     "status": "ok",
     "timestamp": 1667908418762,
     "user": {
      "displayName": "Leandro Luna",
      "userId": "00217320943669558162"
     },
     "user_tz": 180
    },
    "id": "LgQtGYnWSehS"
   },
   "outputs": [],
   "source": [
    "# Escolhe-se as colunas preditivas e alvo.\n",
    "x = dados_parametros.drop(columns = ['date', 'local_time', 'route', 'total_energy']) # Colunas descritivas.\n",
    "y = dados_parametros['total_energy'] # Valor alvo.\n",
    "\n",
    "# Divide-se conjunto de treinamento (80%) e conjunto de teste (20%).\n",
    "x_train, x_test, y_train, y_test = train_test_split(x, y, test_size = 0.2, random_state = 42)"
   ]
  },
  {
   "cell_type": "code",
   "execution_count": 20,
   "metadata": {
    "executionInfo": {
     "elapsed": 15,
     "status": "ok",
     "timestamp": 1667908418762,
     "user": {
      "displayName": "Leandro Luna",
      "userId": "00217320943669558162"
     },
     "user_tz": 180
    },
    "id": "zfau1NWPTC8N"
   },
   "outputs": [],
   "source": [
    "# Escalonamento\n",
    "scaler = StandardScaler() # Cria-se o objeto de escalonamento.\n",
    "scaler.fit(x_train) # Passa-se os dados de treinamento para encontrar a escala.\n",
    "\n",
    "x_train_escalonado = scaler.transform(x_train)\n",
    "x_test_escalonado = scaler.transform(x_test)"
   ]
  },
  {
   "cell_type": "code",
   "execution_count": 21,
   "metadata": {
    "executionInfo": {
     "elapsed": 14,
     "status": "ok",
     "timestamp": 1667908418762,
     "user": {
      "displayName": "Leandro Luna",
      "userId": "00217320943669558162"
     },
     "user_tz": 180
    },
    "id": "L8SnpiuYTSP3"
   },
   "outputs": [],
   "source": [
    "# Regressor.\n",
    "dtr = DecisionTreeRegressor() # Cria-se o objeto do regressor (não mudamos nenhum hiperpârametro)\n",
    "\n",
    "dtr.fit(x_train_escalonado,y_train) # Treina-se o regressor passando apenas o conjunto de dados de treinamento \n",
    "\n",
    "y_predicoes = dtr.predict(x_test_escalonado) # Predize-se os dados de teste escalonados, com base no regressor treinado anteriormente."
   ]
  },
  {
   "cell_type": "code",
   "execution_count": 22,
   "metadata": {
    "colab": {
     "base_uri": "https://localhost:8080/",
     "height": 316
    },
    "executionInfo": {
     "elapsed": 394,
     "status": "ok",
     "timestamp": 1667908419142,
     "user": {
      "displayName": "Leandro Luna",
      "userId": "00217320943669558162"
     },
     "user_tz": 180
    },
    "id": "QScYqcoiUSik",
    "outputId": "02a2cf6e-1924-4316-f4a1-6d8c6e968ad4"
   },
   "outputs": [
    {
     "data": {
      "text/plain": [
       "[<matplotlib.lines.Line2D at 0x7f5d73703c10>]"
      ]
     },
     "execution_count": 22,
     "metadata": {},
     "output_type": "execute_result"
    },
    {
     "data": {
      "image/png": "[encoded data removed]",
      "text/plain": [
       "<Figure size 432x288 with 1 Axes>"
      ]
     },
     "metadata": {
      "needs_background": "light"
     },
     "output_type": "display_data"
    }
   ],
   "source": [
    "# Exibe-se um gráfico plotado com os dados de teste e os dados previstos.\n",
    "ax = sns.regplot(x=y_test, y=y_predicoes)\n",
    "ax.set_xlabel('Total de energia consumida real do conjunto de teste')\n",
    "ax.set_ylabel('Total de energia consumida previsto pelo algoritmo')\n",
    "plt.plot(y_test, y_test, 'r--', linewidth = 2, label='Correto')"
   ]
  },
  {
   "cell_type": "markdown",
   "metadata": {},
   "source": [
    "### Avaliação do modelo"
   ]
  },
  {
   "cell_type": "code",
   "execution_count": 23,
   "metadata": {
    "colab": {
     "base_uri": "https://localhost:8080/"
    },
    "executionInfo": {
     "elapsed": 14,
     "status": "ok",
     "timestamp": 1667908419143,
     "user": {
      "displayName": "Leandro Luna",
      "userId": "00217320943669558162"
     },
     "user_tz": 180
    },
    "id": "-dFWpP2NTmHt",
    "outputId": "efe07628-8e37-42d9-9b0e-d0bb2e5b1298"
   },
   "outputs": [
    {
     "name": "stdout",
     "output_type": "stream",
     "text": [
      "MAE:  5623.857142857143\n",
      "MSE:  57221865.190476194\n",
      "R2:  0.9165026197344865\n",
      "ρ: 0.9703068929701099\n"
     ]
    }
   ],
   "source": [
    "MAE = mean_absolute_error(y_true = y_test,      # Gabarito.\n",
    "                          y_pred = y_predicoes) # Respostas do algoritmo ao teste realizado.\n",
    "print('MAE: ', MAE)\n",
    "\n",
    "MSE = mean_squared_error(y_true = y_test,      # Gabarito.\n",
    "                         y_pred = y_predicoes) # Respostas do algoritmo ao teste realizado.\n",
    "print('MSE: ', MSE)\n",
    "\n",
    "R2 = r2_score(y_true = y_test,      # Gabarito.\n",
    "              y_pred = y_predicoes) # Respostas do algoritmo ao teste realizado.\n",
    "print('R2: ', R2)  # Quanto mais próximos de 1, melhor.\n",
    "\n",
    "rho = pearsonr(y_test, y_predicoes)\n",
    "print('\\u03C1:', rho[0]) # Quanto mais próximo de 1, melhor. O algoritmo treinado obteu uma correlação dos dados de teste com dados previstos de 97%."
   ]
  },
  {
   "cell_type": "markdown",
   "metadata": {
    "id": "ws9MziDaaOl1"
   },
   "source": [
    "O algoritmo treinado teve um desempenho acima de 91% na métrica R2. "
   ]
  },
  {
   "cell_type": "markdown",
   "metadata": {
    "id": "hqB6B9JY3obn"
   },
   "source": [
    "## Modelo para classificar a rota (route) de voo apenas com os parâmetros gerais com recall precisa estar acima de 90%."
   ]
  },
  {
   "cell_type": "code",
   "execution_count": 24,
   "metadata": {
    "colab": {
     "base_uri": "https://localhost:8080/",
     "height": 204
    },
    "executionInfo": {
     "elapsed": 11,
     "status": "ok",
     "timestamp": 1667908419143,
     "user": {
      "displayName": "Leandro Luna",
      "userId": "00217320943669558162"
     },
     "user_tz": 180
    },
    "id": "6vgQfo6vX7s0",
    "outputId": "836e8636-7a77-4ab8-cbff-d4bffa833c5f"
   },
   "outputs": [
    {
     "data": {
      "text/html": [
       "\n",
       "  <div id=\"df-fc90b08d-91dd-4f5a-b003-d0f1c90858c7\">\n",
       "    <div class=\"colab-df-container\">\n",
       "      <div>\n",
       "<style scoped>\n",
       "    .dataframe tbody tr th:only-of-type {\n",
       "        vertical-align: middle;\n",
       "    }\n",
       "\n",
       "    .dataframe tbody tr th {\n",
       "        vertical-align: top;\n",
       "    }\n",
       "\n",
       "    .dataframe thead th {\n",
       "        text-align: right;\n",
       "    }\n",
       "</style>\n",
       "<table border=\"1\" class=\"dataframe\">\n",
       "  <thead>\n",
       "    <tr style=\"text-align: right;\">\n",
       "      <th></th>\n",
       "      <th>flight</th>\n",
       "      <th>speed</th>\n",
       "      <th>payload</th>\n",
       "      <th>altitude</th>\n",
       "      <th>date</th>\n",
       "      <th>local_time</th>\n",
       "      <th>route</th>\n",
       "      <th>total_energy</th>\n",
       "      <th>mean_wind_speed</th>\n",
       "      <th>flight_duration</th>\n",
       "    </tr>\n",
       "  </thead>\n",
       "  <tbody>\n",
       "    <tr>\n",
       "      <th>0</th>\n",
       "      <td>1</td>\n",
       "      <td>4.0</td>\n",
       "      <td>0.0</td>\n",
       "      <td>25</td>\n",
       "      <td>2019-04-07</td>\n",
       "      <td>10:13</td>\n",
       "      <td>non R1</td>\n",
       "      <td>78473</td>\n",
       "      <td>3.90</td>\n",
       "      <td>200.7</td>\n",
       "    </tr>\n",
       "    <tr>\n",
       "      <th>1</th>\n",
       "      <td>2</td>\n",
       "      <td>4.0</td>\n",
       "      <td>0.0</td>\n",
       "      <td>50</td>\n",
       "      <td>2019-04-07</td>\n",
       "      <td>10:23</td>\n",
       "      <td>non R1</td>\n",
       "      <td>91363</td>\n",
       "      <td>3.52</td>\n",
       "      <td>271.2</td>\n",
       "    </tr>\n",
       "    <tr>\n",
       "      <th>2</th>\n",
       "      <td>3</td>\n",
       "      <td>6.0</td>\n",
       "      <td>0.0</td>\n",
       "      <td>25</td>\n",
       "      <td>2019-04-07</td>\n",
       "      <td>10:33</td>\n",
       "      <td>non R1</td>\n",
       "      <td>61487</td>\n",
       "      <td>4.58</td>\n",
       "      <td>180.1</td>\n",
       "    </tr>\n",
       "    <tr>\n",
       "      <th>3</th>\n",
       "      <td>4</td>\n",
       "      <td>8.0</td>\n",
       "      <td>0.0</td>\n",
       "      <td>25</td>\n",
       "      <td>2019-04-07</td>\n",
       "      <td>10:48</td>\n",
       "      <td>non R1</td>\n",
       "      <td>52915</td>\n",
       "      <td>4.60</td>\n",
       "      <td>171.0</td>\n",
       "    </tr>\n",
       "    <tr>\n",
       "      <th>4</th>\n",
       "      <td>5</td>\n",
       "      <td>4.0</td>\n",
       "      <td>0.0</td>\n",
       "      <td>25</td>\n",
       "      <td>2019-04-07</td>\n",
       "      <td>11:05</td>\n",
       "      <td>non R1</td>\n",
       "      <td>68589</td>\n",
       "      <td>3.33</td>\n",
       "      <td>217.0</td>\n",
       "    </tr>\n",
       "  </tbody>\n",
       "</table>\n",
       "</div>\n",
       "      <button class=\"colab-df-convert\" onclick=\"convertToInteractive('df-fc90b08d-91dd-4f5a-b003-d0f1c90858c7')\"\n",
       "              title=\"Convert this dataframe to an interactive table.\"\n",
       "              style=\"display:none;\">\n",
       "        \n",
       "  <svg xmlns=\"http://www.w3.org/2000/svg\" height=\"24px\"viewBox=\"0 0 24 24\"\n",
       "       width=\"24px\">\n",
       "    <path d=\"M0 0h24v24H0V0z\" fill=\"none\"/>\n",
       "    <path d=\"M18.56 5.44l.94 2.06.94-2.06 2.06-.94-2.06-.94-.94-2.06-.94 2.06-2.06.94zm-11 1L8.5 8.5l.94-2.06 2.06-.94-2.06-.94L8.5 2.5l-.94 2.06-2.06.94zm10 10l.94 2.06.94-2.06 2.06-.94-2.06-.94-.94-2.06-.94 2.06-2.06.94z\"/><path d=\"M17.41 7.96l-1.37-1.37c-.4-.4-.92-.59-1.43-.59-.52 0-1.04.2-1.43.59L10.3 9.45l-7.72 7.72c-.78.78-.78 2.05 0 2.83L4 21.41c.39.39.9.59 1.41.59.51 0 1.02-.2 1.41-.59l7.78-7.78 2.81-2.81c.8-.78.8-2.07 0-2.86zM5.41 20L4 18.59l7.72-7.72 1.47 1.35L5.41 20z\"/>\n",
       "  </svg>\n",
       "      </button>\n",
       "      \n",
       "  <style>\n",
       "    .colab-df-container {\n",
       "      display:flex;\n",
       "      flex-wrap:wrap;\n",
       "      gap: 12px;\n",
       "    }\n",
       "\n",
       "    .colab-df-convert {\n",
       "      background-color: #E8F0FE;\n",
       "      border: none;\n",
       "      border-radius: 50%;\n",
       "      cursor: pointer;\n",
       "      display: none;\n",
       "      fill: #1967D2;\n",
       "      height: 32px;\n",
       "      padding: 0 0 0 0;\n",
       "      width: 32px;\n",
       "    }\n",
       "\n",
       "    .colab-df-convert:hover {\n",
       "      background-color: #E2EBFA;\n",
       "      box-shadow: 0px 1px 2px rgba(60, 64, 67, 0.3), 0px 1px 3px 1px rgba(60, 64, 67, 0.15);\n",
       "      fill: #174EA6;\n",
       "    }\n",
       "\n",
       "    [theme=dark] .colab-df-convert {\n",
       "      background-color: #3B4455;\n",
       "      fill: #D2E3FC;\n",
       "    }\n",
       "\n",
       "    [theme=dark] .colab-df-convert:hover {\n",
       "      background-color: #434B5C;\n",
       "      box-shadow: 0px 1px 3px 1px rgba(0, 0, 0, 0.15);\n",
       "      filter: drop-shadow(0px 1px 2px rgba(0, 0, 0, 0.3));\n",
       "      fill: #FFFFFF;\n",
       "    }\n",
       "  </style>\n",
       "\n",
       "      <script>\n",
       "        const buttonEl =\n",
       "          document.querySelector('#df-fc90b08d-91dd-4f5a-b003-d0f1c90858c7 button.colab-df-convert');\n",
       "        buttonEl.style.display =\n",
       "          google.colab.kernel.accessAllowed ? 'block' : 'none';\n",
       "\n",
       "        async function convertToInteractive(key) {\n",
       "          const element = document.querySelector('#df-fc90b08d-91dd-4f5a-b003-d0f1c90858c7');\n",
       "          const dataTable =\n",
       "            await google.colab.kernel.invokeFunction('convertToInteractive',\n",
       "                                                     [key], {});\n",
       "          if (!dataTable) return;\n",
       "\n",
       "          const docLinkHtml = 'Like what you see? Visit the ' +\n",
       "            '<a target=\"_blank\" href=https://colab.research.google.com/notebooks/data_table.ipynb>data table notebook</a>'\n",
       "            + ' to learn more about interactive tables.';\n",
       "          element.innerHTML = '';\n",
       "          dataTable['output_type'] = 'display_data';\n",
       "          await google.colab.output.renderOutput(dataTable, element);\n",
       "          const docLink = document.createElement('div');\n",
       "          docLink.innerHTML = docLinkHtml;\n",
       "          element.appendChild(docLink);\n",
       "        }\n",
       "      </script>\n",
       "    </div>\n",
       "  </div>\n",
       "  "
      ],
      "text/plain": [
       "   flight  speed  payload  altitude        date local_time   route  \\\n",
       "0       1    4.0      0.0        25  2019-04-07      10:13  non R1   \n",
       "1       2    4.0      0.0        50  2019-04-07      10:23  non R1   \n",
       "2       3    6.0      0.0        25  2019-04-07      10:33  non R1   \n",
       "3       4    8.0      0.0        25  2019-04-07      10:48  non R1   \n",
       "4       5    4.0      0.0        25  2019-04-07      11:05  non R1   \n",
       "\n",
       "   total_energy  mean_wind_speed  flight_duration  \n",
       "0         78473             3.90            200.7  \n",
       "1         91363             3.52            271.2  \n",
       "2         61487             4.58            180.1  \n",
       "3         52915             4.60            171.0  \n",
       "4         68589             3.33            217.0  "
      ]
     },
     "execution_count": 24,
     "metadata": {},
     "output_type": "execute_result"
    }
   ],
   "source": [
    "# Visualização dos 5 primeiros itens. \n",
    "dados_parametros.head()"
   ]
  },
  {
   "cell_type": "code",
   "execution_count": 25,
   "metadata": {
    "executionInfo": {
     "elapsed": 10,
     "status": "ok",
     "timestamp": 1667908419143,
     "user": {
      "displayName": "Leandro Luna",
      "userId": "00217320943669558162"
     },
     "user_tz": 180
    },
    "id": "6NaOXY8K3obn"
   },
   "outputs": [],
   "source": [
    "# Escolhendo as colunas preditivas e alvo.\n",
    "x = dados_parametros.drop(columns = ['route', 'date', 'local_time']) # Colunas descritivas. \n",
    "y = dados_parametros['route'] # Classe alvo.\n",
    "\n",
    "# Divide-se conjunto de treinamento (80%) e conjunto de teste (20%).\n",
    "x_train, x_test, y_train, y_test = train_test_split(x, y, test_size = 0.20, random_state = 42, stratify=y) # O stratify mantem a mesma proporção \n",
    "# de exemplos para cada classe."
   ]
  },
  {
   "cell_type": "code",
   "execution_count": 26,
   "metadata": {
    "executionInfo": {
     "elapsed": 9,
     "status": "ok",
     "timestamp": 1667908419143,
     "user": {
      "displayName": "Leandro Luna",
      "userId": "00217320943669558162"
     },
     "user_tz": 180
    },
    "id": "XEJAde7XYHSh"
   },
   "outputs": [],
   "source": [
    "# Instanciando o escalonador.\n",
    "scaler = MinMaxScaler() \n",
    "\n",
    "# Treinando o escalonador.\n",
    "scaler.fit(x_train)\n",
    "\n",
    "# Usando o escalonador treinado para transformar os dados.\n",
    "x_train_scaled = scaler.transform(x_train)\n",
    "x_test_scaled = scaler.transform(x_test)"
   ]
  },
  {
   "cell_type": "code",
   "execution_count": 27,
   "metadata": {
    "executionInfo": {
     "elapsed": 256,
     "status": "ok",
     "timestamp": 1667908419391,
     "user": {
      "displayName": "Leandro Luna",
      "userId": "00217320943669558162"
     },
     "user_tz": 180
    },
    "id": "fwJ-9I8cYRmr"
   },
   "outputs": [],
   "source": [
    "# Criando-se o classificador. \n",
    "rfc = RandomForestClassifier(bootstrap= True,\n",
    "                             max_depth= 80, \n",
    "                             max_features= 3, \n",
    "                             min_samples_leaf= 5, \n",
    "                             min_samples_split= 10, \n",
    "                             n_estimators= 100)\n",
    "\n",
    "rfc.fit(x_train_scaled, y_train) # Treina-se o classificador passando apenas o conjunto de dados de treinamento escalonados.\n",
    "y_predicoes = rfc.predict(x_test_scaled) # Prediz as classes."
   ]
  },
  {
   "cell_type": "code",
   "execution_count": 28,
   "metadata": {
    "colab": {
     "base_uri": "https://localhost:8080/",
     "height": 313
    },
    "executionInfo": {
     "elapsed": 12,
     "status": "ok",
     "timestamp": 1667908419392,
     "user": {
      "displayName": "Leandro Luna",
      "userId": "00217320943669558162"
     },
     "user_tz": 180
    },
    "id": "HjPK7nDwYVeb",
    "outputId": "9a8dd7f2-4208-4dbf-acd0-d31dc7f9a942"
   },
   "outputs": [
    {
     "data": {
      "text/plain": [
       "<sklearn.metrics._plot.confusion_matrix.ConfusionMatrixDisplay at 0x7f5d73678790>"
      ]
     },
     "execution_count": 28,
     "metadata": {},
     "output_type": "execute_result"
    },
    {
     "data": {
      "text/plain": [
       "<Figure size 1080x360 with 0 Axes>"
      ]
     },
     "metadata": {},
     "output_type": "display_data"
    },
    {
     "data": {
      "image/png": "[encoded data removed]",
      "text/plain": [
       "<Figure size 432x288 with 2 Axes>"
      ]
     },
     "metadata": {
      "needs_background": "light"
     },
     "output_type": "display_data"
    }
   ],
   "source": [
    "# Gera-se matriz de confusão.\n",
    "matriz_confusao = confusion_matrix(y_true = y_test,\n",
    "                                   y_pred = y_predicoes,\n",
    "                                   labels=['R1', 'non R1'])\n",
    "\n",
    "# Exibe uma figura com a matriz de confusão.\n",
    "figure = plt.figure(figsize=(15, 5))\n",
    "disp = ConfusionMatrixDisplay(confusion_matrix = matriz_confusao, display_labels=['R1', 'non R1'])\n",
    "disp.plot(values_format='d') "
   ]
  },
  {
   "cell_type": "code",
   "execution_count": 29,
   "metadata": {
    "colab": {
     "base_uri": "https://localhost:8080/"
    },
    "executionInfo": {
     "elapsed": 8,
     "status": "ok",
     "timestamp": 1667908419392,
     "user": {
      "displayName": "Leandro Luna",
      "userId": "00217320943669558162"
     },
     "user_tz": 180
    },
    "id": "5Ebfwo96Y-zf",
    "outputId": "2f9786ae-5e3b-4c6f-d337-96e8a4a7ad4b"
   },
   "outputs": [
    {
     "name": "stdout",
     "output_type": "stream",
     "text": [
      "              precision    recall  f1-score   support\n",
      "\n",
      "          R1       0.95      1.00      0.97        37\n",
      "      non R1       1.00      0.60      0.75         5\n",
      "\n",
      "    accuracy                           0.95        42\n",
      "   macro avg       0.97      0.80      0.86        42\n",
      "weighted avg       0.95      0.95      0.95        42\n",
      "\n"
     ]
    }
   ],
   "source": [
    "# Relatório do desempenho do classificador.\n",
    "print(classification_report(y_test, y_predicoes))"
   ]
  },
  {
   "cell_type": "code",
   "execution_count": 30,
   "metadata": {
    "colab": {
     "base_uri": "https://localhost:8080/"
    },
    "executionInfo": {
     "elapsed": 370,
     "status": "ok",
     "timestamp": 1667908419756,
     "user": {
      "displayName": "Leandro Luna",
      "userId": "00217320943669558162"
     },
     "user_tz": 180
    },
    "id": "wN6CxMPYZrB-",
    "outputId": "a3d01d34-d0d2-4fb0-e694-82b97ef27909"
   },
   "outputs": [
    {
     "name": "stdout",
     "output_type": "stream",
     "text": [
      "Coeficiente Kappa de Cohen:  0.7254901960784315\n",
      "Acurácia:  0.9523809523809523\n",
      "Recall score:  0.9523809523809523\n"
     ]
    }
   ],
   "source": [
    "# Métrica do Coeficiente Kappa de Cohen\n",
    "print('Coeficiente Kappa de Cohen: ', cohen_kappa_score(y_test, y_predicoes))\n",
    "\n",
    "# Acurácia\n",
    "print('Acurácia: ', accuracy_score(y_test, y_predicoes))\n",
    "\n",
    "# Recall\n",
    "print('Recall score: ', recall_score(y_test, y_predicoes, average='micro'))"
   ]
  },
  {
   "cell_type": "markdown",
   "metadata": {
    "id": "JsWdsHFMZzRD"
   },
   "source": [
    "Conclui-se que o algoritmo teve um recall de 95%. "
   ]
  },
  {
   "cell_type": "markdown",
   "metadata": {
    "id": "bLDgyyq83obo"
   },
   "source": [
    "-----------------------------------------------\n",
    "# Parte B - Dados de Voo\n",
    "\n",
    "Dados de sensores de voo (<code>sensores_voo.csv</code>)."
   ]
  },
  {
   "cell_type": "markdown",
   "metadata": {
    "id": "VwU-aIFc3obo"
   },
   "source": [
    "## Quantidade de voos"
   ]
  },
  {
   "cell_type": "code",
   "execution_count": 1,
   "metadata": {
    "executionInfo": {
     "elapsed": 11,
     "status": "ok",
     "timestamp": 1667908419757,
     "user": {
      "displayName": "Leandro Luna",
      "userId": "00217320943669558162"
     },
     "user_tz": 180
    },
    "id": "jpGz-14w3obo"
   },
   "outputs": [
    {
     "ename": "NameError",
     "evalue": "name 'pd' is not defined",
     "output_type": "error",
     "traceback": [
      "\u001b[0;31m---------------------------------------------------------------------------\u001b[0m",
      "\u001b[0;31mNameError\u001b[0m                                 Traceback (most recent call last)",
      "Input \u001b[0;32mIn [1]\u001b[0m, in \u001b[0;36m<cell line: 2>\u001b[0;34m()\u001b[0m\n\u001b[1;32m      1\u001b[0m \u001b[38;5;66;03m# Carregando dados do dataset 'sensores_voo.csv'\u001b[39;00m\n\u001b[0;32m----> 2\u001b[0m dados_voo \u001b[38;5;241m=\u001b[39m \u001b[43mpd\u001b[49m\u001b[38;5;241m.\u001b[39mread_csv(\u001b[38;5;124m'\u001b[39m\u001b[38;5;124m/content/drive/MyDrive/Colab Notebooks/GS2/sensores_voo.csv\u001b[39m\u001b[38;5;124m'\u001b[39m, sep\u001b[38;5;241m=\u001b[39m\u001b[38;5;124m'\u001b[39m\u001b[38;5;124m,\u001b[39m\u001b[38;5;124m'\u001b[39m)\n",
      "\u001b[0;31mNameError\u001b[0m: name 'pd' is not defined"
     ]
    }
   ],
   "source": [
    "# Carregando dados do dataset 'sensores_voo.csv'\n",
    "dados_voo = pd.read_csv('/content/drive/MyDrive/Colab Notebooks/GS2/sensores_voo.csv', sep=',') "
   ]
  },
  {
   "cell_type": "code",
   "execution_count": 32,
   "metadata": {
    "colab": {
     "base_uri": "https://localhost:8080/",
     "height": 297
    },
    "executionInfo": {
     "elapsed": 453,
     "status": "ok",
     "timestamp": 1667908420202,
     "user": {
      "displayName": "Leandro Luna",
      "userId": "00217320943669558162"
     },
     "user_tz": 180
    },
    "id": "Wrf8p_2w4DV4",
    "outputId": "2801ed1c-ece1-4569-de0d-9e730d062370"
   },
   "outputs": [
    {
     "data": {
      "text/html": [
       "\n",
       "  <div id=\"df-bace187c-cee5-4894-bbd0-3923487c8c3b\">\n",
       "    <div class=\"colab-df-container\">\n",
       "      <div>\n",
       "<style scoped>\n",
       "    .dataframe tbody tr th:only-of-type {\n",
       "        vertical-align: middle;\n",
       "    }\n",
       "\n",
       "    .dataframe tbody tr th {\n",
       "        vertical-align: top;\n",
       "    }\n",
       "\n",
       "    .dataframe thead th {\n",
       "        text-align: right;\n",
       "    }\n",
       "</style>\n",
       "<table border=\"1\" class=\"dataframe\">\n",
       "  <thead>\n",
       "    <tr style=\"text-align: right;\">\n",
       "      <th></th>\n",
       "      <th>time</th>\n",
       "      <th>wind_speed</th>\n",
       "      <th>wind_angle</th>\n",
       "      <th>battery_voltage</th>\n",
       "      <th>battery_current</th>\n",
       "      <th>position_x</th>\n",
       "      <th>position_y</th>\n",
       "      <th>position_z</th>\n",
       "      <th>orientation_x</th>\n",
       "      <th>orientation_y</th>\n",
       "      <th>...</th>\n",
       "      <th>orientation_w</th>\n",
       "      <th>velocity_x</th>\n",
       "      <th>velocity_y</th>\n",
       "      <th>velocity_z</th>\n",
       "      <th>angular_x</th>\n",
       "      <th>angular_y</th>\n",
       "      <th>angular_z</th>\n",
       "      <th>linear_acceleration_x</th>\n",
       "      <th>linear_acceleration_y</th>\n",
       "      <th>linear_acceleration_z</th>\n",
       "    </tr>\n",
       "  </thead>\n",
       "  <tbody>\n",
       "    <tr>\n",
       "      <th>0</th>\n",
       "      <td>0.0</td>\n",
       "      <td>0.1</td>\n",
       "      <td>12.0</td>\n",
       "      <td>24.222174</td>\n",
       "      <td>0.087470</td>\n",
       "      <td>-79.781396</td>\n",
       "      <td>40.458047</td>\n",
       "      <td>269.332402</td>\n",
       "      <td>0.001772</td>\n",
       "      <td>0.005610</td>\n",
       "      <td>...</td>\n",
       "      <td>0.966784</td>\n",
       "      <td>-0.012826</td>\n",
       "      <td>-0.005645</td>\n",
       "      <td>0.010475</td>\n",
       "      <td>-0.000825</td>\n",
       "      <td>0.001407</td>\n",
       "      <td>0.006815</td>\n",
       "      <td>0.004258</td>\n",
       "      <td>-0.120405</td>\n",
       "      <td>-9.811137</td>\n",
       "    </tr>\n",
       "    <tr>\n",
       "      <th>1</th>\n",
       "      <td>0.2</td>\n",
       "      <td>0.1</td>\n",
       "      <td>3.0</td>\n",
       "      <td>24.227180</td>\n",
       "      <td>0.095421</td>\n",
       "      <td>-79.781396</td>\n",
       "      <td>40.458047</td>\n",
       "      <td>269.332056</td>\n",
       "      <td>0.001768</td>\n",
       "      <td>0.005607</td>\n",
       "      <td>...</td>\n",
       "      <td>0.966783</td>\n",
       "      <td>-0.015410</td>\n",
       "      <td>-0.001636</td>\n",
       "      <td>0.010137</td>\n",
       "      <td>0.000001</td>\n",
       "      <td>-0.002862</td>\n",
       "      <td>0.002034</td>\n",
       "      <td>0.006175</td>\n",
       "      <td>-0.116397</td>\n",
       "      <td>-9.810392</td>\n",
       "    </tr>\n",
       "    <tr>\n",
       "      <th>2</th>\n",
       "      <td>0.3</td>\n",
       "      <td>0.1</td>\n",
       "      <td>352.0</td>\n",
       "      <td>24.225929</td>\n",
       "      <td>0.095421</td>\n",
       "      <td>-79.781396</td>\n",
       "      <td>40.458047</td>\n",
       "      <td>269.333081</td>\n",
       "      <td>0.001768</td>\n",
       "      <td>0.005607</td>\n",
       "      <td>...</td>\n",
       "      <td>0.966783</td>\n",
       "      <td>-0.016514</td>\n",
       "      <td>-0.001822</td>\n",
       "      <td>0.009981</td>\n",
       "      <td>-0.000007</td>\n",
       "      <td>-0.001486</td>\n",
       "      <td>-0.000874</td>\n",
       "      <td>0.002696</td>\n",
       "      <td>-0.128592</td>\n",
       "      <td>-9.809440</td>\n",
       "    </tr>\n",
       "    <tr>\n",
       "      <th>3</th>\n",
       "      <td>0.5</td>\n",
       "      <td>0.1</td>\n",
       "      <td>354.0</td>\n",
       "      <td>24.224678</td>\n",
       "      <td>0.095421</td>\n",
       "      <td>-79.781396</td>\n",
       "      <td>40.458047</td>\n",
       "      <td>269.334648</td>\n",
       "      <td>0.001775</td>\n",
       "      <td>0.005614</td>\n",
       "      <td>...</td>\n",
       "      <td>0.966785</td>\n",
       "      <td>-0.007775</td>\n",
       "      <td>-0.005263</td>\n",
       "      <td>0.015091</td>\n",
       "      <td>0.001255</td>\n",
       "      <td>-0.000347</td>\n",
       "      <td>0.002443</td>\n",
       "      <td>0.002024</td>\n",
       "      <td>-0.128271</td>\n",
       "      <td>-9.810159</td>\n",
       "    </tr>\n",
       "    <tr>\n",
       "      <th>4</th>\n",
       "      <td>0.6</td>\n",
       "      <td>0.1</td>\n",
       "      <td>359.0</td>\n",
       "      <td>24.210905</td>\n",
       "      <td>0.079518</td>\n",
       "      <td>-79.781396</td>\n",
       "      <td>40.458047</td>\n",
       "      <td>269.336178</td>\n",
       "      <td>0.001775</td>\n",
       "      <td>0.005614</td>\n",
       "      <td>...</td>\n",
       "      <td>0.966785</td>\n",
       "      <td>-0.009060</td>\n",
       "      <td>-0.005174</td>\n",
       "      <td>0.015142</td>\n",
       "      <td>-0.002383</td>\n",
       "      <td>0.000182</td>\n",
       "      <td>-0.006425</td>\n",
       "      <td>0.008271</td>\n",
       "      <td>-0.119890</td>\n",
       "      <td>-9.812125</td>\n",
       "    </tr>\n",
       "  </tbody>\n",
       "</table>\n",
       "<p>5 rows × 21 columns</p>\n",
       "</div>\n",
       "      <button class=\"colab-df-convert\" onclick=\"convertToInteractive('df-bace187c-cee5-4894-bbd0-3923487c8c3b')\"\n",
       "              title=\"Convert this dataframe to an interactive table.\"\n",
       "              style=\"display:none;\">\n",
       "        \n",
       "  <svg xmlns=\"http://www.w3.org/2000/svg\" height=\"24px\"viewBox=\"0 0 24 24\"\n",
       "       width=\"24px\">\n",
       "    <path d=\"M0 0h24v24H0V0z\" fill=\"none\"/>\n",
       "    <path d=\"M18.56 5.44l.94 2.06.94-2.06 2.06-.94-2.06-.94-.94-2.06-.94 2.06-2.06.94zm-11 1L8.5 8.5l.94-2.06 2.06-.94-2.06-.94L8.5 2.5l-.94 2.06-2.06.94zm10 10l.94 2.06.94-2.06 2.06-.94-2.06-.94-.94-2.06-.94 2.06-2.06.94z\"/><path d=\"M17.41 7.96l-1.37-1.37c-.4-.4-.92-.59-1.43-.59-.52 0-1.04.2-1.43.59L10.3 9.45l-7.72 7.72c-.78.78-.78 2.05 0 2.83L4 21.41c.39.39.9.59 1.41.59.51 0 1.02-.2 1.41-.59l7.78-7.78 2.81-2.81c.8-.78.8-2.07 0-2.86zM5.41 20L4 18.59l7.72-7.72 1.47 1.35L5.41 20z\"/>\n",
       "  </svg>\n",
       "      </button>\n",
       "      \n",
       "  <style>\n",
       "    .colab-df-container {\n",
       "      display:flex;\n",
       "      flex-wrap:wrap;\n",
       "      gap: 12px;\n",
       "    }\n",
       "\n",
       "    .colab-df-convert {\n",
       "      background-color: #E8F0FE;\n",
       "      border: none;\n",
       "      border-radius: 50%;\n",
       "      cursor: pointer;\n",
       "      display: none;\n",
       "      fill: #1967D2;\n",
       "      height: 32px;\n",
       "      padding: 0 0 0 0;\n",
       "      width: 32px;\n",
       "    }\n",
       "\n",
       "    .colab-df-convert:hover {\n",
       "      background-color: #E2EBFA;\n",
       "      box-shadow: 0px 1px 2px rgba(60, 64, 67, 0.3), 0px 1px 3px 1px rgba(60, 64, 67, 0.15);\n",
       "      fill: #174EA6;\n",
       "    }\n",
       "\n",
       "    [theme=dark] .colab-df-convert {\n",
       "      background-color: #3B4455;\n",
       "      fill: #D2E3FC;\n",
       "    }\n",
       "\n",
       "    [theme=dark] .colab-df-convert:hover {\n",
       "      background-color: #434B5C;\n",
       "      box-shadow: 0px 1px 3px 1px rgba(0, 0, 0, 0.15);\n",
       "      filter: drop-shadow(0px 1px 2px rgba(0, 0, 0, 0.3));\n",
       "      fill: #FFFFFF;\n",
       "    }\n",
       "  </style>\n",
       "\n",
       "      <script>\n",
       "        const buttonEl =\n",
       "          document.querySelector('#df-bace187c-cee5-4894-bbd0-3923487c8c3b button.colab-df-convert');\n",
       "        buttonEl.style.display =\n",
       "          google.colab.kernel.accessAllowed ? 'block' : 'none';\n",
       "\n",
       "        async function convertToInteractive(key) {\n",
       "          const element = document.querySelector('#df-bace187c-cee5-4894-bbd0-3923487c8c3b');\n",
       "          const dataTable =\n",
       "            await google.colab.kernel.invokeFunction('convertToInteractive',\n",
       "                                                     [key], {});\n",
       "          if (!dataTable) return;\n",
       "\n",
       "          const docLinkHtml = 'Like what you see? Visit the ' +\n",
       "            '<a target=\"_blank\" href=https://colab.research.google.com/notebooks/data_table.ipynb>data table notebook</a>'\n",
       "            + ' to learn more about interactive tables.';\n",
       "          element.innerHTML = '';\n",
       "          dataTable['output_type'] = 'display_data';\n",
       "          await google.colab.output.renderOutput(dataTable, element);\n",
       "          const docLink = document.createElement('div');\n",
       "          docLink.innerHTML = docLinkHtml;\n",
       "          element.appendChild(docLink);\n",
       "        }\n",
       "      </script>\n",
       "    </div>\n",
       "  </div>\n",
       "  "
      ],
      "text/plain": [
       "   time  wind_speed  wind_angle  battery_voltage  battery_current  position_x  \\\n",
       "0   0.0         0.1        12.0        24.222174         0.087470  -79.781396   \n",
       "1   0.2         0.1         3.0        24.227180         0.095421  -79.781396   \n",
       "2   0.3         0.1       352.0        24.225929         0.095421  -79.781396   \n",
       "3   0.5         0.1       354.0        24.224678         0.095421  -79.781396   \n",
       "4   0.6         0.1       359.0        24.210905         0.079518  -79.781396   \n",
       "\n",
       "   position_y  position_z  orientation_x  orientation_y  ...  orientation_w  \\\n",
       "0   40.458047  269.332402       0.001772       0.005610  ...       0.966784   \n",
       "1   40.458047  269.332056       0.001768       0.005607  ...       0.966783   \n",
       "2   40.458047  269.333081       0.001768       0.005607  ...       0.966783   \n",
       "3   40.458047  269.334648       0.001775       0.005614  ...       0.966785   \n",
       "4   40.458047  269.336178       0.001775       0.005614  ...       0.966785   \n",
       "\n",
       "   velocity_x  velocity_y  velocity_z  angular_x  angular_y  angular_z  \\\n",
       "0   -0.012826   -0.005645    0.010475  -0.000825   0.001407   0.006815   \n",
       "1   -0.015410   -0.001636    0.010137   0.000001  -0.002862   0.002034   \n",
       "2   -0.016514   -0.001822    0.009981  -0.000007  -0.001486  -0.000874   \n",
       "3   -0.007775   -0.005263    0.015091   0.001255  -0.000347   0.002443   \n",
       "4   -0.009060   -0.005174    0.015142  -0.002383   0.000182  -0.006425   \n",
       "\n",
       "   linear_acceleration_x  linear_acceleration_y  linear_acceleration_z  \n",
       "0               0.004258              -0.120405              -9.811137  \n",
       "1               0.006175              -0.116397              -9.810392  \n",
       "2               0.002696              -0.128592              -9.809440  \n",
       "3               0.002024              -0.128271              -9.810159  \n",
       "4               0.008271              -0.119890              -9.812125  \n",
       "\n",
       "[5 rows x 21 columns]"
      ]
     },
     "execution_count": 32,
     "metadata": {},
     "output_type": "execute_result"
    }
   ],
   "source": [
    "# Visualização dos 5 primeiros itens. \n",
    "dados_voo.head()"
   ]
  },
  {
   "cell_type": "code",
   "execution_count": 33,
   "metadata": {
    "colab": {
     "base_uri": "https://localhost:8080/"
    },
    "executionInfo": {
     "elapsed": 8,
     "status": "ok",
     "timestamp": 1667908420202,
     "user": {
      "displayName": "Leandro Luna",
      "userId": "00217320943669558162"
     },
     "user_tz": 180
    },
    "id": "310e3hv4vokw",
    "outputId": "4153d33e-933e-43bc-8f7e-7f3153ef361b"
   },
   "outputs": [
    {
     "name": "stdout",
     "output_type": "stream",
     "text": [
      "<class 'pandas.core.frame.DataFrame'>\n",
      "RangeIndex: 2967 entries, 0 to 2966\n",
      "Data columns (total 21 columns):\n",
      " #   Column                 Non-Null Count  Dtype  \n",
      "---  ------                 --------------  -----  \n",
      " 0   time                   2967 non-null   float64\n",
      " 1   wind_speed             2967 non-null   float64\n",
      " 2   wind_angle             2967 non-null   float64\n",
      " 3   battery_voltage        2967 non-null   float64\n",
      " 4   battery_current        2967 non-null   float64\n",
      " 5   position_x             2967 non-null   float64\n",
      " 6   position_y             2967 non-null   float64\n",
      " 7   position_z             2967 non-null   float64\n",
      " 8   orientation_x          2967 non-null   float64\n",
      " 9   orientation_y          2967 non-null   float64\n",
      " 10  orientation_z          2967 non-null   float64\n",
      " 11  orientation_w          2967 non-null   float64\n",
      " 12  velocity_x             2967 non-null   float64\n",
      " 13  velocity_y             2967 non-null   float64\n",
      " 14  velocity_z             2967 non-null   float64\n",
      " 15  angular_x              2967 non-null   float64\n",
      " 16  angular_y              2967 non-null   float64\n",
      " 17  angular_z              2967 non-null   float64\n",
      " 18  linear_acceleration_x  2967 non-null   float64\n",
      " 19  linear_acceleration_y  2967 non-null   float64\n",
      " 20  linear_acceleration_z  2967 non-null   float64\n",
      "dtypes: float64(21)\n",
      "memory usage: 486.9 KB\n"
     ]
    }
   ],
   "source": [
    "dados_voo.info()"
   ]
  },
  {
   "cell_type": "code",
   "execution_count": 34,
   "metadata": {
    "colab": {
     "base_uri": "https://localhost:8080/",
     "height": 691
    },
    "executionInfo": {
     "elapsed": 3845,
     "status": "ok",
     "timestamp": 1667908424044,
     "user": {
      "displayName": "Leandro Luna",
      "userId": "00217320943669558162"
     },
     "user_tz": 180
    },
    "id": "2mS6eB9YrBKn",
    "outputId": "8a1298dd-d7d5-49de-9ab8-94ba802182de"
   },
   "outputs": [
    {
     "data": {
      "image/png": "[encoded data removed]",
      "text/plain": [
       "<Figure size 1440x720 with 2 Axes>"
      ]
     },
     "metadata": {
      "needs_background": "light"
     },
     "output_type": "display_data"
    }
   ],
   "source": [
    "# Correlação\n",
    "plt.figure(figsize=(20,10))\n",
    "sns.heatmap(dados_voo.corr(method = 'pearson'),\n",
    "            annot=True, fmt=\".1f\");"
   ]
  },
  {
   "cell_type": "code",
   "execution_count": 35,
   "metadata": {
    "executionInfo": {
     "elapsed": 9,
     "status": "ok",
     "timestamp": 1667908424044,
     "user": {
      "displayName": "Leandro Luna",
      "userId": "00217320943669558162"
     },
     "user_tz": 180
    },
    "id": "OL4IaCELr4km"
   },
   "outputs": [],
   "source": [
    "# Relação das features. - Como há-se muitos dados para serem plotados, recomenda-se comentar essa célula. \n",
    "##sns.pairplot(dados_voo)\n",
    "##plt.show()"
   ]
  },
  {
   "cell_type": "markdown",
   "metadata": {},
   "source": [
    "### Dispersões de posição x e y, e time e z, para validar os grupos encontrados."
   ]
  },
  {
   "cell_type": "code",
   "execution_count": 36,
   "metadata": {
    "colab": {
     "base_uri": "https://localhost:8080/",
     "height": 301
    },
    "executionInfo": {
     "elapsed": 792,
     "status": "ok",
     "timestamp": 1667908424830,
     "user": {
      "displayName": "Leandro Luna",
      "userId": "00217320943669558162"
     },
     "user_tz": 180
    },
    "id": "hgBkYHniZjUN",
    "outputId": "63b86669-e198-405a-e546-4d05f2c40992"
   },
   "outputs": [
    {
     "data": {
      "image/png": "[encoded data removed]",
      "text/plain": [
       "<Figure size 960x640 with 2 Axes>"
      ]
     },
     "metadata": {
      "needs_background": "light"
     },
     "output_type": "display_data"
    }
   ],
   "source": [
    "# Gráficos de dispersão para análise inicial.\n",
    "fig = plt.figure(figsize=(12, 8), dpi=80)\n",
    "\n",
    "# Gráfico 1: Posição X por Posição Y\n",
    "plt.subplot(2,2,1)\n",
    "plt.scatter(x=dados_voo['position_x'], y=dados_voo['position_y'])\n",
    "plt.title('Posições X e Y')\n",
    "plt.xlabel('Posição X')\n",
    "plt.ylabel('Posição Y')\n",
    "\n",
    "# Gráfico 2: Time por Posição Z\n",
    "plt.subplot(2,2,2)\n",
    "plt.scatter(x=dados_voo['time'], y=dados_voo['position_z'])\n",
    "plt.title('Time x Posição Z')\n",
    "plt.xlabel('Time')\n",
    "plt.ylabel('Posição Z')\n",
    "\n",
    "plt.subplots_adjust(wspace = 0.35)"
   ]
  },
  {
   "cell_type": "markdown",
   "metadata": {
    "id": "eeq31_5dbTV6"
   },
   "source": [
    "Observando os gráficos expostos, à primeira vista podemos identificar 2 voos. \n",
    "\n",
    "Aplicaremos algumas técnicas de agrupamento utilizando esses voos como paramêtro de cluster/componente. "
   ]
  },
  {
   "cell_type": "code",
   "execution_count": 37,
   "metadata": {
    "executionInfo": {
     "elapsed": 8,
     "status": "ok",
     "timestamp": 1667908424830,
     "user": {
      "displayName": "Leandro Luna",
      "userId": "00217320943669558162"
     },
     "user_tz": 180
    },
    "id": "b8xQCZ1CiAGq"
   },
   "outputs": [],
   "source": [
    "# Criando o escalonador.\n",
    "sc = StandardScaler()\n",
    "X_scaled = sc.fit_transform(dados_voo[['position_x', 'position_y', 'position_z', 'time']]) # Escalona os dados de posição (position) X, Y e Z, e tempo \n",
    "# (time)."
   ]
  },
  {
   "cell_type": "code",
   "execution_count": 38,
   "metadata": {
    "colab": {
     "base_uri": "https://localhost:8080/",
     "height": 301
    },
    "executionInfo": {
     "elapsed": 2282,
     "status": "ok",
     "timestamp": 1667908427106,
     "user": {
      "displayName": "Leandro Luna",
      "userId": "00217320943669558162"
     },
     "user_tz": 180
    },
    "id": "IBqBPqVqedcW",
    "outputId": "e5bad475-b39b-429e-f4a9-c33ab78f1818"
   },
   "outputs": [
    {
     "data": {
      "image/png": "[encoded data removed]",
      "text/plain": [
       "<Figure size 960x640 with 2 Axes>"
      ]
     },
     "metadata": {
      "needs_background": "light"
     },
     "output_type": "display_data"
    }
   ],
   "source": [
    "# Definindo o modelo de clusterizacao K-MEANS com 2 clusters.\n",
    "kmeans = KMeans(n_clusters=2,random_state=42)\n",
    "\n",
    "#Implementando o K-Means nos dados.\n",
    "kmeans.fit(X_scaled)\n",
    "\n",
    "#Salvando os rótulos dos clusters para cada exemplo.\n",
    "kmeans_labels = kmeans.predict(X_scaled)\n",
    "\n",
    "# Cria-se uma coluna para identificação dos voos.\n",
    "dados_voo['voo_km'] = kmeans_labels\n",
    "\n",
    "# Gráficos de dispersão pintados pela coluna 'voo_km'.\n",
    "fig = plt.figure(figsize=(12, 8), dpi=80)\n",
    "\n",
    "# Gráfico 1: Posição X por Posição Y\n",
    "plt.subplot(2,2,1)\n",
    "plt.scatter(x=dados_voo['position_x'], y=dados_voo['position_y'], c=dados_voo['voo_km'])\n",
    "plt.title('Posições X e Y')\n",
    "plt.xlabel('Posição X')\n",
    "plt.ylabel('Posição Y')\n",
    "\n",
    "# Gráfico 2: Time por Posição Z\n",
    "plt.subplot(2,2,2)\n",
    "plt.scatter(x=dados_voo['time'], y=dados_voo['position_z'], c=dados_voo['voo_km'])\n",
    "plt.title('Time x Posição Z')\n",
    "plt.xlabel('Time')\n",
    "plt.ylabel('Posição Z')\n",
    "\n",
    "plt.subplots_adjust(wspace = 0.35)"
   ]
  },
  {
   "cell_type": "markdown",
   "metadata": {},
   "source": [
    "### Coluna na tabela de dados que permite a fácil identificação dos voos."
   ]
  },
  {
   "cell_type": "code",
   "execution_count": 39,
   "metadata": {
    "colab": {
     "base_uri": "https://localhost:8080/",
     "height": 301
    },
    "executionInfo": {
     "elapsed": 1794,
     "status": "ok",
     "timestamp": 1667908428891,
     "user": {
      "displayName": "Leandro Luna",
      "userId": "00217320943669558162"
     },
     "user_tz": 180
    },
    "id": "zLclYSSXR6jN",
    "outputId": "140d0f01-5f7a-43f7-e539-4a6ba5fa35f0"
   },
   "outputs": [
    {
     "data": {
      "image/png": "[encoded data removed]",
      "text/plain": [
       "<Figure size 960x640 with 2 Axes>"
      ]
     },
     "metadata": {
      "needs_background": "light"
     },
     "output_type": "display_data"
    }
   ],
   "source": [
    "# Definindo o modelo de clusterizacao Gaussian Mixture com 2 componentes.\n",
    "gm = GaussianMixture(n_components=2, random_state=42)\n",
    "\n",
    "#Implementando o K-Means nos dados.\n",
    "gm.fit(X_scaled)\n",
    "\n",
    "gm_labels = gm.predict(X_scaled)\n",
    "\n",
    "# Cria-se uma coluna para identificação dos voos.\n",
    "dados_voo['voo_gm'] = gm_labels\n",
    "\n",
    "# Gráficos de dispersão pintados pela coluna 'voo_gm'.\n",
    "fig = plt.figure(figsize=(12, 8), dpi=80)\n",
    "\n",
    "# Gráfico 1: Posição X por Posição Y\n",
    "plt.subplot(2,2,1)\n",
    "plt.scatter(x=dados_voo['position_x'], y=dados_voo['position_y'], c=dados_voo['voo_gm'])\n",
    "plt.title('Posições X e Y')\n",
    "plt.xlabel('Posição X')\n",
    "plt.ylabel('Posição Y')\n",
    "\n",
    "# Gráfico 2: Time por Posição Z\n",
    "plt.subplot(2,2,2)\n",
    "plt.scatter(x=dados_voo['time'], y=dados_voo['position_z'], c=dados_voo['voo_gm'])\n",
    "plt.title('Time x Posição Z')\n",
    "plt.xlabel('Time')\n",
    "plt.ylabel('Posição Z')\n",
    "\n",
    "plt.subplots_adjust(wspace = 0.35)"
   ]
  },
  {
   "cell_type": "code",
   "execution_count": 40,
   "metadata": {
    "colab": {
     "base_uri": "https://localhost:8080/"
    },
    "executionInfo": {
     "elapsed": 387,
     "status": "ok",
     "timestamp": 1667908429272,
     "user": {
      "displayName": "Leandro Luna",
      "userId": "00217320943669558162"
     },
     "user_tz": 180
    },
    "id": "MdIbnjAGfg_e",
    "outputId": "a17f1b40-00bd-422a-9307-ec3199457710"
   },
   "outputs": [
    {
     "name": "stdout",
     "output_type": "stream",
     "text": [
      "KMeans: 0.281702488842654\n",
      "Gaussian Mixture: 0.28593567031866307\n",
      "Comparação dos modelos: 0.1259537626926744\n"
     ]
    }
   ],
   "source": [
    "# Atestando desempenho dos classificadores.\n",
    "km_score = silhouette_score(X_scaled, kmeans_labels)\n",
    "gm_score = silhouette_score(X_scaled, gm_labels)\n",
    "comparation = adjusted_rand_score(kmeans_labels, gm_labels)\n",
    "\n",
    "print(f'KMeans: {km_score}\\nGaussian Mixture: {gm_score}\\nComparação dos modelos: {comparation}')"
   ]
  },
  {
   "cell_type": "markdown",
   "metadata": {
    "id": "VOCGSSgMeXEl"
   },
   "source": [
    "O modelo Gaussian Mixture teve um desempenho ligeiramente melhor que o modelo K-Means, tanto em números absolutos, quanto através do gráfico de dispersão.\n",
    "\n",
    "Logo, conclui-se que, diante do exposto, será utilizada a coluna 'voo_gm' gerada pelo modelo Gaussian Mixture nos próximos itens."
   ]
  },
  {
   "cell_type": "code",
   "execution_count": 41,
   "metadata": {
    "colab": {
     "base_uri": "https://localhost:8080/",
     "height": 266
    },
    "executionInfo": {
     "elapsed": 481,
     "status": "ok",
     "timestamp": 1667908429747,
     "user": {
      "displayName": "Leandro Luna",
      "userId": "00217320943669558162"
     },
     "user_tz": 180
    },
    "id": "urDKWqmyhepg",
    "outputId": "64281a60-0bf1-4eb2-9db5-48ac638a45a7"
   },
   "outputs": [
    {
     "data": {
      "text/html": [
       "\n",
       "  <div id=\"df-adde9889-5396-435d-a6c2-996543e39dd4\">\n",
       "    <div class=\"colab-df-container\">\n",
       "      <div>\n",
       "<style scoped>\n",
       "    .dataframe tbody tr th:only-of-type {\n",
       "        vertical-align: middle;\n",
       "    }\n",
       "\n",
       "    .dataframe tbody tr th {\n",
       "        vertical-align: top;\n",
       "    }\n",
       "\n",
       "    .dataframe thead tr th {\n",
       "        text-align: left;\n",
       "    }\n",
       "\n",
       "    .dataframe thead tr:last-of-type th {\n",
       "        text-align: right;\n",
       "    }\n",
       "</style>\n",
       "<table border=\"1\" class=\"dataframe\">\n",
       "  <thead>\n",
       "    <tr>\n",
       "      <th></th>\n",
       "      <th colspan=\"8\" halign=\"left\">time</th>\n",
       "      <th colspan=\"2\" halign=\"left\">wind_speed</th>\n",
       "      <th>...</th>\n",
       "      <th colspan=\"2\" halign=\"left\">linear_acceleration_z</th>\n",
       "      <th colspan=\"8\" halign=\"left\">voo_km</th>\n",
       "    </tr>\n",
       "    <tr>\n",
       "      <th></th>\n",
       "      <th>count</th>\n",
       "      <th>mean</th>\n",
       "      <th>std</th>\n",
       "      <th>min</th>\n",
       "      <th>25%</th>\n",
       "      <th>50%</th>\n",
       "      <th>75%</th>\n",
       "      <th>max</th>\n",
       "      <th>count</th>\n",
       "      <th>mean</th>\n",
       "      <th>...</th>\n",
       "      <th>75%</th>\n",
       "      <th>max</th>\n",
       "      <th>count</th>\n",
       "      <th>mean</th>\n",
       "      <th>std</th>\n",
       "      <th>min</th>\n",
       "      <th>25%</th>\n",
       "      <th>50%</th>\n",
       "      <th>75%</th>\n",
       "      <th>max</th>\n",
       "    </tr>\n",
       "    <tr>\n",
       "      <th>voo_gm</th>\n",
       "      <th></th>\n",
       "      <th></th>\n",
       "      <th></th>\n",
       "      <th></th>\n",
       "      <th></th>\n",
       "      <th></th>\n",
       "      <th></th>\n",
       "      <th></th>\n",
       "      <th></th>\n",
       "      <th></th>\n",
       "      <th></th>\n",
       "      <th></th>\n",
       "      <th></th>\n",
       "      <th></th>\n",
       "      <th></th>\n",
       "      <th></th>\n",
       "      <th></th>\n",
       "      <th></th>\n",
       "      <th></th>\n",
       "      <th></th>\n",
       "      <th></th>\n",
       "    </tr>\n",
       "  </thead>\n",
       "  <tbody>\n",
       "    <tr>\n",
       "      <th>0</th>\n",
       "      <td>1588.0</td>\n",
       "      <td>87.544868</td>\n",
       "      <td>61.135749</td>\n",
       "      <td>0.0</td>\n",
       "      <td>29.7075</td>\n",
       "      <td>81.655</td>\n",
       "      <td>141.225</td>\n",
       "      <td>200.7</td>\n",
       "      <td>1588.0</td>\n",
       "      <td>3.506675</td>\n",
       "      <td>...</td>\n",
       "      <td>-9.688127</td>\n",
       "      <td>-6.908917</td>\n",
       "      <td>1588.0</td>\n",
       "      <td>0.232997</td>\n",
       "      <td>0.422874</td>\n",
       "      <td>0.0</td>\n",
       "      <td>0.0</td>\n",
       "      <td>0.0</td>\n",
       "      <td>0.0</td>\n",
       "      <td>1.0</td>\n",
       "    </tr>\n",
       "    <tr>\n",
       "      <th>1</th>\n",
       "      <td>1379.0</td>\n",
       "      <td>141.424699</td>\n",
       "      <td>60.372855</td>\n",
       "      <td>37.4</td>\n",
       "      <td>89.1500</td>\n",
       "      <td>140.900</td>\n",
       "      <td>194.050</td>\n",
       "      <td>245.8</td>\n",
       "      <td>1379.0</td>\n",
       "      <td>3.762364</td>\n",
       "      <td>...</td>\n",
       "      <td>-9.678367</td>\n",
       "      <td>-7.509952</td>\n",
       "      <td>1379.0</td>\n",
       "      <td>0.575054</td>\n",
       "      <td>0.494514</td>\n",
       "      <td>0.0</td>\n",
       "      <td>0.0</td>\n",
       "      <td>1.0</td>\n",
       "      <td>1.0</td>\n",
       "      <td>1.0</td>\n",
       "    </tr>\n",
       "  </tbody>\n",
       "</table>\n",
       "<p>2 rows × 176 columns</p>\n",
       "</div>\n",
       "      <button class=\"colab-df-convert\" onclick=\"convertToInteractive('df-adde9889-5396-435d-a6c2-996543e39dd4')\"\n",
       "              title=\"Convert this dataframe to an interactive table.\"\n",
       "              style=\"display:none;\">\n",
       "        \n",
       "  <svg xmlns=\"http://www.w3.org/2000/svg\" height=\"24px\"viewBox=\"0 0 24 24\"\n",
       "       width=\"24px\">\n",
       "    <path d=\"M0 0h24v24H0V0z\" fill=\"none\"/>\n",
       "    <path d=\"M18.56 5.44l.94 2.06.94-2.06 2.06-.94-2.06-.94-.94-2.06-.94 2.06-2.06.94zm-11 1L8.5 8.5l.94-2.06 2.06-.94-2.06-.94L8.5 2.5l-.94 2.06-2.06.94zm10 10l.94 2.06.94-2.06 2.06-.94-2.06-.94-.94-2.06-.94 2.06-2.06.94z\"/><path d=\"M17.41 7.96l-1.37-1.37c-.4-.4-.92-.59-1.43-.59-.52 0-1.04.2-1.43.59L10.3 9.45l-7.72 7.72c-.78.78-.78 2.05 0 2.83L4 21.41c.39.39.9.59 1.41.59.51 0 1.02-.2 1.41-.59l7.78-7.78 2.81-2.81c.8-.78.8-2.07 0-2.86zM5.41 20L4 18.59l7.72-7.72 1.47 1.35L5.41 20z\"/>\n",
       "  </svg>\n",
       "      </button>\n",
       "      \n",
       "  <style>\n",
       "    .colab-df-container {\n",
       "      display:flex;\n",
       "      flex-wrap:wrap;\n",
       "      gap: 12px;\n",
       "    }\n",
       "\n",
       "    .colab-df-convert {\n",
       "      background-color: #E8F0FE;\n",
       "      border: none;\n",
       "      border-radius: 50%;\n",
       "      cursor: pointer;\n",
       "      display: none;\n",
       "      fill: #1967D2;\n",
       "      height: 32px;\n",
       "      padding: 0 0 0 0;\n",
       "      width: 32px;\n",
       "    }\n",
       "\n",
       "    .colab-df-convert:hover {\n",
       "      background-color: #E2EBFA;\n",
       "      box-shadow: 0px 1px 2px rgba(60, 64, 67, 0.3), 0px 1px 3px 1px rgba(60, 64, 67, 0.15);\n",
       "      fill: #174EA6;\n",
       "    }\n",
       "\n",
       "    [theme=dark] .colab-df-convert {\n",
       "      background-color: #3B4455;\n",
       "      fill: #D2E3FC;\n",
       "    }\n",
       "\n",
       "    [theme=dark] .colab-df-convert:hover {\n",
       "      background-color: #434B5C;\n",
       "      box-shadow: 0px 1px 3px 1px rgba(0, 0, 0, 0.15);\n",
       "      filter: drop-shadow(0px 1px 2px rgba(0, 0, 0, 0.3));\n",
       "      fill: #FFFFFF;\n",
       "    }\n",
       "  </style>\n",
       "\n",
       "      <script>\n",
       "        const buttonEl =\n",
       "          document.querySelector('#df-adde9889-5396-435d-a6c2-996543e39dd4 button.colab-df-convert');\n",
       "        buttonEl.style.display =\n",
       "          google.colab.kernel.accessAllowed ? 'block' : 'none';\n",
       "\n",
       "        async function convertToInteractive(key) {\n",
       "          const element = document.querySelector('#df-adde9889-5396-435d-a6c2-996543e39dd4');\n",
       "          const dataTable =\n",
       "            await google.colab.kernel.invokeFunction('convertToInteractive',\n",
       "                                                     [key], {});\n",
       "          if (!dataTable) return;\n",
       "\n",
       "          const docLinkHtml = 'Like what you see? Visit the ' +\n",
       "            '<a target=\"_blank\" href=https://colab.research.google.com/notebooks/data_table.ipynb>data table notebook</a>'\n",
       "            + ' to learn more about interactive tables.';\n",
       "          element.innerHTML = '';\n",
       "          dataTable['output_type'] = 'display_data';\n",
       "          await google.colab.output.renderOutput(dataTable, element);\n",
       "          const docLink = document.createElement('div');\n",
       "          docLink.innerHTML = docLinkHtml;\n",
       "          element.appendChild(docLink);\n",
       "        }\n",
       "      </script>\n",
       "    </div>\n",
       "  </div>\n",
       "  "
      ],
      "text/plain": [
       "          time                                                                 \\\n",
       "         count        mean        std   min      25%      50%      75%    max   \n",
       "voo_gm                                                                          \n",
       "0       1588.0   87.544868  61.135749   0.0  29.7075   81.655  141.225  200.7   \n",
       "1       1379.0  141.424699  60.372855  37.4  89.1500  140.900  194.050  245.8   \n",
       "\n",
       "       wind_speed            ... linear_acceleration_z            voo_km  \\\n",
       "            count      mean  ...                   75%       max   count   \n",
       "voo_gm                       ...                                           \n",
       "0          1588.0  3.506675  ...             -9.688127 -6.908917  1588.0   \n",
       "1          1379.0  3.762364  ...             -9.678367 -7.509952  1379.0   \n",
       "\n",
       "                                                     \n",
       "            mean       std  min  25%  50%  75%  max  \n",
       "voo_gm                                               \n",
       "0       0.232997  0.422874  0.0  0.0  0.0  0.0  1.0  \n",
       "1       0.575054  0.494514  0.0  0.0  1.0  1.0  1.0  \n",
       "\n",
       "[2 rows x 176 columns]"
      ]
     },
     "execution_count": 41,
     "metadata": {},
     "output_type": "execute_result"
    }
   ],
   "source": [
    "# Estatisticas gerais dos dados agrupadas pelo voo (0 ou 1). \n",
    "dados_voo.groupby('voo_gm').describe()"
   ]
  },
  {
   "cell_type": "markdown",
   "metadata": {
    "id": "AVu8mXyQ3obo"
   },
   "source": [
    "## Gráfico com 3 subplots. Cada subplot é uma redução de dimensionalidade (usando o PCA) em função do tempo. O gráfico é colorido pela coluna de voo encontrada anteriormente.\n",
    "\n",
    "\n",
    "(a) Posição x, y e z para uma nova variável *r*. Plot de r em função de time.\n",
    "\n",
    "(b) Velocidade x, y e z para uma nova variável *v*. Plot de v em função de time.\n",
    "\n",
    "(c) Aceleração x, y e z para uma nova variável *a*. Plot de a em função de time."
   ]
  },
  {
   "cell_type": "code",
   "execution_count": 42,
   "metadata": {
    "executionInfo": {
     "elapsed": 10,
     "status": "ok",
     "timestamp": 1667908429747,
     "user": {
      "displayName": "Leandro Luna",
      "userId": "00217320943669558162"
     },
     "user_tz": 180
    },
    "id": "nSGh_eMQuTv8"
   },
   "outputs": [],
   "source": [
    "scaler = MinMaxScaler() # Escalonador\n",
    "pca = PCA(n_components=1) # Queremos 1 componente apenas de cada feature (posição, velocidade e aceleração) em X, Y e Z, para uma nova váriavel \n",
    "# qualquer ('r', 'v' e 'a', respectivamente)."
   ]
  },
  {
   "cell_type": "code",
   "execution_count": 43,
   "metadata": {
    "executionInfo": {
     "elapsed": 7,
     "status": "ok",
     "timestamp": 1667908429748,
     "user": {
      "displayName": "Leandro Luna",
      "userId": "00217320943669558162"
     },
     "user_tz": 180
    },
    "id": "m5by4uCJ3obp"
   },
   "outputs": [],
   "source": [
    "# (a)\n",
    "P_scaled = scaler.fit_transform(dados_voo[['position_x', 'position_y', 'position_z']])\n",
    "r = pca.fit_transform(P_scaled) \n",
    "\n",
    "# (b)\n",
    "V_scaled = scaler.fit_transform(dados_voo[['velocity_x', 'velocity_y', 'velocity_z']])\n",
    "v = pca.fit_transform(V_scaled) \n",
    "\n",
    "# (c)\n",
    "A_scaled = scaler.fit_transform(dados_voo[['linear_acceleration_x', 'linear_acceleration_y', 'linear_acceleration_z']])\n",
    "a = pca.fit_transform(A_scaled) "
   ]
  },
  {
   "cell_type": "code",
   "execution_count": 44,
   "metadata": {
    "executionInfo": {
     "elapsed": 381,
     "status": "ok",
     "timestamp": 1667908430123,
     "user": {
      "displayName": "Leandro Luna",
      "userId": "00217320943669558162"
     },
     "user_tz": 180
    },
    "id": "K_QasI6b3obq"
   },
   "outputs": [],
   "source": [
    "# Cria-se novas colunas com os valores encontrados pela redução de dimensionalidade aplicada em cada uma das features (posição, velocidade e aceleração).\n",
    "dados_voo['posicao'] = r.reshape(-1)\n",
    "dados_voo['velocidade'] = v.reshape(-1)\n",
    "dados_voo['aceleracao'] = a.reshape(-1)"
   ]
  },
  {
   "cell_type": "code",
   "execution_count": 45,
   "metadata": {
    "colab": {
     "base_uri": "https://localhost:8080/",
     "height": 565
    },
    "executionInfo": {
     "elapsed": 2405,
     "status": "ok",
     "timestamp": 1667908432523,
     "user": {
      "displayName": "Leandro Luna",
      "userId": "00217320943669558162"
     },
     "user_tz": 180
    },
    "id": "z0Ahb1Ypvc1e",
    "outputId": "741e889f-bbfd-4161-87b9-91bb28f1be5d"
   },
   "outputs": [
    {
     "data": {
      "image/png": "[encoded data removed]",
      "text/plain": [
       "<Figure size 960x640 with 3 Axes>"
      ]
     },
     "metadata": {
      "needs_background": "light"
     },
     "output_type": "display_data"
    }
   ],
   "source": [
    "# Gráficos pintados pela coluna 'voo_gm'.\n",
    "fig = plt.figure(figsize=(12, 8), dpi=80)\n",
    "\n",
    "# Gráfico 1: Posição em função do tempo.\n",
    "plt.subplot(2,2,1)\n",
    "plt.scatter(x=r.reshape(-1), y=dados_voo['time'], c=dados_voo['voo_gm'])\n",
    "plt.title('Posição x Tempo')\n",
    "plt.xlabel('Posição')\n",
    "plt.ylabel('Tempo')\n",
    "\n",
    "# Gráfico 2: Velocidade em função do tempo.\n",
    "plt.subplot(2,2,2)\n",
    "plt.scatter(x=v.reshape(-1), y=dados_voo['time'], c=dados_voo['voo_gm'])\n",
    "plt.title('Velocidade x Tempo')\n",
    "plt.xlabel('Velocidade')\n",
    "plt.ylabel('Tempo')\n",
    "\n",
    "# Gráfico 3: Aceleração em função do tempo.\n",
    "plt.subplot(2,2,3)\n",
    "plt.scatter(x=a.reshape(-1), y=dados_voo['time'], c=dados_voo['voo_gm'])\n",
    "plt.title('Aceleração x Tempo')\n",
    "plt.xlabel('Aceleração')\n",
    "plt.ylabel('Tempo')\n",
    "\n",
    "plt.subplots_adjust(hspace = 0.45)"
   ]
  },
  {
   "cell_type": "markdown",
   "metadata": {
    "id": "T-ylqTUC3obp"
   },
   "source": [
    "## Sistema de Lógica Fuzzy para controlar a aceleração do drone. \n",
    "\n",
    "**Variáveis**:\n",
    "- Altitude (alt): baixa, média, alta.\n",
    "- Velocidade do vento (vel_vent): fraco, forte.\n",
    "- Velocidade atual (vel): baixa, média, alta.\n",
    "- Aceleração (a_fuzzy): desacelerar, nula, acelerar.\n",
    "\n",
    "\n",
    "**Regras**:\n",
    "- Se estiver alto e ventando forte e a velocidade atual for baixa, acelere;\n",
    "- Se estiver baixo e a velocidade atual for alta, desacelere;\n",
    "- Se estiver a média altitude e o vento estiver fraco ou o vento está fraco e a velocidade atual é média, mantenha aceleração nula;\n",
    "- Se a velocidade atual for média e estiver ventando forte e a altitde for média, acelere;"
   ]
  },
  {
   "cell_type": "code",
   "execution_count": 46,
   "metadata": {
    "executionInfo": {
     "elapsed": 10,
     "status": "ok",
     "timestamp": 1667908432524,
     "user": {
      "displayName": "Leandro Luna",
      "userId": "00217320943669558162"
     },
     "user_tz": 180
    },
    "id": "nKPrsZ7R3obq"
   },
   "outputs": [],
   "source": [
    "def sistema_fuzzy(alt, vel, vel_vent):\n",
    "    \n",
    "    positionz_range = [265.45413503, 270.45413503, 275.45413503, 280.45413503, 285.45413503, 290.45413503,\n",
    "                       295.45413503, 300.45413503, 305.45413503, 310.45413503, 315.45413503, 320.45413503,\n",
    "                       325.45413503, 330.45413503, 335.45413503, 340.45413503, 345.45413503]  \n",
    "    \n",
    "    windspeed_range = [0.1, 0.6, 1.1, 1.6, 2.1, 2.6, 3.1, 3.6, 4.1, 4.6, 5.1, 5.6, 6.1, 6.6, 7.1]\n",
    "    \n",
    "    velocidade_range = [-0.46730697, -0.36730697, -0.26730697, -0.16730697, -0.06730697,\n",
    "                         0.03269303,  0.13269303,  0.23269303,  0.33269303,  0.43269303]\n",
    "    \n",
    "    acel_range = [-0.40849901, -0.30849901, -0.20849901, -0.10849901, -0.00849901,\n",
    "                   0.09150099,  0.19150099,  0.29150099,  0.39150099,  0.49150099]\n",
    "    \n",
    "    \n",
    "    # ---- INPUTS ----\n",
    "    # Numéricos\n",
    "    altitude = ctrl.Antecedent(positionz_range, 'altitude')                 \n",
    "    velocidade_vento = ctrl.Antecedent(windspeed_range, 'velocidade_vento') \n",
    "    velocidade_atual = ctrl.Antecedent(velocidade_range, 'velocidade_atual') \n",
    "\n",
    "    # Semânticos\n",
    "    altitude.automf(3, names = ['baixa', 'media', 'alta']) # Altitude (alt): baixa, média, alta.\n",
    "    velocidade_vento.automf(2, names = ['fraco', 'forte']) # Velocidade do vento (vel_vent): fraco, forte.\n",
    "    velocidade_atual.automf(3, names = ['baixa', 'media', 'alta']) # Velocidade atual (vel): baixa, média, alta.\n",
    "    \n",
    "    # ---- OUTPUTS ----\n",
    "    # Numéricos\n",
    "    aceleracao = ctrl.Consequent(acel_range, 'aceleracao') \n",
    "    \n",
    "    # Semânticos\n",
    "    # Aceleração (a_fuzzy): desacelerar, nula, acelerar.\n",
    "    aceleracao['acelerar'] = fz.trimf(aceleracao.universe, [-0.5, -0.1, -0.1]) \n",
    "    aceleracao['nula'] = fz.trapmf(aceleracao.universe, [-0.1, -0.1, 0.1, 0.1])\n",
    "    aceleracao['desacelerar'] = fz.trimf(aceleracao.universe, [0.1, 0.1, 0.5])\n",
    "        \n",
    "    # ---- Regras -----\n",
    "    regra1 = ctrl.Rule(altitude['alta'] & velocidade_vento['forte'] & velocidade_atual['baixa'], aceleracao['acelerar']) #Se estiver alto e ventando forte e a velocidade atual for baixa, acelere;\n",
    "    regra2 = ctrl.Rule(altitude['baixa'] & velocidade_atual['alta'], aceleracao['desacelerar']) #Se estiver baixo e a velocidade atual for alta, desacelere;\n",
    "    regra3 = ctrl.Rule(altitude['media'] & velocidade_vento['fraco'] | velocidade_vento['fraco'] & velocidade_atual['media'], aceleracao['nula']) #Se estiver a média altitude e o vento estiver fraco ou o vento está\n",
    "    # fraco e a velocidade atual é média, mantenha aceleração nula;\n",
    "    regra4 = ctrl.Rule(velocidade_atual['media'] & velocidade_vento['forte'] & altitude['media'], aceleracao['acelerar']) #Se a velocidade atual for média e estiver ventando forte e a altitde for média, acelere;\n",
    "    \n",
    "    # ---- Controle ----\n",
    "    controle_aceleracao = ctrl.ControlSystem([regra1, regra2, regra3, regra4])\n",
    "    simul = ctrl.ControlSystemSimulation(controle_aceleracao)\n",
    "\n",
    "    simul.input['altitude'] = alt\n",
    "    simul.input['velocidade_atual'] = vel\n",
    "    simul.input['velocidade_vento'] = vel_vent\n",
    "    \n",
    "    simul.compute()\n",
    "\n",
    "    saida = simul.output['aceleracao']\n",
    "    \n",
    "    return(saida)"
   ]
  },
  {
   "cell_type": "code",
   "execution_count": 47,
   "metadata": {
    "executionInfo": {
     "elapsed": 42286,
     "status": "ok",
     "timestamp": 1667908474804,
     "user": {
      "displayName": "Leandro Luna",
      "userId": "00217320943669558162"
     },
     "user_tz": 180
    },
    "id": "9Y8GfXfw3obr"
   },
   "outputs": [],
   "source": [
    "# Opera o sistema Fuzzy sobre as colunas 'position_z', 'velocidade' e 'wind_speed', gerando uma nova coluna 'aceleracao_fuzzy' com o resultado \n",
    "# da aceleração estimada.\n",
    "dados_voo['a_fuzzy'] = dados_voo.apply(lambda x: sistema_fuzzy(x['position_z'], x['velocidade'], x['wind_speed']), axis=1)"
   ]
  },
  {
   "cell_type": "code",
   "execution_count": 48,
   "metadata": {
    "colab": {
     "base_uri": "https://localhost:8080/",
     "height": 237
    },
    "executionInfo": {
     "elapsed": 14,
     "status": "ok",
     "timestamp": 1667908474805,
     "user": {
      "displayName": "Leandro Luna",
      "userId": "00217320943669558162"
     },
     "user_tz": 180
    },
    "id": "kmbldOJLlMRH",
    "outputId": "b4c437bd-a65a-4e11-94c7-6f71e431740f"
   },
   "outputs": [
    {
     "data": {
      "text/html": [
       "\n",
       "  <div id=\"df-10ff4b81-ec14-4bf9-84ef-6891898c12a2\">\n",
       "    <div class=\"colab-df-container\">\n",
       "      <div>\n",
       "<style scoped>\n",
       "    .dataframe tbody tr th:only-of-type {\n",
       "        vertical-align: middle;\n",
       "    }\n",
       "\n",
       "    .dataframe tbody tr th {\n",
       "        vertical-align: top;\n",
       "    }\n",
       "\n",
       "    .dataframe thead tr th {\n",
       "        text-align: left;\n",
       "    }\n",
       "\n",
       "    .dataframe thead tr:last-of-type th {\n",
       "        text-align: right;\n",
       "    }\n",
       "</style>\n",
       "<table border=\"1\" class=\"dataframe\">\n",
       "  <thead>\n",
       "    <tr>\n",
       "      <th></th>\n",
       "      <th colspan=\"8\" halign=\"left\">aceleracao</th>\n",
       "      <th colspan=\"8\" halign=\"left\">a_fuzzy</th>\n",
       "    </tr>\n",
       "    <tr>\n",
       "      <th></th>\n",
       "      <th>count</th>\n",
       "      <th>mean</th>\n",
       "      <th>std</th>\n",
       "      <th>min</th>\n",
       "      <th>25%</th>\n",
       "      <th>50%</th>\n",
       "      <th>75%</th>\n",
       "      <th>max</th>\n",
       "      <th>count</th>\n",
       "      <th>mean</th>\n",
       "      <th>std</th>\n",
       "      <th>min</th>\n",
       "      <th>25%</th>\n",
       "      <th>50%</th>\n",
       "      <th>75%</th>\n",
       "      <th>max</th>\n",
       "    </tr>\n",
       "    <tr>\n",
       "      <th>voo_gm</th>\n",
       "      <th></th>\n",
       "      <th></th>\n",
       "      <th></th>\n",
       "      <th></th>\n",
       "      <th></th>\n",
       "      <th></th>\n",
       "      <th></th>\n",
       "      <th></th>\n",
       "      <th></th>\n",
       "      <th></th>\n",
       "      <th></th>\n",
       "      <th></th>\n",
       "      <th></th>\n",
       "      <th></th>\n",
       "      <th></th>\n",
       "      <th></th>\n",
       "    </tr>\n",
       "  </thead>\n",
       "  <tbody>\n",
       "    <tr>\n",
       "      <th>0</th>\n",
       "      <td>1588.0</td>\n",
       "      <td>-0.007104</td>\n",
       "      <td>0.137203</td>\n",
       "      <td>-0.408499</td>\n",
       "      <td>-0.134805</td>\n",
       "      <td>0.023259</td>\n",
       "      <td>0.086501</td>\n",
       "      <td>0.562330</td>\n",
       "      <td>1588.0</td>\n",
       "      <td>-0.011482</td>\n",
       "      <td>0.130280</td>\n",
       "      <td>-0.214218</td>\n",
       "      <td>-0.136870</td>\n",
       "      <td>-0.030829</td>\n",
       "      <td>0.132612</td>\n",
       "      <td>0.214508</td>\n",
       "    </tr>\n",
       "    <tr>\n",
       "      <th>1</th>\n",
       "      <td>1379.0</td>\n",
       "      <td>0.008181</td>\n",
       "      <td>0.150178</td>\n",
       "      <td>-0.352182</td>\n",
       "      <td>-0.083767</td>\n",
       "      <td>0.030308</td>\n",
       "      <td>0.150117</td>\n",
       "      <td>0.571362</td>\n",
       "      <td>1379.0</td>\n",
       "      <td>-0.050557</td>\n",
       "      <td>0.129792</td>\n",
       "      <td>-0.211925</td>\n",
       "      <td>-0.143349</td>\n",
       "      <td>-0.105208</td>\n",
       "      <td>0.058952</td>\n",
       "      <td>0.200672</td>\n",
       "    </tr>\n",
       "  </tbody>\n",
       "</table>\n",
       "</div>\n",
       "      <button class=\"colab-df-convert\" onclick=\"convertToInteractive('df-10ff4b81-ec14-4bf9-84ef-6891898c12a2')\"\n",
       "              title=\"Convert this dataframe to an interactive table.\"\n",
       "              style=\"display:none;\">\n",
       "        \n",
       "  <svg xmlns=\"http://www.w3.org/2000/svg\" height=\"24px\"viewBox=\"0 0 24 24\"\n",
       "       width=\"24px\">\n",
       "    <path d=\"M0 0h24v24H0V0z\" fill=\"none\"/>\n",
       "    <path d=\"M18.56 5.44l.94 2.06.94-2.06 2.06-.94-2.06-.94-.94-2.06-.94 2.06-2.06.94zm-11 1L8.5 8.5l.94-2.06 2.06-.94-2.06-.94L8.5 2.5l-.94 2.06-2.06.94zm10 10l.94 2.06.94-2.06 2.06-.94-2.06-.94-.94-2.06-.94 2.06-2.06.94z\"/><path d=\"M17.41 7.96l-1.37-1.37c-.4-.4-.92-.59-1.43-.59-.52 0-1.04.2-1.43.59L10.3 9.45l-7.72 7.72c-.78.78-.78 2.05 0 2.83L4 21.41c.39.39.9.59 1.41.59.51 0 1.02-.2 1.41-.59l7.78-7.78 2.81-2.81c.8-.78.8-2.07 0-2.86zM5.41 20L4 18.59l7.72-7.72 1.47 1.35L5.41 20z\"/>\n",
       "  </svg>\n",
       "      </button>\n",
       "      \n",
       "  <style>\n",
       "    .colab-df-container {\n",
       "      display:flex;\n",
       "      flex-wrap:wrap;\n",
       "      gap: 12px;\n",
       "    }\n",
       "\n",
       "    .colab-df-convert {\n",
       "      background-color: #E8F0FE;\n",
       "      border: none;\n",
       "      border-radius: 50%;\n",
       "      cursor: pointer;\n",
       "      display: none;\n",
       "      fill: #1967D2;\n",
       "      height: 32px;\n",
       "      padding: 0 0 0 0;\n",
       "      width: 32px;\n",
       "    }\n",
       "\n",
       "    .colab-df-convert:hover {\n",
       "      background-color: #E2EBFA;\n",
       "      box-shadow: 0px 1px 2px rgba(60, 64, 67, 0.3), 0px 1px 3px 1px rgba(60, 64, 67, 0.15);\n",
       "      fill: #174EA6;\n",
       "    }\n",
       "\n",
       "    [theme=dark] .colab-df-convert {\n",
       "      background-color: #3B4455;\n",
       "      fill: #D2E3FC;\n",
       "    }\n",
       "\n",
       "    [theme=dark] .colab-df-convert:hover {\n",
       "      background-color: #434B5C;\n",
       "      box-shadow: 0px 1px 3px 1px rgba(0, 0, 0, 0.15);\n",
       "      filter: drop-shadow(0px 1px 2px rgba(0, 0, 0, 0.3));\n",
       "      fill: #FFFFFF;\n",
       "    }\n",
       "  </style>\n",
       "\n",
       "      <script>\n",
       "        const buttonEl =\n",
       "          document.querySelector('#df-10ff4b81-ec14-4bf9-84ef-6891898c12a2 button.colab-df-convert');\n",
       "        buttonEl.style.display =\n",
       "          google.colab.kernel.accessAllowed ? 'block' : 'none';\n",
       "\n",
       "        async function convertToInteractive(key) {\n",
       "          const element = document.querySelector('#df-10ff4b81-ec14-4bf9-84ef-6891898c12a2');\n",
       "          const dataTable =\n",
       "            await google.colab.kernel.invokeFunction('convertToInteractive',\n",
       "                                                     [key], {});\n",
       "          if (!dataTable) return;\n",
       "\n",
       "          const docLinkHtml = 'Like what you see? Visit the ' +\n",
       "            '<a target=\"_blank\" href=https://colab.research.google.com/notebooks/data_table.ipynb>data table notebook</a>'\n",
       "            + ' to learn more about interactive tables.';\n",
       "          element.innerHTML = '';\n",
       "          dataTable['output_type'] = 'display_data';\n",
       "          await google.colab.output.renderOutput(dataTable, element);\n",
       "          const docLink = document.createElement('div');\n",
       "          docLink.innerHTML = docLinkHtml;\n",
       "          element.appendChild(docLink);\n",
       "        }\n",
       "      </script>\n",
       "    </div>\n",
       "  </div>\n",
       "  "
      ],
      "text/plain": [
       "       aceleracao                                                              \\\n",
       "            count      mean       std       min       25%       50%       75%   \n",
       "voo_gm                                                                          \n",
       "0          1588.0 -0.007104  0.137203 -0.408499 -0.134805  0.023259  0.086501   \n",
       "1          1379.0  0.008181  0.150178 -0.352182 -0.083767  0.030308  0.150117   \n",
       "\n",
       "                 a_fuzzy                                                    \\\n",
       "             max   count      mean       std       min       25%       50%   \n",
       "voo_gm                                                                       \n",
       "0       0.562330  1588.0 -0.011482  0.130280 -0.214218 -0.136870 -0.030829   \n",
       "1       0.571362  1379.0 -0.050557  0.129792 -0.211925 -0.143349 -0.105208   \n",
       "\n",
       "                            \n",
       "             75%       max  \n",
       "voo_gm                      \n",
       "0       0.132612  0.214508  \n",
       "1       0.058952  0.200672  "
      ]
     },
     "execution_count": 48,
     "metadata": {},
     "output_type": "execute_result"
    }
   ],
   "source": [
    "# Comparação númerica da aceleração real com a aceleração prevista pelo sistema Fuzzy agrupadas pelo voo.\n",
    "dados_voo.groupby('voo_gm')[['aceleracao', 'a_fuzzy']].describe()"
   ]
  },
  {
   "cell_type": "code",
   "execution_count": 49,
   "metadata": {
    "colab": {
     "base_uri": "https://localhost:8080/",
     "height": 54
    },
    "executionInfo": {
     "elapsed": 751,
     "status": "ok",
     "timestamp": 1667908475548,
     "user": {
      "displayName": "Leandro Luna",
      "userId": "00217320943669558162"
     },
     "user_tz": 180
    },
    "id": "Kb0jX4ir3obr",
    "outputId": "f5a41e93-493b-4882-d643-ca84df354989"
   },
   "outputs": [
    {
     "data": {
      "image/png": "[encoded data removed]",
      "text/plain": [
       "<Figure size 960x640 with 2 Axes>"
      ]
     },
     "metadata": {
      "needs_background": "light"
     },
     "output_type": "display_data"
    }
   ],
   "source": [
    "# Gráficos de dispersão pintados pelo voo ('voo_gm'):  \n",
    "fig = plt.figure(figsize=(12, 8), dpi=80)\n",
    "\n",
    "# Gráfico 1: Aceleração por Tempo\n",
    "plt.subplot(2,2,1)\n",
    "plt.scatter(x=dados_voo['aceleracao'], y=dados_voo['time'], c=dados_voo['voo_gm'])\n",
    "plt.title('Aceleração x Tempo')\n",
    "plt.xlabel('Aceleração')\n",
    "plt.ylabel('Tempo')\n",
    "\n",
    "# Gráfico 2: Aceleração Fuzzy por Tempo\n",
    "plt.subplot(2,2,2)\n",
    "plt.scatter(x=dados_voo['a_fuzzy'], y=dados_voo['time'], c=dados_voo['voo_gm'])\n",
    "plt.title('Aceleração Fuzzy x Tempo')\n",
    "plt.xlabel('Aceleração Fuzzy')\n",
    "plt.ylabel('Tempo')\n",
    "\n",
    "plt.subplots_adjust(wspace = 0.35)"
   ]
  }
 ],
 "metadata": {
  "colab": {
   "collapsed_sections": [
    "D9aQoCcg3obk",
    "fZ9kfBz_3obl",
    "vs5JrZkd3obn",
    "hqB6B9JY3obn",
    "VwU-aIFc3obo",
    "AVu8mXyQ3obo",
    "T-ylqTUC3obp"
   ],
   "provenance": []
  },
  "kernelspec": {
   "display_name": "Python 3 (ipykernel)",
   "language": "python",
   "name": "python3"
  },
  "language_info": {
   "codemirror_mode": {
    "name": "ipython",
    "version": 3
   },
   "file_extension": ".py",
   "mimetype": "text/x-python",
   "name": "python",
   "nbconvert_exporter": "python",
   "pygments_lexer": "ipython3",
   "version": "3.10.8"
  }
 },
 "nbformat": 4,
 "nbformat_minor": 1
}
