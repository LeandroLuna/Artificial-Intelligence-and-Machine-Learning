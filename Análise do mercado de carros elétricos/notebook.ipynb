{
 "cells": [
  {
   "cell_type": "markdown",
   "id": "208e737e",
   "metadata": {
    "id": "208e737e"
   },
   "source": [
    "## Objetivo:\n",
    "\n",
    "Usar técnicas de inteligência artificial para auxiliar na análise do mercado de carros elétricos.\n",
    "## Instruções: \n",
    "\n",
    "* Dataset: ElectricCarData.csv\n",
    "------------------------------------------------------"
   ]
  },
  {
   "cell_type": "code",
   "execution_count": null,
   "id": "e6480a47",
   "metadata": {
    "id": "e6480a47"
   },
   "outputs": [],
   "source": [
    "### Bibliotecas\n",
    "import pandas as pd\n",
    "import seaborn as sns\n",
    "import numpy as np\n",
    "import matplotlib.pyplot as pyplot\n",
    "\n",
    "from sklearn.model_selection import train_test_split\n",
    "from sklearn.linear_model import LogisticRegression\n",
    "from sklearn.preprocessing import MinMaxScaler\n",
    "from sklearn.tree import DecisionTreeRegressor\n",
    "\n",
    "from sklearn.metrics import confusion_matrix, ConfusionMatrixDisplay, plot_confusion_matrix, classification_report, accuracy_score, mean_squared_error, mean_absolute_error, r2_score"
   ]
  },
  {
   "cell_type": "markdown",
   "id": "0a3fb304",
   "metadata": {
    "id": "0a3fb304"
   },
   "source": [
    "## Análise Exploratória"
   ]
  },
  {
   "cell_type": "code",
   "execution_count": null,
   "id": "fc2daf09",
   "metadata": {
    "colab": {
     "base_uri": "https://localhost:8080/",
     "height": 659
    },
    "id": "fc2daf09",
    "outputId": "1272136b-6acd-43f8-d506-ef7a87e8cbdc"
   },
   "outputs": [],
   "source": [
    "### Carregados os dados do arquivo .csv e transformados em DataFrame utilizando a biblioteca pandas.\n",
    "data = pd.read_csv(\"./ElectricCarData.csv\")\n",
    "data"
   ]
  },
  {
   "cell_type": "code",
   "execution_count": null,
   "id": "uxSiW0loy-ap",
   "metadata": {
    "colab": {
     "base_uri": "https://localhost:8080/"
    },
    "id": "uxSiW0loy-ap",
    "outputId": "b0c1ae0a-631e-47fc-ef5e-3f523318fb7a"
   },
   "outputs": [],
   "source": [
    "### Método retorna a dimensionalidade do DataFrame; 103 linhas e 14 colunas.\n",
    "data.shape"
   ]
  },
  {
   "cell_type": "code",
   "execution_count": null,
   "id": "U5vBWnHC0CUQ",
   "metadata": {
    "colab": {
     "base_uri": "https://localhost:8080/",
     "height": 678
    },
    "id": "U5vBWnHC0CUQ",
    "outputId": "0dacdde6-b63b-45c6-c333-76d7f7f999f4"
   },
   "outputs": [],
   "source": [
    "### Recriar a coluna FastCharge_KmH transformando os valores em númericos e substituindo os casos que não é \n",
    "### possível em NaN. Logo após, evocado o método .dropna para eliminar as linhas que não foi possível a \n",
    "### transformata.\n",
    "data['FastCharge_KmH'] = pd.to_numeric(data['FastCharge_KmH'],errors = 'coerce')\n",
    "data = data.dropna()\n",
    "data"
   ]
  },
  {
   "cell_type": "code",
   "execution_count": null,
   "id": "ZodOUfX21fuP",
   "metadata": {
    "colab": {
     "base_uri": "https://localhost:8080/",
     "height": 770
    },
    "id": "ZodOUfX21fuP",
    "outputId": "7b2c6292-0523-4aa5-945e-29d406371b8a"
   },
   "outputs": [],
   "source": [
    "### Executa a função convertRapidCharge ao longo de um eixo (por padrão é sob uma coluna) e converte os \n",
    "### dados \"No\" para 0 e \"Yes\" para 1.\n",
    "def convertRapidCharge(foo):\n",
    "    if foo == 'No':\n",
    "        return 0\n",
    "    else:\n",
    "        return 1\n",
    "    \n",
    "data['RapidCharge'] = data['RapidCharge'].apply(convertRapidCharge)\n",
    "data "
   ]
  },
  {
   "cell_type": "code",
   "execution_count": null,
   "id": "TlLT87qU3xxd",
   "metadata": {
    "colab": {
     "base_uri": "https://localhost:8080/"
    },
    "id": "TlLT87qU3xxd",
    "outputId": "3bbd30f4-444e-47d0-d707-14652e517c0e"
   },
   "outputs": [],
   "source": [
    "### Retorna o número de vezes que o valor 1 é encontrado. Conclui-se então que, do DataFrame inicial (103 veículos),\n",
    "### 98 veículos tem RapidCharge. Logo, os veículos que não foram possível transformar os valores dos atributos da \n",
    "### coluna FastCharge_KmH não tinham RapidCharge.\n",
    "list(data['RapidCharge']).count(1)"
   ]
  },
  {
   "cell_type": "code",
   "execution_count": null,
   "id": "sshvuG685cRK",
   "metadata": {
    "colab": {
     "base_uri": "https://localhost:8080/"
    },
    "id": "sshvuG685cRK",
    "outputId": "b14d42a4-93c8-42fd-d3b1-c7b3471060e2"
   },
   "outputs": [],
   "source": [
    "### Média de valor dos carros.\n",
    "print(data[\"PriceEuro\"].mean())"
   ]
  },
  {
   "cell_type": "code",
   "execution_count": null,
   "id": "xK12hCnb6hjF",
   "metadata": {
    "colab": {
     "base_uri": "https://localhost:8080/"
    },
    "id": "xK12hCnb6hjF",
    "outputId": "e79adaca-86c3-4ddb-d1ae-991d8238dd4c"
   },
   "outputs": [],
   "source": [
    "### Indica o valor médio máximo e mínimo por marca.\n",
    "data.groupby('Brand')['PriceEuro'].mean().sort_values(ascending=False)"
   ]
  },
  {
   "cell_type": "code",
   "execution_count": null,
   "id": "g09YEE7Tc9gQ",
   "metadata": {
    "colab": {
     "base_uri": "https://localhost:8080/",
     "height": 99
    },
    "id": "g09YEE7Tc9gQ",
    "outputId": "89199198-47d0-4903-cfd5-b590212fe99b"
   },
   "outputs": [],
   "source": [
    "### Lista o veículo de maior valor.\n",
    "data.loc[data['PriceEuro'] == data['PriceEuro'].max()]"
   ]
  },
  {
   "cell_type": "code",
   "execution_count": null,
   "id": "EjcXWzW9j_bN",
   "metadata": {
    "colab": {
     "base_uri": "https://localhost:8080/",
     "height": 99
    },
    "id": "EjcXWzW9j_bN",
    "outputId": "fa756318-79ac-4dfb-ec3c-f86a7f898fba"
   },
   "outputs": [],
   "source": [
    "### Lista o veiculo de menor valor.\n",
    "data.loc[data['PriceEuro'] == data['PriceEuro'].min()]"
   ]
  },
  {
   "cell_type": "code",
   "execution_count": null,
   "id": "g2377XUclPo-",
   "metadata": {
    "colab": {
     "base_uri": "https://localhost:8080/",
     "height": 1000
    },
    "id": "g2377XUclPo-",
    "outputId": "754924e5-9e49-4cd9-a178-f4b859fa82a7"
   },
   "outputs": [],
   "source": [
    "## Plotagem de gráfico. O parâmetro hue pinta os gráficos dada uma coluna (powertrain) especificada.\n",
    "sns.pairplot(data, hue=\"PowerTrain\")"
   ]
  },
  {
   "cell_type": "code",
   "execution_count": null,
   "id": "_9PZ74mimt2n",
   "metadata": {
    "colab": {
     "base_uri": "https://localhost:8080/",
     "height": 193
    },
    "id": "_9PZ74mimt2n",
    "outputId": "5e2c39fe-cd19-43ed-eb59-111eef9cd378"
   },
   "outputs": [],
   "source": [
    "### Média agrupada com base na tração\n",
    "data.groupby('PowerTrain').mean()"
   ]
  },
  {
   "cell_type": "code",
   "execution_count": null,
   "id": "alRMELeKr3MJ",
   "metadata": {
    "colab": {
     "base_uri": "https://localhost:8080/",
     "height": 661
    },
    "id": "alRMELeKr3MJ",
    "outputId": "f8e73f9a-58ff-4a50-f55b-0810d4c79196"
   },
   "outputs": [],
   "source": [
    "### Gráfico de caixa (boxplot) para cada uma das quatro variáveis numéricas especificadas.\n",
    "fig, axes = pyplot.subplots(2, 2, figsize=(10, 10))\n",
    "\n",
    "sns.boxplot(ax=axes[0][0],\n",
    "            data=data,  \n",
    "            x = data['AccelSec'], \n",
    "            hue = data['PowerTrain']\n",
    "            )\n",
    "\n",
    "sns.boxplot(ax=axes[0][1],\n",
    "            data=data,  \n",
    "            x = data['TopSpeed_KmH'], \n",
    "            hue = data['PowerTrain']\n",
    "            )\n",
    "\n",
    "sns.boxplot(ax=axes[1][0],\n",
    "            data=data,  \n",
    "            x = data['Efficiency_WhKm'],\n",
    "            hue = data['PowerTrain']\n",
    "            )\n",
    "\n",
    "sns.boxplot(ax=axes[1][1],\n",
    "            data=data,  \n",
    "            x = data['FastCharge_KmH'],   \n",
    "            hue = data['PowerTrain']\n",
    "            )"
   ]
  },
  {
   "cell_type": "markdown",
   "id": "835acf49",
   "metadata": {},
   "source": [
    "Diante do exposto, os veículos que melhores performam são aqueles com tração AWD - apesar de serem os de maior média de valor, justica-se baseado nas média das outras métricas."
   ]
  },
  {
   "cell_type": "markdown",
   "id": "97d15318",
   "metadata": {
    "id": "97d15318"
   },
   "source": [
    "-------------------------\n",
    "## Algoritmo de Machine Learning para classificar o tipo de tração do veículo baseado em seus outros parâmetros. "
   ]
  },
  {
   "cell_type": "code",
   "execution_count": null,
   "id": "L8HEOSYZEpaK",
   "metadata": {
    "id": "L8HEOSYZEpaK"
   },
   "outputs": [],
   "source": [
    "### Separando as colunas especificadas no DataFrame em x e atribui a coluna 'PowerTrain' a y.\n",
    "x = data.drop(columns = ['Brand', 'Model','PowerTrain','PlugType','BodyStyle', 'Segment', 'RapidCharge'])\n",
    "y = data['PowerTrain']"
   ]
  },
  {
   "cell_type": "code",
   "execution_count": null,
   "id": "mhNseJpSGa5I",
   "metadata": {
    "id": "mhNseJpSGa5I"
   },
   "outputs": [],
   "source": [
    "### Divisão dos dados em conjuntos de treinamento e teste\n",
    "x_train, x_test, y_train, y_test = train_test_split(x, y, test_size = 0.20, random_state = 0, stratify=y)"
   ]
  },
  {
   "cell_type": "code",
   "execution_count": null,
   "id": "Pt4MTKE1HCyn",
   "metadata": {
    "id": "Pt4MTKE1HCyn"
   },
   "outputs": [],
   "source": [
    "### Transformação de escala aos conjuntos de treinamento e teste usando a técnica de normalização Min-Max.\n",
    "scaler = MinMaxScaler()\n",
    "scaler.fit(x_train)\n",
    "\n",
    "x_train_scaled = scaler.transform(x_train)\n",
    "x_test_scaled = scaler.transform(x_test)"
   ]
  },
  {
   "cell_type": "code",
   "execution_count": null,
   "id": "6nlFdSaXJn7J",
   "metadata": {
    "colab": {
     "base_uri": "https://localhost:8080/"
    },
    "id": "6nlFdSaXJn7J",
    "outputId": "2ba2fcd8-47f1-41ae-cc91-402285299b6f"
   },
   "outputs": [],
   "source": [
    "LR = LogisticRegression()\n",
    "LR.fit(x_train_scaled, y_train)\n",
    "y_predicted = LR.predict(x_test_scaled)\n",
    "y_predicted"
   ]
  },
  {
   "cell_type": "code",
   "execution_count": null,
   "id": "fqARQMLiKpbY",
   "metadata": {
    "colab": {
     "base_uri": "https://localhost:8080/",
     "height": 320
    },
    "id": "fqARQMLiKpbY",
    "outputId": "0e1b1441-5f26-4b1f-e35c-43c2bf0605c6"
   },
   "outputs": [],
   "source": [
    "conf_matrix = confusion_matrix(y_true = y_test,\n",
    "                                   y_pred = y_predicted,\n",
    "                                   labels=['AWD','FWD','RWD'])\n",
    "\n",
    "figure = pyplot.figure(figsize=(20, 5))\n",
    "disp = ConfusionMatrixDisplay(confusion_matrix = conf_matrix, display_labels=['AWD','FWD','RWD'])\n",
    "disp.plot() "
   ]
  },
  {
   "cell_type": "code",
   "execution_count": null,
   "id": "gJQpD4U6LcAb",
   "metadata": {
    "colab": {
     "base_uri": "https://localhost:8080/"
    },
    "id": "gJQpD4U6LcAb",
    "outputId": "58d739b0-4d19-4440-9405-808fa878067d"
   },
   "outputs": [],
   "source": [
    "print(classification_report(y_test, y_predicted))\n",
    "print(f\"Acurácia: {accuracy_score(y_test,y_predicted)*100}%\")"
   ]
  },
  {
   "cell_type": "markdown",
   "id": "62c4d186",
   "metadata": {
    "id": "62c4d186"
   },
   "source": [
    "-------------------------\n",
    "## Escolha de um algoritmo de Clusterização e explicação de como ele funciona. "
   ]
  },
  {
   "cell_type": "markdown",
   "id": "TYVY2epDPp5H",
   "metadata": {
    "id": "TYVY2epDPp5H"
   },
   "source": [
    "## Algoritmo de clusterização: Gaussian Mixture Model\n",
    "\n",
    "Um modelo de mistura gaussiana é uma distribuição montada a partir de distribuições gaussianas multivariadas ponderadas. Os fatores de ponderação atribuem a cada distribuição diferentes níveis de importância. O modelo resultante é uma superposição de curvas, como representado na figura: "
   ]
  },
  {
   "cell_type": "markdown",
   "id": "TfCGryury-Gc",
   "metadata": {
    "id": "TfCGryury-Gc"
   },
   "source": [
    "![image.png](data:image/png;base64,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)"
   ]
  },
  {
   "cell_type": "markdown",
   "id": "Twz-PSG9zUN2",
   "metadata": {
    "id": "Twz-PSG9zUN2"
   },
   "source": [
    "Os modelos de mistura gaussiana são semi-paramétricos; isso implica que o modelo vem de uma distribuição já conhecida (neste caso, um conjunto de distribuições normais). É semi-paramétrico porque mais componentes, possivelmente de distribuições desconhecidas, podem ser adicionados ao modelo."
   ]
  },
  {
   "cell_type": "markdown",
   "id": "d4b513bc",
   "metadata": {},
   "source": [
    "## Qual a diferença entre Clusterização e Classificação?"
   ]
  },
  {
   "cell_type": "markdown",
   "id": "tRH1R1gnRedw",
   "metadata": {
    "id": "tRH1R1gnRedw"
   },
   "source": [
    "## Clusterização x Classificação\n",
    "\n",
    "A principal diferença entre algoritmos de Clusterização e Classificação é que, enquanto um é uma técnica de aprendizado não supervisionado (Classificação), o outro é uma técnica de aprendizado supervisionado (Clusterização). \n",
    "\n",
    "Ambos as técnicas funcionam com um fim comum: agrupar dados. \n",
    "\n",
    "Contudo, a maneira que ocorre esse agrupamento é distinta. Ao passo que algoritmos de Classificação já sabem previamente a classe onde esses dados devem ser atribuidos, nos algoritmos de Clusterização devem-se descobrir esses grupos com bases nos atributos do dataset. "
   ]
  },
  {
   "cell_type": "markdown",
   "id": "619c13d0",
   "metadata": {
    "id": "619c13d0"
   },
   "source": [
    "-------------------------\n",
    "## Algoritmo de Machine Learning para predizer o preço do carro  baseado em seus parâmetros, com erro absoluto médio menor do que 10 mil euros."
   ]
  },
  {
   "cell_type": "code",
   "execution_count": null,
   "id": "48ed04dc",
   "metadata": {
    "id": "48ed04dc"
   },
   "outputs": [],
   "source": [
    "x = data.drop(columns = ['Brand', 'Model','PowerTrain','PlugType','BodyStyle', 'Segment', 'PriceEuro', 'RapidCharge'])\n",
    "y = data['PriceEuro']"
   ]
  },
  {
   "cell_type": "code",
   "execution_count": null,
   "id": "ImR_b_u2W4hO",
   "metadata": {
    "id": "ImR_b_u2W4hO"
   },
   "outputs": [],
   "source": [
    "x_train, x_test, y_train, y_test = train_test_split(x, y, test_size = 0.20, random_state = 42)"
   ]
  },
  {
   "cell_type": "code",
   "execution_count": null,
   "id": "3LuRN8J-XNGa",
   "metadata": {
    "id": "3LuRN8J-XNGa"
   },
   "outputs": [],
   "source": [
    "scaler = MinMaxScaler()\n",
    "scaler.fit(x_train)\n",
    "\n",
    "x_train_scaled = scaler.transform(x_train)\n",
    "x_test_scaled = scaler.transform(x_test)"
   ]
  },
  {
   "cell_type": "code",
   "execution_count": null,
   "id": "x7o3MYwrXghE",
   "metadata": {
    "colab": {
     "base_uri": "https://localhost:8080/"
    },
    "id": "x7o3MYwrXghE",
    "outputId": "3d249771-0ad5-4be3-bb75-6fee37dadb71"
   },
   "outputs": [],
   "source": [
    "DTR = DecisionTreeRegressor(random_state = 0)\n",
    "DTR.fit(x_train_scaled, y_train)\n",
    "y_predicted = DTR.predict(x_test_scaled)\n",
    "y_predicted"
   ]
  },
  {
   "cell_type": "code",
   "execution_count": null,
   "id": "iQvQeLziaPAX",
   "metadata": {
    "colab": {
     "base_uri": "https://localhost:8080/"
    },
    "id": "iQvQeLziaPAX",
    "outputId": "5015a86e-1e04-4265-d340-2e95ee5439e8"
   },
   "outputs": [],
   "source": [
    "R2model1 = r2_score(y_true = y_test, y_pred = y_predicted) \n",
    "\n",
    "print(f'R2: {R2model1}')  \n",
    "print(f'MAE: {mean_absolute_error(y_true = y_test, y_pred = y_predicted)}')\n",
    "print(f'MSE: {mean_squared_error(y_true = y_test, y_pred = y_predicted)}')"
   ]
  },
  {
   "cell_type": "markdown",
   "id": "a2b1b392",
   "metadata": {
    "id": "a2b1b392"
   },
   "source": [
    "-------------------------\n",
    "## Dado que existe uma relação aproximadamente exponecial entre o preço e um dos parâmetros de performance do veículo, transforme os dados para que o método preditor dos preços tenha uma MAE < 7 mil euros. Qual a diferença de R²?"
   ]
  },
  {
   "cell_type": "code",
   "execution_count": null,
   "id": "edd61ad5",
   "metadata": {
    "colab": {
     "base_uri": "https://localhost:8080/",
     "height": 448
    },
    "id": "edd61ad5",
    "outputId": "13f514bb-9a9d-4d53-c8d2-4d37ba1bb05a"
   },
   "outputs": [],
   "source": [
    "data['Log10'] = np.log10(data['PriceEuro'])\n",
    "data.head()"
   ]
  },
  {
   "cell_type": "code",
   "execution_count": null,
   "id": "xJ-92gKAeP1B",
   "metadata": {
    "id": "xJ-92gKAeP1B"
   },
   "outputs": [],
   "source": [
    "x = data.drop(columns = ['Brand', 'Model','PowerTrain','PlugType','BodyStyle', 'Segment', 'PriceEuro', 'RapidCharge', 'Log10'])\n",
    "y = data['Log10']"
   ]
  },
  {
   "cell_type": "code",
   "execution_count": null,
   "id": "0dTx84qreU5y",
   "metadata": {
    "id": "0dTx84qreU5y"
   },
   "outputs": [],
   "source": [
    "x_train, x_test, y_train, y_test = train_test_split(x, y, test_size = 0.20, random_state = 42)"
   ]
  },
  {
   "cell_type": "code",
   "execution_count": null,
   "id": "ikSo34CyeZvI",
   "metadata": {
    "id": "ikSo34CyeZvI"
   },
   "outputs": [],
   "source": [
    "scaler = MinMaxScaler()\n",
    "scaler.fit(x_train)\n",
    "\n",
    "x_train_scaled = scaler.transform(x_train)\n",
    "x_test_scaled = scaler.transform(x_test)"
   ]
  },
  {
   "cell_type": "code",
   "execution_count": null,
   "id": "52Xrvt9xe0lx",
   "metadata": {
    "colab": {
     "base_uri": "https://localhost:8080/"
    },
    "id": "52Xrvt9xe0lx",
    "outputId": "528c1180-b85f-4050-b60d-b28fa568a1a0"
   },
   "outputs": [],
   "source": [
    "DTR = DecisionTreeRegressor(random_state = 0)\n",
    "DTR.fit(x_train_scaled, y_train)\n",
    "y_pred = DTR.predict(x_test_scaled) \n",
    "\n",
    "R2model2 = r2_score(y_true = y_test, y_pred = y_pred)\n",
    "\n",
    "print(f'R2: {R2model2}')  \n",
    "print(f'MAE: {10 ** (mean_absolute_error(y_true = y_test, y_pred = y_pred))}')\n",
    "print(f'MSE: {10 ** (mean_squared_error(y_true = y_test, y_pred = y_pred))}')\n",
    "\n",
    "print(f'Diferença de R2 entre os modelos após linearização da coluna PriceEuro: {R2model2 - R2model1}. Assim sendo, um ganho de desempenho de aproximadamente {((R2model2 - R2model1)*100).astype(int)}%!')"
   ]
  }
 ],
 "metadata": {
  "colab": {
   "collapsed_sections": [],
   "name": "GS1 (LL, PF, FB).ipynb",
   "provenance": []
  },
  "kernelspec": {
   "display_name": "Python 3 (ipykernel)",
   "language": "python",
   "name": "python3"
  },
  "language_info": {
   "codemirror_mode": {
    "name": "ipython",
    "version": 3
   },
   "file_extension": ".py",
   "mimetype": "text/x-python",
   "name": "python",
   "nbconvert_exporter": "python",
   "pygments_lexer": "ipython3",
   "version": "3.10.8"
  }
 },
 "nbformat": 4,
 "nbformat_minor": 5
}
