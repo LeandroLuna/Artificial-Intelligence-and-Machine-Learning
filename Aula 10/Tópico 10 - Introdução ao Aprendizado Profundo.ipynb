{
 "cells": [
  {
   "attachments": {},
   "cell_type": "markdown",
   "metadata": {},
   "source": [
    "# Tópico 10 - Introdução ao Aprendizado Profundo\n",
    "\n",
    "O aprendizado profundo consiste em técnicas de aprendizado de máquina que usam Redes Neurais Artificiais. Existem várias arquiteturas possíveis para essas redes. Neste notebook vamos explorar uma Rede Multilayer Perceptron implementada através do Scikitlearn e uma Rede CNN usada para classificação de imagens implementada em Keras/TensorFlow. Ao final, indicamos um link complementar com outros exemplos que podem ser explorados.\n",
    "\n",
    "-----------------------------"
   ]
  },
  {
   "cell_type": "markdown",
   "metadata": {},
   "source": [
    "## Exemplo 1 - MLP Sklearn"
   ]
  },
  {
   "cell_type": "code",
   "execution_count": null,
   "metadata": {},
   "outputs": [],
   "source": [
    "# Importando as bibliotecas\n",
    "import pandas as pd\n",
    "from sklearn.linear_model import Perceptron\n",
    "from sklearn.neural_network import MLPClassifier"
   ]
  },
  {
   "cell_type": "markdown",
   "metadata": {},
   "source": [
    "### (a) Multiplexador Digital:"
   ]
  },
  {
   "cell_type": "code",
   "execution_count": null,
   "metadata": {},
   "outputs": [],
   "source": [
    "# Carregando os dados\n",
    "dados_multiplexador = pd.read_csv('dados_multiplexador.csv', sep=';')\n",
    "dados_multiplexador.head(100)"
   ]
  },
  {
   "cell_type": "code",
   "execution_count": null,
   "metadata": {},
   "outputs": [],
   "source": [
    "# Selecionado as variáveis descritivas e a variável alvo\n",
    "x = dados_multiplexador.drop(columns='Saída')\n",
    "y = dados_multiplexador['Saída'] "
   ]
  },
  {
   "cell_type": "code",
   "execution_count": null,
   "metadata": {},
   "outputs": [],
   "source": [
    "# Criando Perceptron\n",
    "perceptron_multiplexador = Perceptron(tol=1e-3, random_state=0)"
   ]
  },
  {
   "cell_type": "code",
   "execution_count": null,
   "metadata": {},
   "outputs": [],
   "source": [
    "# Treinando o Perceptron\n",
    "perceptron_multiplexador.fit(x, y)"
   ]
  },
  {
   "cell_type": "code",
   "execution_count": null,
   "metadata": {},
   "outputs": [],
   "source": [
    "# Pesos do percpetron depois do treinamento\n",
    "perceptron_multiplexador.coef_"
   ]
  },
  {
   "cell_type": "code",
   "execution_count": null,
   "metadata": {},
   "outputs": [],
   "source": [
    "# Valor do bias sendo somado depois do treinamento\n",
    "perceptron_multiplexador.intercept_"
   ]
  },
  {
   "cell_type": "code",
   "execution_count": null,
   "metadata": {},
   "outputs": [],
   "source": [
    "# Usando o Perceptron para fazer um predição\n",
    "perceptron_multiplexador.predict([[1,1,1,0,1,1]])"
   ]
  },
  {
   "cell_type": "markdown",
   "metadata": {},
   "source": [
    "### (b) Porta XOR:"
   ]
  },
  {
   "cell_type": "code",
   "execution_count": null,
   "metadata": {},
   "outputs": [],
   "source": [
    "# Carregando os dados\n",
    "dados_xor = pd.read_csv('dados_xor.csv', sep=';')\n",
    "dados_xor.head()"
   ]
  },
  {
   "cell_type": "code",
   "execution_count": null,
   "metadata": {},
   "outputs": [],
   "source": [
    "# Selecionado as variáveis descritivas e a variável alvo\n",
    "x = dados_xor.drop(columns='XOR')\n",
    "y = dados_xor['XOR'] "
   ]
  },
  {
   "cell_type": "code",
   "execution_count": null,
   "metadata": {},
   "outputs": [],
   "source": [
    "# Criando Perceptron e treinando \n",
    "perceptron_xor = Perceptron(tol=1e-3, random_state=0)\n",
    "perceptron_xor.fit(x, y)"
   ]
  },
  {
   "cell_type": "code",
   "execution_count": null,
   "metadata": {},
   "outputs": [],
   "source": [
    "# Usando o Perceptron para fazer um predição\n",
    "perceptron_xor.predict([[1,0]])"
   ]
  },
  {
   "cell_type": "code",
   "execution_count": null,
   "metadata": {},
   "outputs": [],
   "source": [
    "# Criando Multilayer Perceptron e treinando \n",
    "mlp_xor = MLPClassifier(solver='lbfgs', activation='logistic',\n",
    "                        hidden_layer_sizes=(3, 2), random_state=0)\n",
    "mlp_xor.fit(x, y)"
   ]
  },
  {
   "cell_type": "code",
   "execution_count": null,
   "metadata": {},
   "outputs": [],
   "source": [
    "# Usando o MLP para fazer um predição\n",
    "mlp_xor.predict([[1,0]])"
   ]
  },
  {
   "cell_type": "markdown",
   "metadata": {},
   "source": [
    "--------------------------------\n",
    "## Exemplo 2 - CNN TensorFlow\n",
    "\n",
    "### Bibliotecas importadas"
   ]
  },
  {
   "cell_type": "code",
   "execution_count": null,
   "metadata": {
    "id": "DMoKJk9mhGVL"
   },
   "outputs": [],
   "source": [
    "# Bibliotecas gerais\n",
    "import numpy as np                     # Trabalhar co números\n",
    "import pandas as pd                    # Trabalhar com tabelas\n",
    "import matplotlib.pyplot as plt        # Gráficos\n",
    "\n",
    "# Bibliotecas para construir redes neurais\n",
    "import keras\n",
    "import tensorflow as tf\n",
    "from keras.models import Sequential\n",
    "from keras.models import load_model\n",
    "from keras.layers import Dense\n",
    "from keras.layers import Input\n",
    "from keras.layers.convolutional import Conv2D\n",
    "from tensorflow.keras.layers import Flatten\n",
    "from tensorflow.keras.layers import MaxPooling2D\n",
    "from tensorflow.keras.layers import Dropout\n",
    "from keras.utils.vis_utils import plot_model\n",
    "from keras.preprocessing.image import ImageDataGenerator\n",
    "\n",
    "# Aprendizado de máquina geral - Separação treino/teste, transformação (escalonamento), métricas de desempenho\n",
    "from sklearn.model_selection import train_test_split\n",
    "from sklearn.preprocessing import MinMaxScaler\n",
    "from sklearn.metrics import ConfusionMatrixDisplay, confusion_matrix, classification_report\n",
    "\n",
    "\n",
    "from google_drive_downloader import GoogleDriveDownloader as gdd"
   ]
  },
  {
   "cell_type": "markdown",
   "metadata": {
    "id": "JuZLIQ2aqbbO"
   },
   "source": [
    "## Classificação de Imagens  com Redes Convolucionais\n",
    "\n",
    "Vamos usar o dataset CIFAR 10. Ver https://en.wikipedia.org/wiki/CIFAR-10. \n",
    "\n",
    "O CIFAR 10 é um dataset de classificação de imagens com as seguintes classes:\n",
    "\n",
    "*   Aviões\n",
    "*   Carros\n",
    "*   Pássaros\n",
    "*   Gatos\n",
    "*   Veados\n",
    "*   Cachorros\n",
    "*   Sapos\n",
    "*   Cavalos\n",
    "*   Návios\n",
    "*   Caminhões\n",
    "\n",
    "Queremos criar um sistema de classificação automático para imagens, onde dada uma imagem de entrada, classificamos ela entre uma das 10 classes anteriores."
   ]
  },
  {
   "cell_type": "markdown",
   "metadata": {
    "id": "EjPN-XPIqiqB"
   },
   "source": [
    "<center>\n",
    "<img src='https://drive.google.com/uc?id=1yIihwCkW511n8A4o-JMfLjD4KKJw7m9a'width=700>"
   ]
  },
  {
   "cell_type": "markdown",
   "metadata": {
    "id": "_cWZ2MRXsiM2"
   },
   "source": [
    "### Carregando as imagens\n",
    "\n",
    "Perceba que já estamos separando elas em treino e teste. "
   ]
  },
  {
   "cell_type": "code",
   "execution_count": null,
   "metadata": {
    "id": "kNbFbNyOmhBO"
   },
   "outputs": [],
   "source": [
    "(train_images, train_labels), (test_images, test_labels) = tf.keras.datasets.cifar10.load_data()"
   ]
  },
  {
   "cell_type": "code",
   "execution_count": null,
   "metadata": {
    "colab": {
     "base_uri": "https://localhost:8080/",
     "height": 268
    },
    "id": "O6_iMDaVOQHY",
    "outputId": "983a4dd7-5a5e-441d-b1d4-2284923d77a5"
   },
   "outputs": [],
   "source": [
    "for i in range(9):  \n",
    "    plt.subplot(330 + 1 + i) # define subplot\n",
    "    plt.imshow(train_images[i]) # plot raw pixel data\n",
    "# show the figure\n",
    "plt.show()"
   ]
  },
  {
   "cell_type": "code",
   "execution_count": null,
   "metadata": {},
   "outputs": [],
   "source": [
    "len(train_images), len(train_labels), len(test_images), len(test_labels)"
   ]
  },
  {
   "cell_type": "markdown",
   "metadata": {
    "id": "7bdY4dd1C2Ud"
   },
   "source": [
    "Temos um total de 50000 imagens diferentes com dimensão de 32x32x3 pixels"
   ]
  },
  {
   "cell_type": "code",
   "execution_count": null,
   "metadata": {
    "colab": {
     "base_uri": "https://localhost:8080/"
    },
    "id": "zylwc5LTy4CN",
    "outputId": "0d0d75fd-06eb-460e-efa2-3f99a38b8066"
   },
   "outputs": [],
   "source": [
    "train_images.shape"
   ]
  },
  {
   "cell_type": "markdown",
   "metadata": {},
   "source": [
    "### Pré-processamento dos rótulos e imagens\n",
    "\n",
    "Vamos transformar os rótulos que estão em arrays numéricos em uma matriz de categorias.\n",
    "\n",
    "Ver https://www.tensorflow.org/api_docs/python/tf/keras/utils/to_categorical."
   ]
  },
  {
   "cell_type": "code",
   "execution_count": null,
   "metadata": {
    "colab": {
     "base_uri": "https://localhost:8080/"
    },
    "id": "oc3w8dnPr_Do",
    "outputId": "4fb3d344-59a3-4380-f613-d7b3c635141b"
   },
   "outputs": [],
   "source": [
    "train_labels"
   ]
  },
  {
   "cell_type": "code",
   "execution_count": null,
   "metadata": {
    "colab": {
     "base_uri": "https://localhost:8080/"
    },
    "id": "UcjussucsdG2",
    "outputId": "6c0a25ef-9c22-4108-c370-7fe997ea717b"
   },
   "outputs": [],
   "source": [
    "train_labels = tf.keras.utils.to_categorical(train_labels)\n",
    "train_labels.shape"
   ]
  },
  {
   "cell_type": "code",
   "execution_count": null,
   "metadata": {
    "colab": {
     "base_uri": "https://localhost:8080/"
    },
    "id": "HOjUg0CBsp3r",
    "outputId": "5cd69a40-39a6-401a-b4be-cc2a997fb45b"
   },
   "outputs": [],
   "source": [
    "test_labels = tf.keras.utils.to_categorical(test_labels)\n",
    "test_labels.shape"
   ]
  },
  {
   "cell_type": "markdown",
   "metadata": {},
   "source": [
    "Em uma imagem RGB, a intesidade de cada cor tem um valor inteiro entre 0 e 255 ($2^8$ - ou seja, 8 bits de codificação por valor). Vamos normalizar esse valor para ficar entre 0 e 1.\n",
    "\n",
    "Lembre-se, cada imagem é uma matriz de números (no caso RGB, três matrizes). Cada posição da matriz é chamada de pixel, e possui um valor de intensidade. Ao dividir a matriz por um mesmo número, estamos divindo o valor de cada pixel por esse número."
   ]
  },
  {
   "cell_type": "code",
   "execution_count": null,
   "metadata": {
    "id": "qBO7MOB7qOpC"
   },
   "outputs": [],
   "source": [
    "# Normalizando os valores dos pixel para serem entre 0 e 1\n",
    "train_images, test_images = train_images / 255.0, test_images / 255.0"
   ]
  },
  {
   "cell_type": "markdown",
   "metadata": {
    "id": "chkgShMs3WvV"
   },
   "source": [
    "### Criando a Arquitetura da Rede Neural Artificial"
   ]
  },
  {
   "cell_type": "markdown",
   "metadata": {
    "id": "5w9Uk8yKteTN"
   },
   "source": [
    "#### Como funciona uma Rede Neural Convolucional\n",
    "\n",
    "Para processamento de imagens podemos usar **redes neurais convolucionais**. Esse tipo de rede tem seus parâmetros em uma matriz (*kernel*) que processa toda a imagem passando por todos os seus pixels. Essa matriz são os parâmetros que serão aprendidos pela rede. Esse procedimento de multiplicação entre parte da imagem e a matriz de kernel é semelhante a uma operação de convolução de sinais. Daí o nome do método."
   ]
  },
  {
   "cell_type": "markdown",
   "metadata": {
    "id": "hTvGNoBlxj5J"
   },
   "source": [
    "<center>\n",
    "<img src='https://drive.google.com/uc?id=15kidvb-4BozzWN9_AfIbxKJftezkKK4U'width=1000>\n"
   ]
  },
  {
   "cell_type": "markdown",
   "metadata": {
    "id": "nv6zudiSxmEJ"
   },
   "source": [
    "No exemplo da imagem acima, podemos perceber que a convolução é uma operação que pode reduzir a dimensão da entrada, uma vez que tinhamos uma imagem de 7x7 pixels na entrada e como saída final ficamos com 5x5 pixels.\n",
    "\n",
    "Neste exemplo temos uma convolução ocorrendo numa imagem com um único canal. Entretanto, uma das formas de representações é o espaço de cores RGB. A imagem abaixo ilustra o exemplo da clássica imagem da lenna nesse espaço de cores:"
   ]
  },
  {
   "cell_type": "markdown",
   "metadata": {
    "id": "nHN9eYvH0B90"
   },
   "source": [
    "<center>\n",
    "<img src='https://drive.google.com/uc?id=1S-oIn5WmGyr6Xg5Cc4hs4PvCrncXoZw2'width=700>\n",
    "\n"
   ]
  },
  {
   "cell_type": "markdown",
   "metadata": {
    "id": "IKf3uEKZ0chy"
   },
   "source": [
    "A união dos três canais forma a imagem colorida (256x256x3). Dessa forma a convolução irá operar nos três canais, tendo um *kernel* para cada canal:"
   ]
  },
  {
   "cell_type": "markdown",
   "metadata": {
    "id": "z9z4as061BGu"
   },
   "source": [
    "<center>\n",
    "<img src='https://drive.google.com/uc?id=1KALsA9iuIDkaURYEmgu1XD69hz04siyG'width=700>"
   ]
  },
  {
   "cell_type": "markdown",
   "metadata": {},
   "source": [
    "O exemplo acima é aplicado quande deseja-se transformar os três canais de convolução em uma única saída.\n",
    "\n",
    "No nosso modelo de Rede Neural, vamos conectar sequencialmente diferentes camadas com diferentes propósitos. Após a primeira camada de entrada, vamos passar por duas camadas de Convolução.\n",
    "\n",
    "Perceba que as funções de ativação das camadas de convolução é uma função tipo ReLu. Na primeira camada densa, também, e na última camada da rede, é uma função Softmax já que queremos fazer classificação."
   ]
  },
  {
   "cell_type": "code",
   "execution_count": null,
   "metadata": {
    "id": "qxZPQPGHqvxE"
   },
   "outputs": [],
   "source": [
    "modelo = tf.keras.Sequential()\n",
    "\n",
    "modelo.add(Conv2D(16, (3, 3), activation='relu', input_shape=(32, 32, 3))) # Entra com imagem 32,32,3\n",
    "modelo.add(Conv2D(32, (3, 3), activation='relu')) \n",
    "modelo.add(MaxPooling2D((2, 2),))\n",
    "modelo.add(Conv2D(32, (3, 3), activation='relu'))\n",
    "modelo.add(Flatten())\n",
    "modelo.add(Dense(16, activation='relu'))\n",
    "modelo.add(Dense(10, activation='softmax')) \n",
    "\n",
    "\n",
    "\n",
    "modelo.compile(optimizer=\"adam\", loss=\"categorical_crossentropy\", metrics=[\"accuracy\"]) # Métricas para treinar"
   ]
  },
  {
   "cell_type": "markdown",
   "metadata": {
    "id": "W3gh4Rec5l6i"
   },
   "source": [
    "Na sequência das camadas de Convolução, temos uma camada de **Max Pooling**. Essa camada é utilizada para fazer com que a rede seja invariante a pequenas alterações na posição da imagem nos pixels de entrada.\n",
    "\n",
    "Ver https://keras.io/api/layers/pooling_layers/max_pooling2d/"
   ]
  },
  {
   "cell_type": "markdown",
   "metadata": {
    "id": "3Z-jTWJA5wEO"
   },
   "source": [
    "<center>\n",
    "<img src='https://drive.google.com/uc?id=1G96qhP-Z6piTvWrPopfGxzfkvSthNPOO'width=700>"
   ]
  },
  {
   "cell_type": "markdown",
   "metadata": {
    "id": "O-4_TZC8-_2Z"
   },
   "source": [
    "Temos também a camada de **Flatten** que apenas irá transformar a saída da convolução que é bidimensional em uma dimensão. Isso é feito para que posteriormente seja possível implementar uma **rede neural densa** (como a rede Multilayer Perceptron), já que esse espera como entrada um vetor:"
   ]
  },
  {
   "cell_type": "markdown",
   "metadata": {
    "id": "6nWP9gkN__nM"
   },
   "source": [
    "<center>\n",
    "<img src='https://drive.google.com/uc?id=1jG7b_oFVFdFSXwcOEuMabzKb7SpvXZrb'width=500>"
   ]
  },
  {
   "cell_type": "code",
   "execution_count": null,
   "metadata": {
    "colab": {
     "base_uri": "https://localhost:8080/"
    },
    "id": "iIpyYThqrlvE",
    "outputId": "b1a365f3-3c14-4fef-bf26-f224da31379a"
   },
   "outputs": [],
   "source": [
    "modelo.summary()"
   ]
  },
  {
   "cell_type": "code",
   "execution_count": null,
   "metadata": {
    "colab": {
     "base_uri": "https://localhost:8080/",
     "height": 865
    },
    "id": "ol4ZP6yADC2q",
    "outputId": "a78d4ea4-1852-4dfd-b8bb-cc692aca3ccb"
   },
   "outputs": [],
   "source": [
    "plot_model(modelo, to_file='model_plot.png', show_shapes=True, show_layer_names=True)"
   ]
  },
  {
   "cell_type": "markdown",
   "metadata": {
    "id": "6NdfAEv6omGY"
   },
   "source": [
    "### Realizando o treinamento"
   ]
  },
  {
   "cell_type": "code",
   "execution_count": null,
   "metadata": {
    "colab": {
     "base_uri": "https://localhost:8080/"
    },
    "id": "cAdKU-tCrU0i",
    "outputId": "b2c16de6-52fa-42c3-edfa-fa60ea099feb"
   },
   "outputs": [],
   "source": [
    "# Vamos fazer o treinamento utilizando 35 epocas!\n",
    "history = modelo.fit(train_images,train_labels,epochs=30, verbose=1, batch_size=120, validation_split=0.2)"
   ]
  },
  {
   "cell_type": "code",
   "execution_count": null,
   "metadata": {
    "id": "Z2UCFeMd0-mo"
   },
   "outputs": [],
   "source": [
    "#modelo.save('CNN_Classificador.h5')"
   ]
  },
  {
   "cell_type": "code",
   "execution_count": null,
   "metadata": {
    "colab": {
     "base_uri": "https://localhost:8080/",
     "height": 299
    },
    "id": "N-c6L9HP1WO9",
    "outputId": "333a5f29-73a1-4214-aff0-912d8b6189de"
   },
   "outputs": [],
   "source": [
    "# Plotando o MSE para cada época de treinamento\n",
    "plt.plot(history.history['loss'])\n",
    "plt.plot(history.history['val_loss'])\n",
    "plt.title('Função de Custo vs Época')\n",
    "plt.ylabel('Função de Custo')\n",
    "plt.xlabel('Épocas')\n",
    "plt.legend(['treino', 'validação'], loc='upper right')\n",
    "plt.show()"
   ]
  },
  {
   "cell_type": "markdown",
   "metadata": {
    "id": "bgPhyCSZtS7P"
   },
   "source": [
    "Podemos perceber que nesse primeiro treinamento houve um overfitting, uma vez que o confjunto de validação após 10 épocas de treinamento começou a aumentar o valor da sua função custo"
   ]
  },
  {
   "cell_type": "markdown",
   "metadata": {
    "id": "xCg5kt36Iu8r"
   },
   "source": [
    "## Criando um novo modelo"
   ]
  },
  {
   "cell_type": "markdown",
   "metadata": {
    "id": "EulrACoeIxEU"
   },
   "source": [
    "Agora vamos criar um segundo novo modelo para tentar conseguir um resultado diferente no treinamento:"
   ]
  },
  {
   "cell_type": "code",
   "execution_count": null,
   "metadata": {
    "id": "GAZ6OQJH1vTx"
   },
   "outputs": [],
   "source": [
    "model= tf.keras.Sequential()\n",
    "\n",
    "model.add(Conv2D(32, (3, 3), input_shape=(32,32,3), activation='relu', padding='same')) \n",
    "model.add(Dropout(0.2)) \n",
    "model.add(Conv2D(32, (3, 3), activation='relu', padding='same')) \n",
    "model.add(MaxPooling2D(pool_size=(2, 2))) \n",
    "model.add(Conv2D(64, (3, 3), activation='relu', padding='same')) \n",
    "model.add(Dropout(0.2)) \n",
    "model.add(Conv2D(64, (3, 3), activation='relu', padding='same')) \n",
    "model.add(MaxPooling2D(pool_size=(2, 2))) \n",
    "model.add(Conv2D(128, (3, 3), activation='relu', padding='same')) \n",
    "model.add(Dropout(0.2)) \n",
    "model.add(Conv2D(128, (3, 3), activation='relu', padding='same')) \n",
    "model.add(MaxPooling2D(pool_size=(2, 2))) \n",
    "model.add(Flatten()) \n",
    "model.add(Dropout(0.2)) \n",
    "model.add(Dense(1024, activation='relu')) \n",
    "model.add(Dropout(0.2)) \n",
    "model.add(Dense(512, activation='relu')) \n",
    "model.add(Dropout(0.2)) \n",
    "model.add(Dense(10, activation='softmax'))\n",
    "\n",
    "model.compile(optimizer=\"adam\", loss=\"categorical_crossentropy\", metrics=[\"accuracy\"])"
   ]
  },
  {
   "cell_type": "markdown",
   "metadata": {
    "id": "Uk91ZXY3I-Kc"
   },
   "source": [
    "O **padding** é uma forma de realizar a convolução sem alterar a dimensão da saída da operação de convolução.\n",
    "\n",
    "Ver https://keras.io/api/layers/convolution_layers/convolution2d/"
   ]
  },
  {
   "cell_type": "markdown",
   "metadata": {
    "id": "mr87xjC1Ji2R"
   },
   "source": [
    "<center>\n",
    "<img src='https://drive.google.com/uc?id=1pxfS3V9DquLJNIvx3LupZz12KBm5NtIO'width=800>"
   ]
  },
  {
   "cell_type": "markdown",
   "metadata": {
    "id": "ccnnEa7TJ04e"
   },
   "source": [
    "O **Dropout** é uma técnica que faz com que alguns neurônios seja desativados aleatoriamente durante o treinamento. O objetivo disso é que evitar o Overfitting. Seria o similar a treinarmos diferentes redes e obtermos a média delas como saída. No caso o dropout irá eliminar 20% dos neurônios durante o treinamento."
   ]
  },
  {
   "cell_type": "markdown",
   "metadata": {
    "id": "lvdugrf3KvzI"
   },
   "source": [
    "Realizando o novo treinamento;"
   ]
  },
  {
   "cell_type": "code",
   "execution_count": null,
   "metadata": {
    "colab": {
     "base_uri": "https://localhost:8080/"
    },
    "id": "3gcQtRjB18pS",
    "outputId": "fb0d511d-25cc-46de-dd87-d0cef908439c"
   },
   "outputs": [],
   "source": [
    "# Vamos fazer o treinamento utilizando 10 epocas!\n",
    "history_2 = model.fit(train_images,train_labels,epochs=10, verbose=1, batch_size=120, validation_split=0.2)"
   ]
  },
  {
   "cell_type": "code",
   "execution_count": null,
   "metadata": {
    "id": "nHaf7Z7nGO5b"
   },
   "outputs": [],
   "source": [
    "model.save('CNN_Classificador_2.h5')"
   ]
  },
  {
   "cell_type": "code",
   "execution_count": null,
   "metadata": {
    "colab": {
     "base_uri": "https://localhost:8080/",
     "height": 299
    },
    "id": "76p65jyr2NW6",
    "outputId": "a947ca32-91bb-4077-ecea-8aa408bdad13"
   },
   "outputs": [],
   "source": [
    "# Plotando o MSE para cada época de treinamento\n",
    "plt.plot(history_2.history['loss'])\n",
    "plt.plot(history_2.history['val_loss'])\n",
    "plt.title('Função de Custo vs Época')\n",
    "plt.ylabel('Função de Custo')\n",
    "plt.xlabel('Épocas')\n",
    "plt.legend(['treino', 'validação'], loc='upper right')\n",
    "plt.show()"
   ]
  },
  {
   "cell_type": "markdown",
   "metadata": {
    "id": "CljreHo-O_iQ"
   },
   "source": [
    "### Avaliando o desempenho do classificador"
   ]
  },
  {
   "cell_type": "markdown",
   "metadata": {
    "id": "6D1dhRdxK3oF"
   },
   "source": [
    "Agora, usando a porção de dados de teste, iremos realizar as previsões de todos os valores de saída.\n",
    "\n",
    "Vamos utilizar o modelo ser Overfitting."
   ]
  },
  {
   "cell_type": "code",
   "execution_count": null,
   "metadata": {
    "id": "osPKrmvlNVHJ"
   },
   "outputs": [],
   "source": [
    "novo_modelo = load_model('CNN_Classificador_2.h5')"
   ]
  },
  {
   "cell_type": "code",
   "execution_count": null,
   "metadata": {
    "colab": {
     "base_uri": "https://localhost:8080/"
    },
    "id": "UXFWE6FmK0Pq",
    "outputId": "a07ceffa-2252-4cb0-9ec7-aa0dba1345f8"
   },
   "outputs": [],
   "source": [
    "y_pred = novo_modelo.predict(test_images).argmax(axis=1)\n",
    "y_pred"
   ]
  },
  {
   "cell_type": "code",
   "execution_count": null,
   "metadata": {
    "colab": {
     "base_uri": "https://localhost:8080/"
    },
    "id": "OGJvPtFqLqyM",
    "outputId": "b3c57551-e766-4b9b-97cf-60a4a83a279c"
   },
   "outputs": [],
   "source": [
    "cm_rn = confusion_matrix(test_labels, y_pred, labels = [0,1,2,3,4,5,6,7,8,9])\n",
    "cm_rn"
   ]
  },
  {
   "cell_type": "code",
   "execution_count": null,
   "metadata": {
    "colab": {
     "base_uri": "https://localhost:8080/",
     "height": 315
    },
    "id": "PKFwquotL5SG",
    "outputId": "d991ed9f-3418-4406-fbc2-98107240d742"
   },
   "outputs": [],
   "source": [
    "figure = plt.figure(figsize=(30, 20))\n",
    "disp = ConfusionMatrixDisplay(confusion_matrix = cm_rn, display_labels=[0,1,2,3,4,5,6,7,8,9])\n",
    "disp.plot(values_format='d') "
   ]
  },
  {
   "cell_type": "code",
   "execution_count": null,
   "metadata": {
    "colab": {
     "base_uri": "https://localhost:8080/"
    },
    "id": "m3p3ZwIxMiZU",
    "outputId": "4b0fe199-5813-432b-c10f-80adbacaf3bd"
   },
   "outputs": [],
   "source": [
    "# Metricas de precisão, revocação, f1-score e acurácia.\n",
    "print(classification_report(test_labels, y_pred))"
   ]
  },
  {
   "cell_type": "markdown",
   "metadata": {},
   "source": [
    "------------------------\n",
    "# Outros exemplos:\n",
    "\n",
    "No link https://github.com/hfarruda/deeplearningtutorial há uma gama de notebooks para diferentes arquiteturas de redes neurais. Vamos explorar alguns deles."
   ]
  }
 ],
 "metadata": {
  "colab": {
   "name": "Aula_CNN.ipynb",
   "provenance": []
  },
  "kernelspec": {
   "display_name": "Python 3",
   "language": "python",
   "name": "python3"
  },
  "language_info": {
   "codemirror_mode": {
    "name": "ipython",
    "version": 3
   },
   "file_extension": ".py",
   "mimetype": "text/x-python",
   "name": "python",
   "nbconvert_exporter": "python",
   "pygments_lexer": "ipython3",
   "version": "3.9.5"
  }
 },
 "nbformat": 4,
 "nbformat_minor": 1
}
