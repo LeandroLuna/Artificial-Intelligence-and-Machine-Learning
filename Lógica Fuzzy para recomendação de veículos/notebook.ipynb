{
 "cells": [
  {
   "cell_type": "markdown",
   "metadata": {
    "id": "O-tWwqN-pg2Y"
   },
   "source": [
    "# Outros métodos de IA e suas aplicações\n",
    "\n",
    "---\n",
    "\n",
    "### **Objetivo:**\n",
    "No algoritmo a ser desenvolvido, pretende-se utilizar técnicas de **Lógica Fuzzy** (IA Clássica) para determinar (de 0 à 10) quão custo-benefico é um veiculo. Para tal, considera-se o seguinte cenário:\n",
    "\n",
    "#### Input:\n",
    "- Valor: Qual o preço do veículo, em reais? De 0 - 100 (universo/range da variável crisp), escala em milhares (10ˆ3). Ex. 17.4 = R$17.400 mil. \"Acessível\", \"Neutro\", \"Caro\" (Conjunto Fuzzy). \n",
    "\n",
    "- Eficiência: Quantos quilômetros o veículo consegue rodar consumindo a menor quantidade de gasolina? Escala de 0 à 10 (universo), onde quanto maior a escala de eficiência, maior é a quilometragem rodada ao custo de um menor consumo de gasolina. \"Fraca\", \"Moderada\", \"Potente\" (Conjunto Fuzzy)\n",
    "\n",
    "#### Output:\n",
    "- Custo-benefício: Qual a relação da eficiência X valor do veiculo, de 0 à 10? (universo). 'Ruim', 'Ok', 'Bom'. (Conjunto Fuzzy)\n",
    "\n",
    "#### Regras:\n",
    "- Se o veiculo tiver um preço 'acessível' E uma eficiência 'potente', logo o custo beneficio é 'bom'.\n",
    "\n",
    "- Se o veiculo tiver um preço 'neutro' E uma eficiência 'moderada', o custo beneficio dele é 'ok'.\n",
    "\n",
    "- Se o veiculo tiver um preço 'caro' OU eficiência 'fraca', o custo beneficio dele é 'ruim'. "
   ]
  },
  {
   "cell_type": "markdown",
   "metadata": {
    "id": "H_ChOs3Pq4Gm"
   },
   "source": [
    "# **Carregando as bibliotecas**"
   ]
  },
  {
   "cell_type": "code",
   "execution_count": 54,
   "metadata": {
    "colab": {
     "base_uri": "https://localhost:8080/"
    },
    "executionInfo": {
     "elapsed": 3974,
     "status": "ok",
     "timestamp": 1666705148577,
     "user": {
      "displayName": "Leandro Luna",
      "userId": "00217320943669558162"
     },
     "user_tz": 180
    },
    "id": "9pKNsiFgmtej",
    "outputId": "a5509a5e-0baa-425f-d0a7-0d69a8ac71f2"
   },
   "outputs": [
    {
     "name": "stdout",
     "output_type": "stream",
     "text": [
      "Looking in indexes: https://pypi.org/simple, https://us-python.pkg.dev/colab-wheels/public/simple/\n",
      "Requirement already satisfied: scikit-fuzzy in /usr/local/lib/python3.7/dist-packages (0.4.2)\n",
      "Requirement already satisfied: networkx>=1.9.0 in /usr/local/lib/python3.7/dist-packages (from scikit-fuzzy) (2.6.3)\n",
      "Requirement already satisfied: scipy>=0.9.0 in /usr/local/lib/python3.7/dist-packages (from scikit-fuzzy) (1.7.3)\n",
      "Requirement already satisfied: numpy>=1.6.0 in /usr/local/lib/python3.7/dist-packages (from scikit-fuzzy) (1.21.6)\n"
     ]
    }
   ],
   "source": [
    "!pip install -U scikit-fuzzy\n",
    "\n",
    "import numpy as np\n",
    "import skfuzzy as fz\n",
    "from skfuzzy import control as ctrl"
   ]
  },
  {
   "cell_type": "markdown",
   "metadata": {
    "id": "nJd2-eoBnTmk"
   },
   "source": [
    "# **Lógica Clássica**"
   ]
  },
  {
   "cell_type": "code",
   "execution_count": 55,
   "metadata": {
    "executionInfo": {
     "elapsed": 30,
     "status": "ok",
     "timestamp": 1666705148577,
     "user": {
      "displayName": "Leandro Luna",
      "userId": "00217320943669558162"
     },
     "user_tz": 180
    },
    "id": "ZtEGq3WOn3VJ"
   },
   "outputs": [],
   "source": [
    "# Função que retorna o custo beneficio, dado a entrada dos argumentos 'valor' e 'eficiencia'. \n",
    "def custo_beneficio(valor, eficiencia):\n",
    "  input1 = { # Valor\n",
    "      \"Acessivel\": 33.33,\n",
    "      \"Neutro\": 67,\n",
    "      \"Caro\":  100\n",
    "  }\n",
    "  \n",
    "  input2 = { # Eficiência\n",
    "      \"Fraca\": 4,\n",
    "      \"Moderada\": 7,\n",
    "      \"Potente\": 10 \n",
    "  }\n",
    "\n",
    "  output = { # Custo-beneficio\n",
    "      'Ruim': 4,\n",
    "      'Ok': 7,\n",
    "      'Bom': 10\n",
    "  }\n",
    "\n",
    "  rating = ''\n",
    "  if (valor <= input1['Acessivel']) and (eficiencia > input2['Moderada']): # Se o veículo tiver um preço 'acessível' e uma eficiência 'potente', logo o custo beneficio é 'bom'.\n",
    "    rating = 'Bom'\n",
    "\n",
    "  elif (valor <= input1['Neutro']) and (eficiencia >= input2['Moderada']): # Se o veículo tiver um preço 'neutro' e uma eficiência 'moderada', o custo beneficio dele é 'ok'.\n",
    "    rating = 'Ok'\n",
    "  \n",
    "  elif (valor > input1['Neutro']) or (eficiencia < input2['Fraca']): # Se o veículo tiver um preço 'caro' OU eficiência 'fraca', o custo beneficio dele é 'ruim'. \n",
    "    rating = 'Ruim'\n",
    "\n",
    "  return(output[rating])"
   ]
  },
  {
   "cell_type": "code",
   "execution_count": 56,
   "metadata": {
    "colab": {
     "base_uri": "https://localhost:8080/"
    },
    "executionInfo": {
     "elapsed": 30,
     "status": "ok",
     "timestamp": 1666705148578,
     "user": {
      "displayName": "Leandro Luna",
      "userId": "00217320943669558162"
     },
     "user_tz": 180
    },
    "id": "BYvBAgIP8bf0",
    "outputId": "de80efaf-28c9-4400-9ef9-86258daecfec"
   },
   "outputs": [
    {
     "name": "stdout",
     "output_type": "stream",
     "text": [
      "Cenário 1) Custo beneficio:  4\n",
      "Cenário 2) Custo beneficio:  10\n",
      "Cenário 3) Custo beneficio:  7\n",
      "Cenário 4) Custo beneficio:  4\n"
     ]
    }
   ],
   "source": [
    "# Testes:\n",
    "print('Cenário 1) Custo beneficio: ', custo_beneficio(80, 3)) # Alto valor, pouca eficiência.\n",
    "print('Cenário 2) Custo beneficio: ', custo_beneficio(30, 8)) # Baixo valor, alta eficiência.\n",
    "print('Cenário 3) Custo beneficio: ', custo_beneficio(50.5, 9)) # Valor médio, alta eficiência.\n",
    "print('Cenário 4) Custo beneficio: ', custo_beneficio(95, 2)) # Alto valor, baixa eficiência.\n",
    "\n",
    "# O output é limitado a valores pré-determinados, e as regras são limitadas; não comporta todos os cenários de input. \n",
    "# Ex.: Caso o valor do veiculo seja 'neutro' (valor <= input1['Neutro']) e a eficiencia 'moderada' (eficiencia <= input2['Moderada']), o algoritmo não sabe tratar esse cenário. \n",
    "\n",
    "# print('Cenário 5 - Improvável) Custo beneficio: ', custo_beneficio(60, 5)) # Valor médio, eficiência média."
   ]
  },
  {
   "cell_type": "markdown",
   "metadata": {
    "id": "yblqAYkhn98S"
   },
   "source": [
    "# **Lógica Fuzzy**"
   ]
  },
  {
   "cell_type": "code",
   "execution_count": 57,
   "metadata": {
    "executionInfo": {
     "elapsed": 27,
     "status": "ok",
     "timestamp": 1666705148578,
     "user": {
      "displayName": "Leandro Luna",
      "userId": "00217320943669558162"
     },
     "user_tz": 180
    },
    "id": "AAbOmiR398H3"
   },
   "outputs": [],
   "source": [
    "valor = ctrl.Antecedent(np.arange(0, 101, 1), 'valor') # Qual o preço do veículo, em reais? De 0 - 100.\n",
    "eficiencia = ctrl.Antecedent(np.arange(0, 11, 1), 'eficiencia') # Quantos quilometros o veículo consegue rodar consumindo a menor quantidade de gasolina? Escala de 0 à 10.\n",
    "custo_beneficio = ctrl.Consequent(np.arange(0, 11, 1), 'custo_beneficio') # Qual a relação da eficiência X valor do veiculo, de 0 à 10?."
   ]
  },
  {
   "cell_type": "code",
   "execution_count": 58,
   "metadata": {
    "colab": {
     "base_uri": "https://localhost:8080/"
    },
    "executionInfo": {
     "elapsed": 27,
     "status": "ok",
     "timestamp": 1666705148579,
     "user": {
      "displayName": "Leandro Luna",
      "userId": "00217320943669558162"
     },
     "user_tz": 180
    },
    "id": "p9LEIgoK-did",
    "outputId": "fca63fa5-29d7-460c-c78c-a99502f2a19c"
   },
   "outputs": [
    {
     "name": "stdout",
     "output_type": "stream",
     "text": [
      "Valor:  [  0   1   2   3   4   5   6   7   8   9  10  11  12  13  14  15  16  17\n",
      "  18  19  20  21  22  23  24  25  26  27  28  29  30  31  32  33  34  35\n",
      "  36  37  38  39  40  41  42  43  44  45  46  47  48  49  50  51  52  53\n",
      "  54  55  56  57  58  59  60  61  62  63  64  65  66  67  68  69  70  71\n",
      "  72  73  74  75  76  77  78  79  80  81  82  83  84  85  86  87  88  89\n",
      "  90  91  92  93  94  95  96  97  98  99 100]\n",
      "\n",
      "Eficiencia:  [ 0  1  2  3  4  5  6  7  8  9 10]\n",
      "\n",
      "Custo Beneficio:  [ 0  1  2  3  4  5  6  7  8  9 10]\n"
     ]
    }
   ],
   "source": [
    "# Universo de valores CRISP:\n",
    "print('Valor: ', valor.universe)\n",
    "print('\\nEficiencia: ', eficiencia.universe)\n",
    "print('\\nCusto Beneficio: ', custo_beneficio.universe)"
   ]
  },
  {
   "cell_type": "code",
   "execution_count": 59,
   "metadata": {
    "executionInfo": {
     "elapsed": 25,
     "status": "ok",
     "timestamp": 1666705148579,
     "user": {
      "displayName": "Leandro Luna",
      "userId": "00217320943669558162"
     },
     "user_tz": 180
    },
    "id": "NiPZvY2F_COB"
   },
   "outputs": [],
   "source": [
    "# Mapeando os valores semânticos das variáveis difusas (valor e eficiência)\n",
    "valor.automf(names = ['Acessivel', 'Neutro', 'Caro']) # Valor: \"Acessível\", \"Neutro\", \"Caro\" (Conjunto Fuzzy). \n",
    "eficiencia.automf(names = ['Fraca', 'Moderada', 'Potente']) # Eficiência: \"Fraca\", \"Moderada\", \"Potente\" (Conjunto Fuzzy)"
   ]
  },
  {
   "cell_type": "code",
   "execution_count": 60,
   "metadata": {
    "colab": {
     "base_uri": "https://localhost:8080/",
     "height": 281
    },
    "executionInfo": {
     "elapsed": 503,
     "status": "ok",
     "timestamp": 1666705149058,
     "user": {
      "displayName": "Leandro Luna",
      "userId": "00217320943669558162"
     },
     "user_tz": 180
    },
    "id": "VA6sLhfF_qXZ",
    "outputId": "9acf13e3-8ed3-4573-f291-bb7f090b1ce2"
   },
   "outputs": [
    {
     "data": {
      "image/png": "[encoded data removed]",
      "text/plain": [
       "<Figure size 432x288 with 1 Axes>"
      ]
     },
     "metadata": {
      "needs_background": "light"
     },
     "output_type": "display_data"
    }
   ],
   "source": [
    "# Visualização de uma função triângular, à partir dos grupos semânticos da entrada 'valor'\n",
    "valor.view()"
   ]
  },
  {
   "cell_type": "code",
   "execution_count": 61,
   "metadata": {
    "colab": {
     "base_uri": "https://localhost:8080/",
     "height": 281
    },
    "executionInfo": {
     "elapsed": 11,
     "status": "ok",
     "timestamp": 1666705149059,
     "user": {
      "displayName": "Leandro Luna",
      "userId": "00217320943669558162"
     },
     "user_tz": 180
    },
    "id": "uLpHTxbYJkxk",
    "outputId": "df312075-082d-468d-aaf0-a0ecd87b8a66"
   },
   "outputs": [
    {
     "data": {
      "image/png": "[encoded data removed]",
      "text/plain": [
       "<Figure size 432x288 with 1 Axes>"
      ]
     },
     "metadata": {
      "needs_background": "light"
     },
     "output_type": "display_data"
    }
   ],
   "source": [
    "# Visualização de uma função triângular, à partir dos grupos semânticos da entrada 'eficiencia'\n",
    "eficiencia.view()"
   ]
  },
  {
   "cell_type": "code",
   "execution_count": 62,
   "metadata": {
    "executionInfo": {
     "elapsed": 11,
     "status": "ok",
     "timestamp": 1666705149060,
     "user": {
      "displayName": "Leandro Luna",
      "userId": "00217320943669558162"
     },
     "user_tz": 180
    },
    "id": "dzIzrZahAA5D"
   },
   "outputs": [],
   "source": [
    "# Definindo a função de associação (pertinência) triângular através do mapeamento dos valores Fuzzy do universo da saida 'custo_beneficio'. \n",
    "# 'Ruim', 'Ok', 'Bom' (Conjunto Fuzzy)\n",
    "custo_beneficio['Ruim'] = fz.trimf(custo_beneficio.universe, [0, 0, 4])\n",
    "custo_beneficio['Ok'] = fz.trimf(custo_beneficio.universe, [0, 4, 10])\n",
    "custo_beneficio['Bom'] = fz.trimf(custo_beneficio.universe, [4, 10, 10])"
   ]
  },
  {
   "cell_type": "code",
   "execution_count": 63,
   "metadata": {
    "colab": {
     "base_uri": "https://localhost:8080/",
     "height": 282
    },
    "executionInfo": {
     "elapsed": 314,
     "status": "ok",
     "timestamp": 1666705149364,
     "user": {
      "displayName": "Leandro Luna",
      "userId": "00217320943669558162"
     },
     "user_tz": 180
    },
    "id": "Kl_0umksAxtT",
    "outputId": "0818d6f6-c087-4425-cfe0-c91ca4e1cf7b"
   },
   "outputs": [
    {
     "data": {
      "image/png": "[encoded data removed]",
      "text/plain": [
       "<Figure size 432x288 with 1 Axes>"
      ]
     },
     "metadata": {
      "needs_background": "light"
     },
     "output_type": "display_data"
    }
   ],
   "source": [
    "# Visualização de uma função triângular, à partir dos grupos semânticos da saida 'custo_beneficio'\n",
    "custo_beneficio.view()"
   ]
  },
  {
   "cell_type": "code",
   "execution_count": 64,
   "metadata": {
    "executionInfo": {
     "elapsed": 13,
     "status": "ok",
     "timestamp": 1666705149368,
     "user": {
      "displayName": "Leandro Luna",
      "userId": "00217320943669558162"
     },
     "user_tz": 180
    },
    "id": "OFPuCsvMCNKH"
   },
   "outputs": [],
   "source": [
    "# Cria-se as regras do sistema: à partir dos antecedentes (valor e eficiência) gerá-se a consequência (custo beneficio).\n",
    "# Em alguns cenários, há-se sobreposição (difusão tanto da entrada, quanto da saida).  \n",
    "rule1 = ctrl.Rule(valor['Acessivel'] & eficiencia['Potente'], custo_beneficio['Bom']) # Se o veiculo tiver um preço 'acessível' E uma eficiência 'potente', logo o custo beneficio é 'bom'.\n",
    "rule2 = ctrl.Rule(valor['Neutro'] & eficiencia['Moderada'], custo_beneficio['Ok']) # Se o veiculo tiver um preço 'neutro' E uma eficiência 'moderada', o custo beneficio dele é 'ok'.\n",
    "rule3 = ctrl.Rule(valor['Caro'] | eficiencia['Fraca'], custo_beneficio['Ruim']) # Se o veiculo tiver um preço 'caro' OU eficiência 'fraca', o custo beneficio dele é 'ruim'. "
   ]
  },
  {
   "cell_type": "code",
   "execution_count": 65,
   "metadata": {
    "executionInfo": {
     "elapsed": 14,
     "status": "ok",
     "timestamp": 1666705149369,
     "user": {
      "displayName": "Leandro Luna",
      "userId": "00217320943669558162"
     },
     "user_tz": 180
    },
    "id": "UIwwVRM6DMJ9"
   },
   "outputs": [],
   "source": [
    "# Gera-se o sistema com base nas regras definidas.\n",
    "ctrl_custo_beneficio = ctrl.ControlSystem([rule1, rule2, rule3])\n",
    "\n",
    "# Instância um novo controlador com o sistema gerado anteriormente.\n",
    "controller = ctrl.ControlSystemSimulation(ctrl_custo_beneficio)"
   ]
  },
  {
   "cell_type": "markdown",
   "metadata": {
    "id": "AvRlg1lZVp_5"
   },
   "source": [
    "## Aplicando o sistema"
   ]
  },
  {
   "cell_type": "markdown",
   "metadata": {
    "id": "LPM9VIVSWhEt"
   },
   "source": [
    "### Exemplo 1:"
   ]
  },
  {
   "cell_type": "code",
   "execution_count": 66,
   "metadata": {
    "colab": {
     "base_uri": "https://localhost:8080/"
    },
    "executionInfo": {
     "elapsed": 13,
     "status": "ok",
     "timestamp": 1666705149369,
     "user": {
      "displayName": "Leandro Luna",
      "userId": "00217320943669558162"
     },
     "user_tz": 180
    },
    "id": "uwVuhPI5ERnK",
    "outputId": "bd42889a-c222-4b24-f235-de1f82e20d62"
   },
   "outputs": [
    {
     "name": "stdout",
     "output_type": "stream",
     "text": [
      "Custo beneficio:  6.06\n"
     ]
    }
   ],
   "source": [
    "# Cenário: valor 'neutro' e eficiência 'potente'.\n",
    "# Expectativa: custo-beneficio 'ok'.\n",
    "\n",
    "controller.input['valor'] = 40.2 # Valor do veiculo: R$40.200\n",
    "controller.input['eficiencia'] = 9.6 # Eficiência: 9.6/10\n",
    "\n",
    "controller.compute() # Calcula o resultado. \n",
    "\n",
    "output = controller.output['custo_beneficio'] # Armazena em o resultado em uma váriavel. \n",
    "\n",
    "print('Custo beneficio: ', round(output, 2))"
   ]
  },
  {
   "cell_type": "code",
   "execution_count": 67,
   "metadata": {
    "colab": {
     "base_uri": "https://localhost:8080/",
     "height": 282
    },
    "executionInfo": {
     "elapsed": 587,
     "status": "ok",
     "timestamp": 1666705149945,
     "user": {
      "displayName": "Leandro Luna",
      "userId": "00217320943669558162"
     },
     "user_tz": 180
    },
    "id": "QeHIlA1uUNr6",
    "outputId": "fdff4ce6-3a82-41f1-c512-4f463f38f9e2"
   },
   "outputs": [
    {
     "data": {
      "image/png": "[encoded data removed]",
      "text/plain": [
       "<Figure size 432x288 with 1 Axes>"
      ]
     },
     "metadata": {
      "needs_background": "light"
     },
     "output_type": "display_data"
    }
   ],
   "source": [
    "# Exibe a os grupos semânticos do output (custo_beneficio) e pinta a pertinência do resultado por via da exibição de uma função triangular.\n",
    "custo_beneficio.view(sim=controller)"
   ]
  },
  {
   "cell_type": "markdown",
   "metadata": {
    "id": "SrcRupMuWfH8"
   },
   "source": [
    "### Exemplo 2:"
   ]
  },
  {
   "cell_type": "code",
   "execution_count": 68,
   "metadata": {
    "colab": {
     "base_uri": "https://localhost:8080/"
    },
    "executionInfo": {
     "elapsed": 10,
     "status": "ok",
     "timestamp": 1666705149947,
     "user": {
      "displayName": "Leandro Luna",
      "userId": "00217320943669558162"
     },
     "user_tz": 180
    },
    "id": "UvzpynQOVmfw",
    "outputId": "71d723b3-950a-4b3f-a2dd-e96550cb7945"
   },
   "outputs": [
    {
     "name": "stdout",
     "output_type": "stream",
     "text": [
      "Custo beneficio:  3.74\n"
     ]
    }
   ],
   "source": [
    "# Cenário: valor 'caro' e eficiência 'fraca'.\n",
    "# Expectativa: custo-beneficio 'ruim'.\n",
    "\n",
    "controller.input['valor'] = 85.3 # Valor do veiculo: R$85.300\n",
    "controller.input['eficiencia'] = 3.5 # Eficiência: 3.5/10\n",
    "\n",
    "controller.compute() # Calcula o resultado. \n",
    "\n",
    "output = controller.output['custo_beneficio'] # Armazena em o resultado em uma váriavel. \n",
    "\n",
    "print('Custo beneficio: ', round(output, 2))"
   ]
  },
  {
   "cell_type": "code",
   "execution_count": 69,
   "metadata": {
    "colab": {
     "base_uri": "https://localhost:8080/",
     "height": 282
    },
    "executionInfo": {
     "elapsed": 664,
     "status": "ok",
     "timestamp": 1666705150603,
     "user": {
      "displayName": "Leandro Luna",
      "userId": "00217320943669558162"
     },
     "user_tz": 180
    },
    "id": "h4HxRKi_WdJM",
    "outputId": "35fd20c4-a92f-40b4-b551-dcf602a586db"
   },
   "outputs": [
    {
     "data": {
      "image/png": "[encoded data removed]",
      "text/plain": [
       "<Figure size 432x288 with 1 Axes>"
      ]
     },
     "metadata": {
      "needs_background": "light"
     },
     "output_type": "display_data"
    }
   ],
   "source": [
    "# Exibe a os grupos semânticos do output (custo_beneficio) e pinta a pertinência do resultado por via da exibição de uma função triangular.\n",
    "custo_beneficio.view(sim=controller)"
   ]
  },
  {
   "cell_type": "markdown",
   "metadata": {
    "id": "T8Gig0KxWx_O"
   },
   "source": [
    "### Exemplo 3:"
   ]
  },
  {
   "cell_type": "code",
   "execution_count": 70,
   "metadata": {
    "colab": {
     "base_uri": "https://localhost:8080/"
    },
    "executionInfo": {
     "elapsed": 16,
     "status": "ok",
     "timestamp": 1666705150604,
     "user": {
      "displayName": "Leandro Luna",
      "userId": "00217320943669558162"
     },
     "user_tz": 180
    },
    "id": "pqgsm8qSW2UR",
    "outputId": "22b855d9-1f0d-4a37-c977-b07e76efa81f"
   },
   "outputs": [
    {
     "name": "stdout",
     "output_type": "stream",
     "text": [
      "Custo beneficio:  7.58\n"
     ]
    }
   ],
   "source": [
    "# Cenário: valor 'acessivel' e eficiência 'potente'.\n",
    "# Expectativa: custo-beneficio 'bom'.\n",
    "\n",
    "controller.input['valor'] = 20.0 # Valor do veiculo: R$20.000\n",
    "controller.input['eficiencia'] = 9.9 # Eficiência: 9.9/10\n",
    "\n",
    "controller.compute() # Calcula o resultado. \n",
    "\n",
    "output = controller.output['custo_beneficio'] # Armazena em o resultado em uma váriavel. \n",
    "\n",
    "print('Custo beneficio: ', round(output, 2))"
   ]
  },
  {
   "cell_type": "code",
   "execution_count": 71,
   "metadata": {
    "colab": {
     "base_uri": "https://localhost:8080/",
     "height": 282
    },
    "executionInfo": {
     "elapsed": 13,
     "status": "ok",
     "timestamp": 1666705150605,
     "user": {
      "displayName": "Leandro Luna",
      "userId": "00217320943669558162"
     },
     "user_tz": 180
    },
    "id": "boUodP_SXQFl",
    "outputId": "d7f1cca0-267b-4007-963c-4dc9137f2d73"
   },
   "outputs": [
    {
     "data": {
      "image/png": "[encoded data removed]",
      "text/plain": [
       "<Figure size 432x288 with 1 Axes>"
      ]
     },
     "metadata": {
      "needs_background": "light"
     },
     "output_type": "display_data"
    }
   ],
   "source": [
    "# Exibe a os grupos semânticos do output (custo_beneficio) e pinta a pertinência do resultado por via da exibição de uma função triangular.\n",
    "custo_beneficio.view(sim=controller)"
   ]
  },
  {
   "cell_type": "markdown",
   "metadata": {
    "id": "SuoyZxHNoJCW"
   },
   "source": [
    "# **Conclusão e considerações finais**"
   ]
  },
  {
   "cell_type": "markdown",
   "metadata": {
    "id": "xeoGfAdLX5Ca"
   },
   "source": [
    "Diante do exposto, o algoritmo da Lógica Fuzzy consegue obter uma gama maior de resultados, e sobrepujar, também, as limitações de regras da Lógica Clássica. Como consequência, gera-se um resultado (output) mais satisfatório para N valores de entrada (input).  "
   ]
  }
 ],
 "metadata": {
  "colab": {
   "authorship_tag": "ABX9TyNmLhx2okCSDEInzwauzZdY",
   "collapsed_sections": [
    "H_ChOs3Pq4Gm",
    "nJd2-eoBnTmk",
    "yblqAYkhn98S",
    "LPM9VIVSWhEt",
    "SrcRupMuWfH8",
    "T8Gig0KxWx_O",
    "SuoyZxHNoJCW"
   ],
   "provenance": []
  },
  "kernelspec": {
   "display_name": "Python 3 (ipykernel)",
   "language": "python",
   "name": "python3"
  },
  "language_info": {
   "codemirror_mode": {
    "name": "ipython",
    "version": 3
   },
   "file_extension": ".py",
   "mimetype": "text/x-python",
   "name": "python",
   "nbconvert_exporter": "python",
   "pygments_lexer": "ipython3",
   "version": "3.10.8"
  }
 },
 "nbformat": 4,
 "nbformat_minor": 1
}
