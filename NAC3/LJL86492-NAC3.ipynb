{
 "cells": [
  {
   "cell_type": "markdown",
   "id": "f6a428fa",
   "metadata": {},
   "source": [
    "# Checkpoint 3 - Regressão e Clusterização\n",
    "\n",
    "\n",
    "## Instruções\n",
    "\n",
    "Leia atentamente as instruções.\n",
    "\n",
    "1) O trabalho deve ser realizado em grupo. Pode ser o mesmo grupo do challenge. Não deve ter nenhum grupo maior do que o maior grupo de challenge.\n",
    "\n",
    "2) Você deverá submenter este arquivo Jupyter Notebook com as respostas nos campos indicados. Caso ache necessário, crie células markdown para comentar suas respostas e apontamentos.\n",
    "\n",
    "3) Apenas um aluno submeterá no Teams. Mude o nome do arquivo para as iniciais do seu nome completo seguido do seu RM. Exemplo: HFS84100-NAC1\n",
    "\n",
    "4) A entrega deverá ser feita até às <font color='red'>**19h00** </font> de  <font color='red'>**27/maio/2022** </font> em tarefa no Microsoft Teams.\n",
    "\n",
    "5) As pontuações das questões estão marcadas em cada uma.\n",
    "\n",
    "6) Todos os datasets usados aqui são públicos e podem ser consultados em https://www.kaggle.com ou em https://www.openml.org/\n",
    "\n",
    "7) Dúvidas, pergunte para o professor."
   ]
  },
  {
   "cell_type": "markdown",
   "id": "aea2ba89",
   "metadata": {},
   "source": [
    "## Nomes:\n",
    "\n",
    "- Pedro Fernandes | RM84244\n",
    "- Leandro de Jesus Luna | RM86492\n",
    "- Fabbio Augusto de Souza Moura Boli | RM84695\n",
    "\n",
    "---------------------------"
   ]
  },
  {
   "cell_type": "markdown",
   "id": "3608be7e",
   "metadata": {},
   "source": [
    "## Dataset: Marketing vs Vendas\n",
    "\n",
    "Você recebeu dados de investimento em diferentes canais de marketing e o número de vendas.\n",
    "\n",
    "\n",
    "### Questão 1:  Carregue os dados descritivos e alvo na mesma tabela. Gere estatísticas básicas para todos os dados. Plote a matriz de correlação entre as colunas <font color='red'> (1.25 pontos) </font>"
   ]
  },
  {
   "cell_type": "code",
   "execution_count": 46,
   "id": "739f90d6",
   "metadata": {},
   "outputs": [],
   "source": [
    "import pandas as pd\n",
    "\n",
    "# Lib para plot dos gráficos\n",
    "import matplotlib.pyplot as plt\n",
    "import matplotlib\n",
    "from matplotlib import colors\n",
    "import seaborn as sns\n",
    "import scipy.cluster.hierarchy as sch   # Dendograma\n",
    "\n",
    "from sklearn.model_selection import train_test_split\n",
    "\n",
    "# Lib p/ Agrupamento\n",
    "from sklearn.cluster import KMeans, DBSCAN, AgglomerativeClustering\n",
    "from sklearn.mixture import GaussianMixture\n",
    "\n",
    "# Desempenho\n",
    "from sklearn.metrics import adjusted_rand_score, silhouette_score"
   ]
  },
  {
   "cell_type": "code",
   "execution_count": 47,
   "id": "a7682547",
   "metadata": {},
   "outputs": [],
   "source": [
    "dados_marketing = pd.read_csv('advertising.csv')"
   ]
  },
  {
   "cell_type": "code",
   "execution_count": 48,
   "id": "5091d9eb",
   "metadata": {},
   "outputs": [
    {
     "name": "stdout",
     "output_type": "stream",
     "text": [
      "<class 'pandas.core.frame.DataFrame'>\n",
      "RangeIndex: 200 entries, 0 to 199\n",
      "Data columns (total 5 columns):\n",
      " #   Column     Non-Null Count  Dtype  \n",
      "---  ------     --------------  -----  \n",
      " 0   S.no       200 non-null    int64  \n",
      " 1   TV         200 non-null    float64\n",
      " 2   radio      200 non-null    float64\n",
      " 3   newspaper  200 non-null    float64\n",
      " 4   sales      200 non-null    float64\n",
      "dtypes: float64(4), int64(1)\n",
      "memory usage: 7.9 KB\n"
     ]
    }
   ],
   "source": [
    "dados_marketing.info()"
   ]
  },
  {
   "cell_type": "code",
   "execution_count": 49,
   "id": "7a3566ff",
   "metadata": {},
   "outputs": [
    {
     "data": {
      "text/html": [
       "<div>\n",
       "<style scoped>\n",
       "    .dataframe tbody tr th:only-of-type {\n",
       "        vertical-align: middle;\n",
       "    }\n",
       "\n",
       "    .dataframe tbody tr th {\n",
       "        vertical-align: top;\n",
       "    }\n",
       "\n",
       "    .dataframe thead th {\n",
       "        text-align: right;\n",
       "    }\n",
       "</style>\n",
       "<table border=\"1\" class=\"dataframe\">\n",
       "  <thead>\n",
       "    <tr style=\"text-align: right;\">\n",
       "      <th></th>\n",
       "      <th>S.no</th>\n",
       "      <th>TV</th>\n",
       "      <th>radio</th>\n",
       "      <th>newspaper</th>\n",
       "      <th>sales</th>\n",
       "    </tr>\n",
       "  </thead>\n",
       "  <tbody>\n",
       "    <tr>\n",
       "      <th>count</th>\n",
       "      <td>200.000000</td>\n",
       "      <td>200.000000</td>\n",
       "      <td>200.000000</td>\n",
       "      <td>200.000000</td>\n",
       "      <td>200.000000</td>\n",
       "    </tr>\n",
       "    <tr>\n",
       "      <th>mean</th>\n",
       "      <td>100.500000</td>\n",
       "      <td>147.042500</td>\n",
       "      <td>23.264000</td>\n",
       "      <td>30.554000</td>\n",
       "      <td>14.022500</td>\n",
       "    </tr>\n",
       "    <tr>\n",
       "      <th>std</th>\n",
       "      <td>57.879185</td>\n",
       "      <td>85.854236</td>\n",
       "      <td>14.846809</td>\n",
       "      <td>21.778621</td>\n",
       "      <td>5.217457</td>\n",
       "    </tr>\n",
       "    <tr>\n",
       "      <th>min</th>\n",
       "      <td>1.000000</td>\n",
       "      <td>0.700000</td>\n",
       "      <td>0.000000</td>\n",
       "      <td>0.300000</td>\n",
       "      <td>1.600000</td>\n",
       "    </tr>\n",
       "    <tr>\n",
       "      <th>25%</th>\n",
       "      <td>50.750000</td>\n",
       "      <td>74.375000</td>\n",
       "      <td>9.975000</td>\n",
       "      <td>12.750000</td>\n",
       "      <td>10.375000</td>\n",
       "    </tr>\n",
       "    <tr>\n",
       "      <th>50%</th>\n",
       "      <td>100.500000</td>\n",
       "      <td>149.750000</td>\n",
       "      <td>22.900000</td>\n",
       "      <td>25.750000</td>\n",
       "      <td>12.900000</td>\n",
       "    </tr>\n",
       "    <tr>\n",
       "      <th>75%</th>\n",
       "      <td>150.250000</td>\n",
       "      <td>218.825000</td>\n",
       "      <td>36.525000</td>\n",
       "      <td>45.100000</td>\n",
       "      <td>17.400000</td>\n",
       "    </tr>\n",
       "    <tr>\n",
       "      <th>max</th>\n",
       "      <td>200.000000</td>\n",
       "      <td>296.400000</td>\n",
       "      <td>49.600000</td>\n",
       "      <td>114.000000</td>\n",
       "      <td>27.000000</td>\n",
       "    </tr>\n",
       "  </tbody>\n",
       "</table>\n",
       "</div>"
      ],
      "text/plain": [
       "             S.no          TV       radio   newspaper       sales\n",
       "count  200.000000  200.000000  200.000000  200.000000  200.000000\n",
       "mean   100.500000  147.042500   23.264000   30.554000   14.022500\n",
       "std     57.879185   85.854236   14.846809   21.778621    5.217457\n",
       "min      1.000000    0.700000    0.000000    0.300000    1.600000\n",
       "25%     50.750000   74.375000    9.975000   12.750000   10.375000\n",
       "50%    100.500000  149.750000   22.900000   25.750000   12.900000\n",
       "75%    150.250000  218.825000   36.525000   45.100000   17.400000\n",
       "max    200.000000  296.400000   49.600000  114.000000   27.000000"
      ]
     },
     "execution_count": 49,
     "metadata": {},
     "output_type": "execute_result"
    }
   ],
   "source": [
    "dados_marketing.describe()"
   ]
  },
  {
   "cell_type": "code",
   "execution_count": 50,
   "id": "59811c57",
   "metadata": {},
   "outputs": [
    {
     "data": {
      "image/png": "[encoded data removed]",
      "text/plain": [
       "<Figure size 720x432 with 2 Axes>"
      ]
     },
     "metadata": {
      "needs_background": "light"
     },
     "output_type": "display_data"
    }
   ],
   "source": [
    "# Matriz de Correlacao\n",
    "plt.figure(figsize=(10,6))\n",
    "sns.heatmap(dados_marketing.corr(), annot=True, fmt=\".1f\");"
   ]
  },
  {
   "cell_type": "markdown",
   "id": "af186640",
   "metadata": {},
   "source": [
    "### Questão 2:  Crie um regressor para predizer o número de vendas (sales) com R² de pelo menos 0.85 usando a metodologia 80/20. <font color='red'> (2.0 pontos) </font>\n",
    "\n",
    "Nesta mesma célula markdown, descreva quais foram as técnicas que você usou para conseguir esse R².\n",
    "R: O primeiro algoritmo que testamos foi a de Regressão Linear, que para métrica de R² já foi superior a 0.85, mas percebemos que não era preciso escalonar, e também dropamos uma coluna que parecia ser apenas uma contagem, então seria indiferente para o algortimo, e no Final ficamos com 0.89 de R²."
   ]
  },
  {
   "cell_type": "code",
   "execution_count": 51,
   "id": "17faabf2",
   "metadata": {},
   "outputs": [],
   "source": [
    "# Escolhendo as colunas preditivas e alvo\n",
    "x = dados_marketing.drop(columns = ['sales', 'S.no']) # Colunas descritivas\n",
    "y = dados_marketing['sales']                # Valor alvo\n",
    "\n",
    "# Dividindo conjunto de treinamento e conjunto de teste\n",
    "x_train, x_test, y_train, y_test = train_test_split(x, y, test_size = 0.2, random_state = 42)"
   ]
  },
  {
   "cell_type": "code",
   "execution_count": 52,
   "id": "f8fa314b",
   "metadata": {},
   "outputs": [],
   "source": [
    "from sklearn.linear_model import LinearRegression"
   ]
  },
  {
   "cell_type": "code",
   "execution_count": 53,
   "id": "fc590e5c",
   "metadata": {},
   "outputs": [
    {
     "data": {
      "text/plain": [
       "LinearRegression()"
      ]
     },
     "execution_count": 53,
     "metadata": {},
     "output_type": "execute_result"
    }
   ],
   "source": [
    "lr = LinearRegression()  # Criamos o objeto do regressor (não mudamos nenhum hiperpârametro)\n",
    "\n",
    "lr.fit(x_train,y_train) # Treinamos o regressor passando apenas o conjunto de dados de treinamento "
   ]
  },
  {
   "cell_type": "code",
   "execution_count": 54,
   "id": "58deca3f",
   "metadata": {},
   "outputs": [],
   "source": [
    "y_predicoes = lr.predict(x_test) "
   ]
  },
  {
   "cell_type": "code",
   "execution_count": 55,
   "id": "94f1e9b9",
   "metadata": {},
   "outputs": [],
   "source": [
    "from sklearn.metrics import mean_squared_error, mean_absolute_error, r2_score\n",
    "from scipy.stats import pearsonr"
   ]
  },
  {
   "cell_type": "code",
   "execution_count": 56,
   "id": "5bc255d6",
   "metadata": {},
   "outputs": [
    {
     "name": "stdout",
     "output_type": "stream",
     "text": [
      "R2:  0.899438024100912\n"
     ]
    }
   ],
   "source": [
    "R2 = r2_score(y_true = y_test,   \n",
    "              y_pred = y_predicoes) # Respostas do algoritmo passado teste realizado\n",
    "print('R2: ', R2)  # Quanto mais próximos de 1 melhor"
   ]
  },
  {
   "cell_type": "markdown",
   "id": "aa1de08b",
   "metadata": {},
   "source": [
    "---------------------------\n",
    "## Dataset: Fiats usados\n",
    "\n",
    "Você recebeu dados sobre carros FIAT usados. Você quer prever o valor do carro a partir dos atributos descritivos dele.\n",
    "\n",
    "Mais informações: https://www.kaggle.com/datasets/paolocons/small-dataset-about-used-fiat-500-sold-in-italy\n",
    "\n",
    "### Questão 3:  Carregue os dados descritivos e alvo na mesma tabela. Gere estatísticas básicas para todos os dados e calcule o preço médio e a média das idades (em dias) dos carros por modelo. <font color='red'> (1.25 pontos) </font>\n",
    "\n",
    "Dica: considere usar o comando do pandas .groupby()"
   ]
  },
  {
   "cell_type": "code",
   "execution_count": 57,
   "id": "6add07d3",
   "metadata": {},
   "outputs": [],
   "source": [
    "dados_fiat = pd.read_csv('Used_fiat_500.csv')"
   ]
  },
  {
   "cell_type": "code",
   "execution_count": 58,
   "id": "3ca0f644",
   "metadata": {},
   "outputs": [
    {
     "data": {
      "text/html": [
       "<div>\n",
       "<style scoped>\n",
       "    .dataframe tbody tr th:only-of-type {\n",
       "        vertical-align: middle;\n",
       "    }\n",
       "\n",
       "    .dataframe tbody tr th {\n",
       "        vertical-align: top;\n",
       "    }\n",
       "\n",
       "    .dataframe thead th {\n",
       "        text-align: right;\n",
       "    }\n",
       "</style>\n",
       "<table border=\"1\" class=\"dataframe\">\n",
       "  <thead>\n",
       "    <tr style=\"text-align: right;\">\n",
       "      <th></th>\n",
       "      <th>model</th>\n",
       "      <th>engine_power</th>\n",
       "      <th>transmission</th>\n",
       "      <th>age_in_days</th>\n",
       "      <th>km</th>\n",
       "      <th>previous_owners</th>\n",
       "      <th>lat</th>\n",
       "      <th>lon</th>\n",
       "      <th>price</th>\n",
       "    </tr>\n",
       "  </thead>\n",
       "  <tbody>\n",
       "    <tr>\n",
       "      <th>0</th>\n",
       "      <td>pop</td>\n",
       "      <td>69</td>\n",
       "      <td>manual</td>\n",
       "      <td>4474</td>\n",
       "      <td>56779</td>\n",
       "      <td>2</td>\n",
       "      <td>45.071079</td>\n",
       "      <td>7.46403</td>\n",
       "      <td>4490</td>\n",
       "    </tr>\n",
       "    <tr>\n",
       "      <th>1</th>\n",
       "      <td>lounge</td>\n",
       "      <td>69</td>\n",
       "      <td>manual</td>\n",
       "      <td>2708</td>\n",
       "      <td>160000</td>\n",
       "      <td>1</td>\n",
       "      <td>45.069679</td>\n",
       "      <td>7.70492</td>\n",
       "      <td>4500</td>\n",
       "    </tr>\n",
       "    <tr>\n",
       "      <th>2</th>\n",
       "      <td>lounge</td>\n",
       "      <td>69</td>\n",
       "      <td>automatic</td>\n",
       "      <td>3470</td>\n",
       "      <td>170000</td>\n",
       "      <td>2</td>\n",
       "      <td>45.514599</td>\n",
       "      <td>9.28434</td>\n",
       "      <td>4500</td>\n",
       "    </tr>\n",
       "    <tr>\n",
       "      <th>3</th>\n",
       "      <td>sport</td>\n",
       "      <td>69</td>\n",
       "      <td>manual</td>\n",
       "      <td>3288</td>\n",
       "      <td>132000</td>\n",
       "      <td>2</td>\n",
       "      <td>41.903221</td>\n",
       "      <td>12.49565</td>\n",
       "      <td>4700</td>\n",
       "    </tr>\n",
       "    <tr>\n",
       "      <th>4</th>\n",
       "      <td>sport</td>\n",
       "      <td>69</td>\n",
       "      <td>manual</td>\n",
       "      <td>3712</td>\n",
       "      <td>124490</td>\n",
       "      <td>2</td>\n",
       "      <td>45.532661</td>\n",
       "      <td>9.03892</td>\n",
       "      <td>4790</td>\n",
       "    </tr>\n",
       "  </tbody>\n",
       "</table>\n",
       "</div>"
      ],
      "text/plain": [
       "    model  engine_power transmission  age_in_days      km  previous_owners  \\\n",
       "0     pop            69       manual         4474   56779                2   \n",
       "1  lounge            69       manual         2708  160000                1   \n",
       "2  lounge            69    automatic         3470  170000                2   \n",
       "3   sport            69       manual         3288  132000                2   \n",
       "4   sport            69       manual         3712  124490                2   \n",
       "\n",
       "         lat       lon  price  \n",
       "0  45.071079   7.46403   4490  \n",
       "1  45.069679   7.70492   4500  \n",
       "2  45.514599   9.28434   4500  \n",
       "3  41.903221  12.49565   4700  \n",
       "4  45.532661   9.03892   4790  "
      ]
     },
     "execution_count": 58,
     "metadata": {},
     "output_type": "execute_result"
    }
   ],
   "source": [
    "dados_fiat.head()"
   ]
  },
  {
   "cell_type": "code",
   "execution_count": 59,
   "id": "3dc4840a",
   "metadata": {},
   "outputs": [
    {
     "data": {
      "text/html": [
       "<div>\n",
       "<style scoped>\n",
       "    .dataframe tbody tr th:only-of-type {\n",
       "        vertical-align: middle;\n",
       "    }\n",
       "\n",
       "    .dataframe tbody tr th {\n",
       "        vertical-align: top;\n",
       "    }\n",
       "\n",
       "    .dataframe thead th {\n",
       "        text-align: right;\n",
       "    }\n",
       "</style>\n",
       "<table border=\"1\" class=\"dataframe\">\n",
       "  <thead>\n",
       "    <tr style=\"text-align: right;\">\n",
       "      <th></th>\n",
       "      <th>engine_power</th>\n",
       "      <th>age_in_days</th>\n",
       "      <th>km</th>\n",
       "      <th>previous_owners</th>\n",
       "      <th>lat</th>\n",
       "      <th>lon</th>\n",
       "      <th>price</th>\n",
       "    </tr>\n",
       "  </thead>\n",
       "  <tbody>\n",
       "    <tr>\n",
       "      <th>count</th>\n",
       "      <td>380.000000</td>\n",
       "      <td>380.000000</td>\n",
       "      <td>380.000000</td>\n",
       "      <td>380.000000</td>\n",
       "      <td>380.000000</td>\n",
       "      <td>380.000000</td>\n",
       "      <td>380.000000</td>\n",
       "    </tr>\n",
       "    <tr>\n",
       "      <th>mean</th>\n",
       "      <td>73.015789</td>\n",
       "      <td>3310.265789</td>\n",
       "      <td>102196.250000</td>\n",
       "      <td>1.510526</td>\n",
       "      <td>44.257712</td>\n",
       "      <td>10.742644</td>\n",
       "      <td>5881.655263</td>\n",
       "    </tr>\n",
       "    <tr>\n",
       "      <th>std</th>\n",
       "      <td>9.984672</td>\n",
       "      <td>1437.555063</td>\n",
       "      <td>47115.355234</td>\n",
       "      <td>0.560244</td>\n",
       "      <td>1.767518</td>\n",
       "      <td>2.167753</td>\n",
       "      <td>2170.617946</td>\n",
       "    </tr>\n",
       "    <tr>\n",
       "      <th>min</th>\n",
       "      <td>69.000000</td>\n",
       "      <td>91.000000</td>\n",
       "      <td>4981.000000</td>\n",
       "      <td>1.000000</td>\n",
       "      <td>37.510872</td>\n",
       "      <td>7.320720</td>\n",
       "      <td>2890.000000</td>\n",
       "    </tr>\n",
       "    <tr>\n",
       "      <th>25%</th>\n",
       "      <td>69.000000</td>\n",
       "      <td>3097.250000</td>\n",
       "      <td>76611.750000</td>\n",
       "      <td>1.000000</td>\n",
       "      <td>43.514196</td>\n",
       "      <td>9.159140</td>\n",
       "      <td>4600.000000</td>\n",
       "    </tr>\n",
       "    <tr>\n",
       "      <th>50%</th>\n",
       "      <td>69.000000</td>\n",
       "      <td>3927.000000</td>\n",
       "      <td>112000.000000</td>\n",
       "      <td>1.000000</td>\n",
       "      <td>45.069679</td>\n",
       "      <td>10.301505</td>\n",
       "      <td>5000.000000</td>\n",
       "    </tr>\n",
       "    <tr>\n",
       "      <th>75%</th>\n",
       "      <td>69.000000</td>\n",
       "      <td>4322.000000</td>\n",
       "      <td>135000.000000</td>\n",
       "      <td>2.000000</td>\n",
       "      <td>45.556942</td>\n",
       "      <td>12.346788</td>\n",
       "      <td>5500.000000</td>\n",
       "    </tr>\n",
       "    <tr>\n",
       "      <th>max</th>\n",
       "      <td>101.000000</td>\n",
       "      <td>4719.000000</td>\n",
       "      <td>259000.000000</td>\n",
       "      <td>4.000000</td>\n",
       "      <td>46.781651</td>\n",
       "      <td>18.168011</td>\n",
       "      <td>15900.000000</td>\n",
       "    </tr>\n",
       "  </tbody>\n",
       "</table>\n",
       "</div>"
      ],
      "text/plain": [
       "       engine_power  age_in_days             km  previous_owners         lat  \\\n",
       "count    380.000000   380.000000     380.000000       380.000000  380.000000   \n",
       "mean      73.015789  3310.265789  102196.250000         1.510526   44.257712   \n",
       "std        9.984672  1437.555063   47115.355234         0.560244    1.767518   \n",
       "min       69.000000    91.000000    4981.000000         1.000000   37.510872   \n",
       "25%       69.000000  3097.250000   76611.750000         1.000000   43.514196   \n",
       "50%       69.000000  3927.000000  112000.000000         1.000000   45.069679   \n",
       "75%       69.000000  4322.000000  135000.000000         2.000000   45.556942   \n",
       "max      101.000000  4719.000000  259000.000000         4.000000   46.781651   \n",
       "\n",
       "              lon         price  \n",
       "count  380.000000    380.000000  \n",
       "mean    10.742644   5881.655263  \n",
       "std      2.167753   2170.617946  \n",
       "min      7.320720   2890.000000  \n",
       "25%      9.159140   4600.000000  \n",
       "50%     10.301505   5000.000000  \n",
       "75%     12.346788   5500.000000  \n",
       "max     18.168011  15900.000000  "
      ]
     },
     "execution_count": 59,
     "metadata": {},
     "output_type": "execute_result"
    }
   ],
   "source": [
    "dados_fiat.describe()"
   ]
  },
  {
   "cell_type": "code",
   "execution_count": 60,
   "id": "69f7e6be",
   "metadata": {},
   "outputs": [],
   "source": [
    "dados_fiat_mean= dados_fiat[['model', 'price']]"
   ]
  },
  {
   "cell_type": "code",
   "execution_count": 61,
   "id": "2f8f9116",
   "metadata": {},
   "outputs": [
    {
     "data": {
      "text/html": [
       "<div>\n",
       "<style scoped>\n",
       "    .dataframe tbody tr th:only-of-type {\n",
       "        vertical-align: middle;\n",
       "    }\n",
       "\n",
       "    .dataframe tbody tr th {\n",
       "        vertical-align: top;\n",
       "    }\n",
       "\n",
       "    .dataframe thead th {\n",
       "        text-align: right;\n",
       "    }\n",
       "</style>\n",
       "<table border=\"1\" class=\"dataframe\">\n",
       "  <thead>\n",
       "    <tr style=\"text-align: right;\">\n",
       "      <th></th>\n",
       "      <th>price</th>\n",
       "    </tr>\n",
       "    <tr>\n",
       "      <th>model</th>\n",
       "      <th></th>\n",
       "    </tr>\n",
       "  </thead>\n",
       "  <tbody>\n",
       "    <tr>\n",
       "      <th>lounge</th>\n",
       "      <td>6175.740566</td>\n",
       "    </tr>\n",
       "    <tr>\n",
       "      <th>pop</th>\n",
       "      <td>5618.990196</td>\n",
       "    </tr>\n",
       "    <tr>\n",
       "      <th>sport</th>\n",
       "      <td>5256.076923</td>\n",
       "    </tr>\n",
       "    <tr>\n",
       "      <th>star</th>\n",
       "      <td>10990.000000</td>\n",
       "    </tr>\n",
       "  </tbody>\n",
       "</table>\n",
       "</div>"
      ],
      "text/plain": [
       "               price\n",
       "model               \n",
       "lounge   6175.740566\n",
       "pop      5618.990196\n",
       "sport    5256.076923\n",
       "star    10990.000000"
      ]
     },
     "execution_count": 61,
     "metadata": {},
     "output_type": "execute_result"
    }
   ],
   "source": [
    "dados_fiat_mean.groupby('model').mean()"
   ]
  },
  {
   "cell_type": "markdown",
   "id": "8a16105b",
   "metadata": {},
   "source": [
    "### Questão 4:  Crie um regressor para determinar o preço do carro. Eles não devem usar a latitude e a longitude do vendedor, mas devem usar a transmissão (transforme e uma única coluna com 0 e 1). Use a metodologia 80/20. Calcule a MAE, MSE e R² do seu modelo e diga se o acha bom o suficiente. <font color='red'> (2.0 pontos) </font>\n"
   ]
  },
  {
   "cell_type": "code",
   "execution_count": 62,
   "id": "4a612507",
   "metadata": {},
   "outputs": [],
   "source": [
    "def converte_transmissao(transmissao):\n",
    "    if transmissao == 'manual':\n",
    "        return 0\n",
    "    else:\n",
    "        return 1"
   ]
  },
  {
   "cell_type": "code",
   "execution_count": 63,
   "id": "42f4b7bd",
   "metadata": {},
   "outputs": [],
   "source": [
    "dados_fiat['transmission'] = dados_fiat['transmission'].apply(converte_transmissao)"
   ]
  },
  {
   "cell_type": "code",
   "execution_count": 64,
   "id": "d18b977e",
   "metadata": {},
   "outputs": [],
   "source": [
    "from sklearn.preprocessing import StandardScaler, MinMaxScaler"
   ]
  },
  {
   "cell_type": "code",
   "execution_count": 65,
   "id": "23a10022",
   "metadata": {},
   "outputs": [],
   "source": [
    "# Escolhendo as colunas preditivas e alvo\n",
    "x = dados_fiat.drop(columns = ['price','model', 'lat', 'lon']) # Colunas descritivas\n",
    "y = dados_fiat['price'] # Valor alvo\n",
    "\n",
    "# Dividindo conjunto de treinamento e conjunto de teste\n",
    "x_train, x_test, y_train, y_test = train_test_split(x, y, test_size = 0.2, random_state = 42)"
   ]
  },
  {
   "cell_type": "code",
   "execution_count": 66,
   "id": "6b92ffd0",
   "metadata": {},
   "outputs": [
    {
     "data": {
      "text/plain": [
       "LinearRegression()"
      ]
     },
     "execution_count": 66,
     "metadata": {},
     "output_type": "execute_result"
    }
   ],
   "source": [
    "lr = LinearRegression()  # Criamos o objeto do regressor (não mudamos nenhum hiperpârametro)\n",
    "lr.fit(x_train,y_train) # Treinamos o regressor passando apenas o conjunto de dados de treinamento "
   ]
  },
  {
   "cell_type": "code",
   "execution_count": 67,
   "id": "892c3e83",
   "metadata": {},
   "outputs": [
    {
     "name": "stdout",
     "output_type": "stream",
     "text": [
      "R2_LR:  0.8821366513797342\n",
      "MAE_LR:  608.5428653506118\n",
      "MSE_LR:  601643.490150421\n"
     ]
    }
   ],
   "source": [
    "# 3 - Teste da Regressão Linear\n",
    "y_predicoes = lr.predict(x_test)\n",
    "R2 = r2_score(y_true = y_test,      # Gabarito\n",
    "              y_pred = y_predicoes) # Respostas do algoritmo ao teste realizado\n",
    "print('R2_LR: ', R2)  # Quanto mais próximos de 1 melhor\n",
    "\n",
    "MAE = mean_absolute_error(y_true = y_test,      # Gabarito\n",
    "                          y_pred = y_predicoes) # Respostas do algoritmo ao teste realizado\n",
    "print('MAE_LR: ', MAE)\n",
    "\n",
    "MSE = mean_squared_error(y_true = y_test,      # Gabarito\n",
    "                         y_pred = y_predicoes) # Respostas do algoritmo ao teste realizado\n",
    "print('MSE_LR: ', MSE)"
   ]
  },
  {
   "cell_type": "code",
   "execution_count": 68,
   "id": "985192bc",
   "metadata": {},
   "outputs": [
    {
     "data": {
      "text/html": [
       "<div>\n",
       "<style scoped>\n",
       "    .dataframe tbody tr th:only-of-type {\n",
       "        vertical-align: middle;\n",
       "    }\n",
       "\n",
       "    .dataframe tbody tr th {\n",
       "        vertical-align: top;\n",
       "    }\n",
       "\n",
       "    .dataframe thead th {\n",
       "        text-align: right;\n",
       "    }\n",
       "</style>\n",
       "<table border=\"1\" class=\"dataframe\">\n",
       "  <thead>\n",
       "    <tr style=\"text-align: right;\">\n",
       "      <th></th>\n",
       "      <th>model</th>\n",
       "      <th>engine_power</th>\n",
       "      <th>transmission</th>\n",
       "      <th>age_in_days</th>\n",
       "      <th>km</th>\n",
       "      <th>previous_owners</th>\n",
       "      <th>lat</th>\n",
       "      <th>lon</th>\n",
       "      <th>price</th>\n",
       "    </tr>\n",
       "  </thead>\n",
       "  <tbody>\n",
       "    <tr>\n",
       "      <th>0</th>\n",
       "      <td>pop</td>\n",
       "      <td>69</td>\n",
       "      <td>0</td>\n",
       "      <td>4474</td>\n",
       "      <td>56779</td>\n",
       "      <td>2</td>\n",
       "      <td>45.071079</td>\n",
       "      <td>7.46403</td>\n",
       "      <td>4490</td>\n",
       "    </tr>\n",
       "    <tr>\n",
       "      <th>1</th>\n",
       "      <td>lounge</td>\n",
       "      <td>69</td>\n",
       "      <td>0</td>\n",
       "      <td>2708</td>\n",
       "      <td>160000</td>\n",
       "      <td>1</td>\n",
       "      <td>45.069679</td>\n",
       "      <td>7.70492</td>\n",
       "      <td>4500</td>\n",
       "    </tr>\n",
       "    <tr>\n",
       "      <th>2</th>\n",
       "      <td>lounge</td>\n",
       "      <td>69</td>\n",
       "      <td>1</td>\n",
       "      <td>3470</td>\n",
       "      <td>170000</td>\n",
       "      <td>2</td>\n",
       "      <td>45.514599</td>\n",
       "      <td>9.28434</td>\n",
       "      <td>4500</td>\n",
       "    </tr>\n",
       "    <tr>\n",
       "      <th>3</th>\n",
       "      <td>sport</td>\n",
       "      <td>69</td>\n",
       "      <td>0</td>\n",
       "      <td>3288</td>\n",
       "      <td>132000</td>\n",
       "      <td>2</td>\n",
       "      <td>41.903221</td>\n",
       "      <td>12.49565</td>\n",
       "      <td>4700</td>\n",
       "    </tr>\n",
       "    <tr>\n",
       "      <th>4</th>\n",
       "      <td>sport</td>\n",
       "      <td>69</td>\n",
       "      <td>0</td>\n",
       "      <td>3712</td>\n",
       "      <td>124490</td>\n",
       "      <td>2</td>\n",
       "      <td>45.532661</td>\n",
       "      <td>9.03892</td>\n",
       "      <td>4790</td>\n",
       "    </tr>\n",
       "  </tbody>\n",
       "</table>\n",
       "</div>"
      ],
      "text/plain": [
       "    model  engine_power  transmission  age_in_days      km  previous_owners  \\\n",
       "0     pop            69             0         4474   56779                2   \n",
       "1  lounge            69             0         2708  160000                1   \n",
       "2  lounge            69             1         3470  170000                2   \n",
       "3   sport            69             0         3288  132000                2   \n",
       "4   sport            69             0         3712  124490                2   \n",
       "\n",
       "         lat       lon  price  \n",
       "0  45.071079   7.46403   4490  \n",
       "1  45.069679   7.70492   4500  \n",
       "2  45.514599   9.28434   4500  \n",
       "3  41.903221  12.49565   4700  \n",
       "4  45.532661   9.03892   4790  "
      ]
     },
     "execution_count": 68,
     "metadata": {},
     "output_type": "execute_result"
    }
   ],
   "source": [
    "dados_fiat.head()"
   ]
  },
  {
   "cell_type": "markdown",
   "id": "69dff78d",
   "metadata": {},
   "source": [
    "### Questão 5: Agrupamento  <font color='red'> (3.5 ponto)</font>\n",
    "\n",
    "(a) Calule a quilometragem por ano de cada carro. Diga, use a função fornecida.\n",
    "\n",
    "(b) Use um algoritmo de agrupamento para gerar clusters nos dados dos carros usados. Use somente as colunas km_per_year e price.\n",
    "\n",
    "(c) Plote um gráfico de dispersão (scatterplot) com 4 subplotes. Todos os subplotes tem x = km_per_year e y = price. Use o parâmtro hue para que o primeiro subplote seja pintado pela coluna transmissiob, o segundo subplote pela coluna model, o terceiro pela coluna engine_power e o quarto pela coluna dos labels do agrupador do item (b). Considere usar a escala logaritmos em ambos os eixos. \n",
    "\n",
    "Dica: use o seaborn e set os eixos através de algo como axes[1][1].set_yscale('log'), onde [1][1] indica o gráfico no canto inferior direito e [0][0] indica o gráfico no canto superior esquerda em um subplot de 4 gráficos."
   ]
  },
  {
   "cell_type": "code",
   "execution_count": 71,
   "id": "db482f88",
   "metadata": {},
   "outputs": [],
   "source": [
    "def km_per_year(km,year):return(km/year)\n",
    "dados_fiat['km_per_year'] = dados_fiat.apply(lambda dados_fiat: km_per_year(dados_fiat['km'], dados_fiat['age_in_days']/365), axis=1) # Valor aproximado na KM, não considerado anos bissextos."
   ]
  },
  {
   "cell_type": "code",
   "execution_count": 72,
   "id": "7c3d1264",
   "metadata": {},
   "outputs": [
    {
     "data": {
      "text/html": [
       "<div>\n",
       "<style scoped>\n",
       "    .dataframe tbody tr th:only-of-type {\n",
       "        vertical-align: middle;\n",
       "    }\n",
       "\n",
       "    .dataframe tbody tr th {\n",
       "        vertical-align: top;\n",
       "    }\n",
       "\n",
       "    .dataframe thead th {\n",
       "        text-align: right;\n",
       "    }\n",
       "</style>\n",
       "<table border=\"1\" class=\"dataframe\">\n",
       "  <thead>\n",
       "    <tr style=\"text-align: right;\">\n",
       "      <th></th>\n",
       "      <th>model</th>\n",
       "      <th>engine_power</th>\n",
       "      <th>transmission</th>\n",
       "      <th>age_in_days</th>\n",
       "      <th>km</th>\n",
       "      <th>previous_owners</th>\n",
       "      <th>lat</th>\n",
       "      <th>lon</th>\n",
       "      <th>price</th>\n",
       "      <th>km_per_year</th>\n",
       "    </tr>\n",
       "  </thead>\n",
       "  <tbody>\n",
       "    <tr>\n",
       "      <th>0</th>\n",
       "      <td>pop</td>\n",
       "      <td>69</td>\n",
       "      <td>0</td>\n",
       "      <td>4474</td>\n",
       "      <td>56779</td>\n",
       "      <td>2</td>\n",
       "      <td>45.071079</td>\n",
       "      <td>7.46403</td>\n",
       "      <td>4490</td>\n",
       "      <td>4632.171435</td>\n",
       "    </tr>\n",
       "    <tr>\n",
       "      <th>1</th>\n",
       "      <td>lounge</td>\n",
       "      <td>69</td>\n",
       "      <td>0</td>\n",
       "      <td>2708</td>\n",
       "      <td>160000</td>\n",
       "      <td>1</td>\n",
       "      <td>45.069679</td>\n",
       "      <td>7.70492</td>\n",
       "      <td>4500</td>\n",
       "      <td>21565.731167</td>\n",
       "    </tr>\n",
       "    <tr>\n",
       "      <th>2</th>\n",
       "      <td>lounge</td>\n",
       "      <td>69</td>\n",
       "      <td>1</td>\n",
       "      <td>3470</td>\n",
       "      <td>170000</td>\n",
       "      <td>2</td>\n",
       "      <td>45.514599</td>\n",
       "      <td>9.28434</td>\n",
       "      <td>4500</td>\n",
       "      <td>17881.844380</td>\n",
       "    </tr>\n",
       "    <tr>\n",
       "      <th>3</th>\n",
       "      <td>sport</td>\n",
       "      <td>69</td>\n",
       "      <td>0</td>\n",
       "      <td>3288</td>\n",
       "      <td>132000</td>\n",
       "      <td>2</td>\n",
       "      <td>41.903221</td>\n",
       "      <td>12.49565</td>\n",
       "      <td>4700</td>\n",
       "      <td>14653.284672</td>\n",
       "    </tr>\n",
       "    <tr>\n",
       "      <th>4</th>\n",
       "      <td>sport</td>\n",
       "      <td>69</td>\n",
       "      <td>0</td>\n",
       "      <td>3712</td>\n",
       "      <td>124490</td>\n",
       "      <td>2</td>\n",
       "      <td>45.532661</td>\n",
       "      <td>9.03892</td>\n",
       "      <td>4790</td>\n",
       "      <td>12241.069504</td>\n",
       "    </tr>\n",
       "  </tbody>\n",
       "</table>\n",
       "</div>"
      ],
      "text/plain": [
       "    model  engine_power  transmission  age_in_days      km  previous_owners  \\\n",
       "0     pop            69             0         4474   56779                2   \n",
       "1  lounge            69             0         2708  160000                1   \n",
       "2  lounge            69             1         3470  170000                2   \n",
       "3   sport            69             0         3288  132000                2   \n",
       "4   sport            69             0         3712  124490                2   \n",
       "\n",
       "         lat       lon  price   km_per_year  \n",
       "0  45.071079   7.46403   4490   4632.171435  \n",
       "1  45.069679   7.70492   4500  21565.731167  \n",
       "2  45.514599   9.28434   4500  17881.844380  \n",
       "3  41.903221  12.49565   4700  14653.284672  \n",
       "4  45.532661   9.03892   4790  12241.069504  "
      ]
     },
     "execution_count": 72,
     "metadata": {},
     "output_type": "execute_result"
    }
   ],
   "source": [
    "dados_fiat.head()"
   ]
  },
  {
   "cell_type": "code",
   "execution_count": 73,
   "id": "0a0bf209",
   "metadata": {},
   "outputs": [],
   "source": [
    "dados_grouping=dados_fiat[['km_per_year', 'price']]"
   ]
  },
  {
   "cell_type": "code",
   "execution_count": 74,
   "id": "932d87d6",
   "metadata": {},
   "outputs": [],
   "source": [
    "# Modelos de agrupamento\n",
    "km = KMeans(n_clusters=4, random_state=42)            # KNN k=4"
   ]
  },
  {
   "cell_type": "code",
   "execution_count": 75,
   "id": "72f0f0b6",
   "metadata": {},
   "outputs": [],
   "source": [
    "km_class = km.fit_predict(dados_grouping)  "
   ]
  },
  {
   "cell_type": "code",
   "execution_count": 76,
   "id": "7e27e141",
   "metadata": {},
   "outputs": [
    {
     "data": {
      "text/plain": [
       "<AxesSubplot:xlabel='km_per_year', ylabel='price'>"
      ]
     },
     "execution_count": 76,
     "metadata": {},
     "output_type": "execute_result"
    },
    {
     "data": {
      "image/png": "[encoded data removed]",
      "text/plain": [
       "<Figure size 1200x800 with 4 Axes>"
      ]
     },
     "metadata": {
      "needs_background": "light"
     },
     "output_type": "display_data"
    }
   ],
   "source": [
    "fig, axes = plt.subplots(2, 2, figsize=(15, 10), dpi=80)\n",
    "\n",
    "sns.scatterplot(ax=axes[0][0],\n",
    "            data=dados_fiat,  \n",
    "            x = dados_fiat['km_per_year'],\n",
    "            y = dados_fiat['price'],    \n",
    "            hue = dados_fiat['transmission'],\n",
    "            )\n",
    "\n",
    "sns.scatterplot(ax=axes[0][1],\n",
    "            data=dados_fiat,  \n",
    "            x = dados_fiat['km_per_year'],\n",
    "            y = dados_fiat['price'],    \n",
    "            hue = dados_fiat['model'],\n",
    "            )\n",
    "\n",
    "sns.scatterplot(ax=axes[1][0],\n",
    "            data=dados_fiat,  \n",
    "            x = dados_fiat['km_per_year'],\n",
    "            y = dados_fiat['price'],    \n",
    "            hue = dados_fiat['engine_power'],\n",
    "            )\n",
    "\n",
    "sns.scatterplot(ax=axes[1][1],\n",
    "            data=dados_fiat,  \n",
    "            x = dados_fiat['km_per_year'],\n",
    "            y = dados_fiat['price'],    \n",
    "            hue = km_class,\n",
    "            )"
   ]
  }
 ],
 "metadata": {
  "kernelspec": {
   "display_name": "Python 3 (ipykernel)",
   "language": "python",
   "name": "python3"
  },
  "language_info": {
   "codemirror_mode": {
    "name": "ipython",
    "version": 3
   },
   "file_extension": ".py",
   "mimetype": "text/x-python",
   "name": "python",
   "nbconvert_exporter": "python",
   "pygments_lexer": "ipython3",
   "version": "3.10.2"
  }
 },
 "nbformat": 4,
 "nbformat_minor": 5
}
